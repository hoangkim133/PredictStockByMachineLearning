{
 "cells": [
  {
   "cell_type": "markdown",
   "metadata": {
    "id": "QWd8GxpVQX55"
   },
   "source": [
    "# Current constituents of VN30\n"
   ]
  },
  {
   "cell_type": "code",
   "execution_count": 25,
   "metadata": {
    "id": "vXgDwCc_QX58",
    "pycharm": {
     "name": "#%%\n"
    }
   },
   "outputs": [],
   "source": [
    "#importing packages\n",
    "import pandas as pd\n",
    "import numpy as np\n",
    "import datetime as dt\n",
    "import pandas_datareader as pdr\n",
    "import seaborn as sns\n",
    "import matplotlib.pyplot as plt\n",
    "import bs4 as bs\n",
    "import requests\n",
    "from IPython.display import clear_output\n",
    "from scipy.stats import mstats\n",
    "from sklearn.cluster import KMeans\n",
    "from sklearn.mixture import GaussianMixture\n",
    "from sklearn.model_selection import RandomizedSearchCV, validation_curve, TimeSeriesSplit\n",
    "from sklearn.ensemble import RandomForestClassifier\n",
    "import pickle\n",
    "import os\n",
    "from sklearn.model_selection import GridSearchCV\n",
    "sns.set()"
   ]
  },
  {
   "cell_type": "code",
   "execution_count": 26,
   "metadata": {
    "id": "Rjb2S8ByQX5-",
    "outputId": "8dff27b8-bb42-4941-af9d-bc9ad44d7c4e",
    "pycharm": {
     "name": "#%%\n"
    }
   },
   "outputs": [
    {
     "data": {
      "text/plain": "               Open     High      Low    Close    Volume Symbol    Return  \\\nDate                                                                        \n2007-01-03  21758.0  21903.0  21541.0  21686.0    183398    ACB  0.010155   \n2007-01-04  22338.0  22483.0  21758.0  22483.0    342745    ACB  0.036752   \n2007-01-05  22628.0  23209.0  22483.0  22846.0    346181    ACB  0.016146   \n2007-01-08  22773.0  23209.0  22048.0  22701.0    228067    ACB -0.006347   \n2007-01-09  22773.0  22919.0  22338.0  22628.0    210028    ACB -0.003216   \n...             ...      ...      ...      ...       ...    ...       ...   \n2022-02-24  34650.0  34900.0  33150.0  34000.0  12182800    VRE -0.025788   \n2022-02-25  34400.0  34500.0  34000.0  34000.0   4080500    VRE  0.000000   \n2022-02-28  34000.0  34200.0  33500.0  33500.0   5203100    VRE -0.014706   \n2022-03-01  33500.0  33900.0  33300.0  33500.0   4021300    VRE  0.000000   \n2022-03-02  33500.0  33500.0  32650.0  32800.0   6841300    VRE -0.020896   \n\n              SMA_5        SMA_15  SMA_ratio  ...     ADX_15  Stochastic_5  \\\nDate                                          ...                            \n2007-01-03  21607.2  20971.000000   0.970556  ...  25.093592     45.034483   \n2007-01-04  21830.6  21116.000000   0.967266  ...  25.703732    100.000000   \n2007-01-05  22048.2  21284.266667   0.965352  ...  26.701074     80.752916   \n2007-01-08  22236.8  21414.800000   0.963034  ...  27.078960     73.064687   \n2007-01-09  22468.8  21530.800000   0.958253  ...  27.431653     65.167866   \n...             ...           ...        ...  ...        ...           ...   \n2022-02-24  34220.0  34620.000000   1.011689  ...  11.822802     36.956522   \n2022-02-25  34300.0  34556.666667   1.007483  ...  11.259089     36.956522   \n2022-02-28  34180.0  34423.333333   1.007119  ...  11.087806     15.217391   \n2022-03-01  33980.0  34290.000000   1.009123  ...  11.068330     15.217391   \n2022-03-02  33560.0  34083.333333   1.015594  ...  11.492228      6.666667   \n\n            Stochastic_15  Stochastic_%D_5  Stochastic_%D_15  \\\nDate                                                           \n2007-01-03      72.526715        68.308864         59.549210   \n2007-01-04     100.000000        69.677010         63.185447   \n2007-01-05      89.991729        70.825870         67.090601   \n2007-01-08      85.993934        70.437084         69.642131   \n2007-01-09      83.981252        72.803990         71.377526   \n...                   ...              ...               ...   \n2022-02-24      31.325301        59.885884         52.557598   \n2022-02-25      31.325301        58.496701         49.535255   \n2022-02-28      20.000000        47.881643         45.421543   \n2022-03-01      20.000000        35.369565         42.201801   \n2022-03-02       3.703704        22.202899         37.928297   \n\n            Stochastic_Ratio      RSI_5     RSI_15  RSI_ratio        MACD  \nDate                                                                       \n2007-01-03          1.147099  68.712603  62.903213   1.092354  515.231459  \n2007-01-04          1.102738  81.871143  68.653723   1.192523  655.267330  \n2007-01-05          1.055675  85.373348  70.858164   1.204848  785.277116  \n2007-01-08          1.011415  77.862786  68.787792   1.131927  798.187944  \n2007-01-09          1.019985  73.778245  67.720467   1.089453  757.253097  \n...                      ...        ...        ...        ...         ...  \n2022-02-24          1.139433  43.861083  50.799622   0.863414   55.787953  \n2022-02-25          1.180910  43.861083  50.799622   0.863414  -14.422548  \n2022-02-28          1.054162  35.174406  48.262017   0.728822 -158.944401  \n2022-03-01          0.838106  35.174406  48.262017   0.728822 -236.626132  \n2022-03-02          0.585391  24.541986  44.675389   0.549340 -417.914386  \n\n[55815 rows x 27 columns]",
      "text/html": "<div>\n<style scoped>\n    .dataframe tbody tr th:only-of-type {\n        vertical-align: middle;\n    }\n\n    .dataframe tbody tr th {\n        vertical-align: top;\n    }\n\n    .dataframe thead th {\n        text-align: right;\n    }\n</style>\n<table border=\"1\" class=\"dataframe\">\n  <thead>\n    <tr style=\"text-align: right;\">\n      <th></th>\n      <th>Open</th>\n      <th>High</th>\n      <th>Low</th>\n      <th>Close</th>\n      <th>Volume</th>\n      <th>Symbol</th>\n      <th>Return</th>\n      <th>SMA_5</th>\n      <th>SMA_15</th>\n      <th>SMA_ratio</th>\n      <th>...</th>\n      <th>ADX_15</th>\n      <th>Stochastic_5</th>\n      <th>Stochastic_15</th>\n      <th>Stochastic_%D_5</th>\n      <th>Stochastic_%D_15</th>\n      <th>Stochastic_Ratio</th>\n      <th>RSI_5</th>\n      <th>RSI_15</th>\n      <th>RSI_ratio</th>\n      <th>MACD</th>\n    </tr>\n    <tr>\n      <th>Date</th>\n      <th></th>\n      <th></th>\n      <th></th>\n      <th></th>\n      <th></th>\n      <th></th>\n      <th></th>\n      <th></th>\n      <th></th>\n      <th></th>\n      <th></th>\n      <th></th>\n      <th></th>\n      <th></th>\n      <th></th>\n      <th></th>\n      <th></th>\n      <th></th>\n      <th></th>\n      <th></th>\n      <th></th>\n    </tr>\n  </thead>\n  <tbody>\n    <tr>\n      <th>2007-01-03</th>\n      <td>21758.0</td>\n      <td>21903.0</td>\n      <td>21541.0</td>\n      <td>21686.0</td>\n      <td>183398</td>\n      <td>ACB</td>\n      <td>0.010155</td>\n      <td>21607.2</td>\n      <td>20971.000000</td>\n      <td>0.970556</td>\n      <td>...</td>\n      <td>25.093592</td>\n      <td>45.034483</td>\n      <td>72.526715</td>\n      <td>68.308864</td>\n      <td>59.549210</td>\n      <td>1.147099</td>\n      <td>68.712603</td>\n      <td>62.903213</td>\n      <td>1.092354</td>\n      <td>515.231459</td>\n    </tr>\n    <tr>\n      <th>2007-01-04</th>\n      <td>22338.0</td>\n      <td>22483.0</td>\n      <td>21758.0</td>\n      <td>22483.0</td>\n      <td>342745</td>\n      <td>ACB</td>\n      <td>0.036752</td>\n      <td>21830.6</td>\n      <td>21116.000000</td>\n      <td>0.967266</td>\n      <td>...</td>\n      <td>25.703732</td>\n      <td>100.000000</td>\n      <td>100.000000</td>\n      <td>69.677010</td>\n      <td>63.185447</td>\n      <td>1.102738</td>\n      <td>81.871143</td>\n      <td>68.653723</td>\n      <td>1.192523</td>\n      <td>655.267330</td>\n    </tr>\n    <tr>\n      <th>2007-01-05</th>\n      <td>22628.0</td>\n      <td>23209.0</td>\n      <td>22483.0</td>\n      <td>22846.0</td>\n      <td>346181</td>\n      <td>ACB</td>\n      <td>0.016146</td>\n      <td>22048.2</td>\n      <td>21284.266667</td>\n      <td>0.965352</td>\n      <td>...</td>\n      <td>26.701074</td>\n      <td>80.752916</td>\n      <td>89.991729</td>\n      <td>70.825870</td>\n      <td>67.090601</td>\n      <td>1.055675</td>\n      <td>85.373348</td>\n      <td>70.858164</td>\n      <td>1.204848</td>\n      <td>785.277116</td>\n    </tr>\n    <tr>\n      <th>2007-01-08</th>\n      <td>22773.0</td>\n      <td>23209.0</td>\n      <td>22048.0</td>\n      <td>22701.0</td>\n      <td>228067</td>\n      <td>ACB</td>\n      <td>-0.006347</td>\n      <td>22236.8</td>\n      <td>21414.800000</td>\n      <td>0.963034</td>\n      <td>...</td>\n      <td>27.078960</td>\n      <td>73.064687</td>\n      <td>85.993934</td>\n      <td>70.437084</td>\n      <td>69.642131</td>\n      <td>1.011415</td>\n      <td>77.862786</td>\n      <td>68.787792</td>\n      <td>1.131927</td>\n      <td>798.187944</td>\n    </tr>\n    <tr>\n      <th>2007-01-09</th>\n      <td>22773.0</td>\n      <td>22919.0</td>\n      <td>22338.0</td>\n      <td>22628.0</td>\n      <td>210028</td>\n      <td>ACB</td>\n      <td>-0.003216</td>\n      <td>22468.8</td>\n      <td>21530.800000</td>\n      <td>0.958253</td>\n      <td>...</td>\n      <td>27.431653</td>\n      <td>65.167866</td>\n      <td>83.981252</td>\n      <td>72.803990</td>\n      <td>71.377526</td>\n      <td>1.019985</td>\n      <td>73.778245</td>\n      <td>67.720467</td>\n      <td>1.089453</td>\n      <td>757.253097</td>\n    </tr>\n    <tr>\n      <th>...</th>\n      <td>...</td>\n      <td>...</td>\n      <td>...</td>\n      <td>...</td>\n      <td>...</td>\n      <td>...</td>\n      <td>...</td>\n      <td>...</td>\n      <td>...</td>\n      <td>...</td>\n      <td>...</td>\n      <td>...</td>\n      <td>...</td>\n      <td>...</td>\n      <td>...</td>\n      <td>...</td>\n      <td>...</td>\n      <td>...</td>\n      <td>...</td>\n      <td>...</td>\n      <td>...</td>\n    </tr>\n    <tr>\n      <th>2022-02-24</th>\n      <td>34650.0</td>\n      <td>34900.0</td>\n      <td>33150.0</td>\n      <td>34000.0</td>\n      <td>12182800</td>\n      <td>VRE</td>\n      <td>-0.025788</td>\n      <td>34220.0</td>\n      <td>34620.000000</td>\n      <td>1.011689</td>\n      <td>...</td>\n      <td>11.822802</td>\n      <td>36.956522</td>\n      <td>31.325301</td>\n      <td>59.885884</td>\n      <td>52.557598</td>\n      <td>1.139433</td>\n      <td>43.861083</td>\n      <td>50.799622</td>\n      <td>0.863414</td>\n      <td>55.787953</td>\n    </tr>\n    <tr>\n      <th>2022-02-25</th>\n      <td>34400.0</td>\n      <td>34500.0</td>\n      <td>34000.0</td>\n      <td>34000.0</td>\n      <td>4080500</td>\n      <td>VRE</td>\n      <td>0.000000</td>\n      <td>34300.0</td>\n      <td>34556.666667</td>\n      <td>1.007483</td>\n      <td>...</td>\n      <td>11.259089</td>\n      <td>36.956522</td>\n      <td>31.325301</td>\n      <td>58.496701</td>\n      <td>49.535255</td>\n      <td>1.180910</td>\n      <td>43.861083</td>\n      <td>50.799622</td>\n      <td>0.863414</td>\n      <td>-14.422548</td>\n    </tr>\n    <tr>\n      <th>2022-02-28</th>\n      <td>34000.0</td>\n      <td>34200.0</td>\n      <td>33500.0</td>\n      <td>33500.0</td>\n      <td>5203100</td>\n      <td>VRE</td>\n      <td>-0.014706</td>\n      <td>34180.0</td>\n      <td>34423.333333</td>\n      <td>1.007119</td>\n      <td>...</td>\n      <td>11.087806</td>\n      <td>15.217391</td>\n      <td>20.000000</td>\n      <td>47.881643</td>\n      <td>45.421543</td>\n      <td>1.054162</td>\n      <td>35.174406</td>\n      <td>48.262017</td>\n      <td>0.728822</td>\n      <td>-158.944401</td>\n    </tr>\n    <tr>\n      <th>2022-03-01</th>\n      <td>33500.0</td>\n      <td>33900.0</td>\n      <td>33300.0</td>\n      <td>33500.0</td>\n      <td>4021300</td>\n      <td>VRE</td>\n      <td>0.000000</td>\n      <td>33980.0</td>\n      <td>34290.000000</td>\n      <td>1.009123</td>\n      <td>...</td>\n      <td>11.068330</td>\n      <td>15.217391</td>\n      <td>20.000000</td>\n      <td>35.369565</td>\n      <td>42.201801</td>\n      <td>0.838106</td>\n      <td>35.174406</td>\n      <td>48.262017</td>\n      <td>0.728822</td>\n      <td>-236.626132</td>\n    </tr>\n    <tr>\n      <th>2022-03-02</th>\n      <td>33500.0</td>\n      <td>33500.0</td>\n      <td>32650.0</td>\n      <td>32800.0</td>\n      <td>6841300</td>\n      <td>VRE</td>\n      <td>-0.020896</td>\n      <td>33560.0</td>\n      <td>34083.333333</td>\n      <td>1.015594</td>\n      <td>...</td>\n      <td>11.492228</td>\n      <td>6.666667</td>\n      <td>3.703704</td>\n      <td>22.202899</td>\n      <td>37.928297</td>\n      <td>0.585391</td>\n      <td>24.541986</td>\n      <td>44.675389</td>\n      <td>0.549340</td>\n      <td>-417.914386</td>\n    </tr>\n  </tbody>\n</table>\n<p>55815 rows × 27 columns</p>\n</div>"
     },
     "execution_count": 26,
     "metadata": {},
     "output_type": "execute_result"
    }
   ],
   "source": [
    "all_data = pd.read_csv(\"VN30_data.csv\", index_col=0, parse_dates=True)\n",
    "all_data"
   ]
  },
  {
   "cell_type": "code",
   "execution_count": 27,
   "metadata": {
    "id": "JzgdRmNiQX5_",
    "outputId": "f42cac50-c0b0-4119-eaf9-b19627b217cb",
    "pycharm": {
     "name": "#%%\n"
    }
   },
   "outputs": [
    {
     "data": {
      "text/plain": "29"
     },
     "execution_count": 27,
     "metadata": {},
     "output_type": "execute_result"
    }
   ],
   "source": [
    "len(set(all_data['Symbol']))"
   ]
  },
  {
   "cell_type": "code",
   "execution_count": 28,
   "metadata": {
    "id": "lrTXMNMhQX5_",
    "pycharm": {
     "name": "#%%\n"
    }
   },
   "outputs": [
    {
     "name": "stdout",
     "output_type": "stream",
     "text": [
      "{'VRE', 'HDB', 'GAS', 'TCB', 'PLX', 'KDH', 'VIC', 'PNJ', 'FPT', 'BID', 'MWG', 'VCB', 'POW', 'TPB', 'ACB', 'GVR', 'BVH', 'MBB', 'MSN', 'VNM', 'SSI', 'NVL', 'PDR', 'SAB', 'HPG', 'VJC', 'CTG', 'VHM', 'VPB'}\n"
     ]
    }
   ],
   "source": [
    "print(set(all_data['Symbol']))"
   ]
  },
  {
   "cell_type": "markdown",
   "metadata": {
    "id": "Q42nrob3QX5_"
   },
   "source": [
    "# Creating Prediction variable"
   ]
  },
  {
   "cell_type": "markdown",
   "metadata": {
    "id": "FPA3ypnZQX6A"
   },
   "source": [
    "Now that we have formed all the variables that will be used in predicting the stock movement, we need to define the prediction variable.\n",
    "Technical Indicators generally work well in short interval predictions and since our indicators have been based on 5-day and 15-day periods, I use a 7 (trading) days prediction interval. Thus, the idea is to observe the technical indicators for today and use it to predict the direction of movement of the stocks 7 days later. If the stock went up in 7 days, we denote it by 1 and if it went down/did not change, we denote it by 0 (“Target_Direction”). In order to make this even more comprehensive, let us look at it from a real-world point of view. If we look at the indicators today, we will buy the next day’s opening price and hold for 7 trading days, including the day we bought, and sell at the Closing 7 days later. Thus, in our code, we will have to shift the price by just 6 days. Our profit will be the difference between our buy (Opening price of day 1) and sell (Closing price of day 7)\n",
    "In the below code, we define the Target variable as the percentage profit defined above. This is transformed into a Target Direction (1 or 0) variable as described above, which forms our prediction variable.\n"
   ]
  },
  {
   "cell_type": "code",
   "execution_count": 29,
   "metadata": {
    "id": "O-olElAxQX6A",
    "pycharm": {
     "name": "#%%\n"
    }
   },
   "outputs": [],
   "source": [
    "Target_variables = ['SMA_ratio','ATR_5','ATR_15','ATR_Ratio',\n",
    "                       'ADX_5','ADX_15','SMA_Volume_Ratio','Stochastic_5','Stochastic_15','Stochastic_Ratio',\n",
    "                      'RSI_5','RSI_15','RSI_ratio','MACD']\n",
    "for variable in Target_variables:\n",
    "    all_data.loc[:,variable] = mstats.winsorize(all_data.loc[:,variable], limits = [0.1,0.1])"
   ]
  },
  {
   "cell_type": "code",
   "execution_count": 30,
   "metadata": {
    "id": "no2xCXIRQX6B",
    "outputId": "144037f6-dbfe-4abd-cbf1-47f59b45826f",
    "pycharm": {
     "name": "#%%\n"
    }
   },
   "outputs": [
    {
     "data": {
      "text/plain": "               Open     High      Low    Close    Volume Symbol    Return  \\\nDate                                                                        \n2007-01-03  21758.0  21903.0  21541.0  21686.0    183398    ACB  0.010155   \n2007-01-04  22338.0  22483.0  21758.0  22483.0    342745    ACB  0.036752   \n2007-01-05  22628.0  23209.0  22483.0  22846.0    346181    ACB  0.016146   \n2007-01-08  22773.0  23209.0  22048.0  22701.0    228067    ACB -0.006347   \n2007-01-09  22773.0  22919.0  22338.0  22628.0    210028    ACB -0.003216   \n...             ...      ...      ...      ...       ...    ...       ...   \n2022-02-24  34650.0  34900.0  33150.0  34000.0  12182800    VRE -0.025788   \n2022-02-25  34400.0  34500.0  34000.0  34000.0   4080500    VRE  0.000000   \n2022-02-28  34000.0  34200.0  33500.0  33500.0   5203100    VRE -0.014706   \n2022-03-01  33500.0  33900.0  33300.0  33500.0   4021300    VRE  0.000000   \n2022-03-02  33500.0  33500.0  32650.0  32800.0   6841300    VRE -0.020896   \n\n              SMA_5        SMA_15  SMA_ratio  ...     ADX_15  Stochastic_5  \\\nDate                                          ...                            \n2007-01-03  21607.2  20971.000000   0.970556  ...  25.093592     45.034483   \n2007-01-04  21830.6  21116.000000   0.967266  ...  25.703732     92.329280   \n2007-01-05  22048.2  21284.266667   0.965352  ...  26.701074     80.752916   \n2007-01-08  22236.8  21414.800000   0.963034  ...  27.078960     73.064687   \n2007-01-09  22468.8  21530.800000   0.961256  ...  27.431653     65.167866   \n...             ...           ...        ...  ...        ...           ...   \n2022-02-24  34220.0  34620.000000   1.011689  ...  13.815142     36.956522   \n2022-02-25  34300.0  34556.666667   1.007483  ...  13.815142     36.956522   \n2022-02-28  34180.0  34423.333333   1.007119  ...  13.815142     15.217391   \n2022-03-01  33980.0  34290.000000   1.009123  ...  13.815142     15.217391   \n2022-03-02  33560.0  34083.333333   1.015594  ...  13.815142      7.132018   \n\n            Stochastic_15  Stochastic_%D_5  Stochastic_%D_15  \\\nDate                                                           \n2007-01-03      72.526715        68.308864         59.549210   \n2007-01-04      91.438122        69.677010         63.185447   \n2007-01-05      89.991729        70.825870         67.090601   \n2007-01-08      85.993934        70.437084         69.642131   \n2007-01-09      83.981252        72.803990         71.377526   \n...                   ...              ...               ...   \n2022-02-24      31.325301        59.885884         52.557598   \n2022-02-25      31.325301        58.496701         49.535255   \n2022-02-28      20.000000        47.881643         45.421543   \n2022-03-01      20.000000        35.369565         42.201801   \n2022-03-02      10.000720        22.202899         37.928297   \n\n            Stochastic_Ratio      RSI_5     RSI_15  RSI_ratio        MACD  \nDate                                                                       \n2007-01-03          1.147099  68.712603  62.903213   1.092354  515.231459  \n2007-01-04          1.102738  79.824566  68.496611   1.192523  655.267330  \n2007-01-05          1.055675  79.824566  68.496611   1.204848  785.277116  \n2007-01-08          1.011415  77.862786  68.496611   1.131927  798.187944  \n2007-01-09          1.019985  73.778245  67.720467   1.089453  757.253097  \n...                      ...        ...        ...        ...         ...  \n2022-02-24          1.139433  43.861083  50.799622   0.863414   55.787953  \n2022-02-25          1.180910  43.861083  50.799622   0.863414  -14.422548  \n2022-02-28          1.054162  35.174406  48.262017   0.728822 -158.944401  \n2022-03-01          0.838106  35.174406  48.262017   0.728822 -236.626132  \n2022-03-02          0.585391  24.541986  44.675389   0.613829 -417.914386  \n\n[55815 rows x 27 columns]",
      "text/html": "<div>\n<style scoped>\n    .dataframe tbody tr th:only-of-type {\n        vertical-align: middle;\n    }\n\n    .dataframe tbody tr th {\n        vertical-align: top;\n    }\n\n    .dataframe thead th {\n        text-align: right;\n    }\n</style>\n<table border=\"1\" class=\"dataframe\">\n  <thead>\n    <tr style=\"text-align: right;\">\n      <th></th>\n      <th>Open</th>\n      <th>High</th>\n      <th>Low</th>\n      <th>Close</th>\n      <th>Volume</th>\n      <th>Symbol</th>\n      <th>Return</th>\n      <th>SMA_5</th>\n      <th>SMA_15</th>\n      <th>SMA_ratio</th>\n      <th>...</th>\n      <th>ADX_15</th>\n      <th>Stochastic_5</th>\n      <th>Stochastic_15</th>\n      <th>Stochastic_%D_5</th>\n      <th>Stochastic_%D_15</th>\n      <th>Stochastic_Ratio</th>\n      <th>RSI_5</th>\n      <th>RSI_15</th>\n      <th>RSI_ratio</th>\n      <th>MACD</th>\n    </tr>\n    <tr>\n      <th>Date</th>\n      <th></th>\n      <th></th>\n      <th></th>\n      <th></th>\n      <th></th>\n      <th></th>\n      <th></th>\n      <th></th>\n      <th></th>\n      <th></th>\n      <th></th>\n      <th></th>\n      <th></th>\n      <th></th>\n      <th></th>\n      <th></th>\n      <th></th>\n      <th></th>\n      <th></th>\n      <th></th>\n      <th></th>\n    </tr>\n  </thead>\n  <tbody>\n    <tr>\n      <th>2007-01-03</th>\n      <td>21758.0</td>\n      <td>21903.0</td>\n      <td>21541.0</td>\n      <td>21686.0</td>\n      <td>183398</td>\n      <td>ACB</td>\n      <td>0.010155</td>\n      <td>21607.2</td>\n      <td>20971.000000</td>\n      <td>0.970556</td>\n      <td>...</td>\n      <td>25.093592</td>\n      <td>45.034483</td>\n      <td>72.526715</td>\n      <td>68.308864</td>\n      <td>59.549210</td>\n      <td>1.147099</td>\n      <td>68.712603</td>\n      <td>62.903213</td>\n      <td>1.092354</td>\n      <td>515.231459</td>\n    </tr>\n    <tr>\n      <th>2007-01-04</th>\n      <td>22338.0</td>\n      <td>22483.0</td>\n      <td>21758.0</td>\n      <td>22483.0</td>\n      <td>342745</td>\n      <td>ACB</td>\n      <td>0.036752</td>\n      <td>21830.6</td>\n      <td>21116.000000</td>\n      <td>0.967266</td>\n      <td>...</td>\n      <td>25.703732</td>\n      <td>92.329280</td>\n      <td>91.438122</td>\n      <td>69.677010</td>\n      <td>63.185447</td>\n      <td>1.102738</td>\n      <td>79.824566</td>\n      <td>68.496611</td>\n      <td>1.192523</td>\n      <td>655.267330</td>\n    </tr>\n    <tr>\n      <th>2007-01-05</th>\n      <td>22628.0</td>\n      <td>23209.0</td>\n      <td>22483.0</td>\n      <td>22846.0</td>\n      <td>346181</td>\n      <td>ACB</td>\n      <td>0.016146</td>\n      <td>22048.2</td>\n      <td>21284.266667</td>\n      <td>0.965352</td>\n      <td>...</td>\n      <td>26.701074</td>\n      <td>80.752916</td>\n      <td>89.991729</td>\n      <td>70.825870</td>\n      <td>67.090601</td>\n      <td>1.055675</td>\n      <td>79.824566</td>\n      <td>68.496611</td>\n      <td>1.204848</td>\n      <td>785.277116</td>\n    </tr>\n    <tr>\n      <th>2007-01-08</th>\n      <td>22773.0</td>\n      <td>23209.0</td>\n      <td>22048.0</td>\n      <td>22701.0</td>\n      <td>228067</td>\n      <td>ACB</td>\n      <td>-0.006347</td>\n      <td>22236.8</td>\n      <td>21414.800000</td>\n      <td>0.963034</td>\n      <td>...</td>\n      <td>27.078960</td>\n      <td>73.064687</td>\n      <td>85.993934</td>\n      <td>70.437084</td>\n      <td>69.642131</td>\n      <td>1.011415</td>\n      <td>77.862786</td>\n      <td>68.496611</td>\n      <td>1.131927</td>\n      <td>798.187944</td>\n    </tr>\n    <tr>\n      <th>2007-01-09</th>\n      <td>22773.0</td>\n      <td>22919.0</td>\n      <td>22338.0</td>\n      <td>22628.0</td>\n      <td>210028</td>\n      <td>ACB</td>\n      <td>-0.003216</td>\n      <td>22468.8</td>\n      <td>21530.800000</td>\n      <td>0.961256</td>\n      <td>...</td>\n      <td>27.431653</td>\n      <td>65.167866</td>\n      <td>83.981252</td>\n      <td>72.803990</td>\n      <td>71.377526</td>\n      <td>1.019985</td>\n      <td>73.778245</td>\n      <td>67.720467</td>\n      <td>1.089453</td>\n      <td>757.253097</td>\n    </tr>\n    <tr>\n      <th>...</th>\n      <td>...</td>\n      <td>...</td>\n      <td>...</td>\n      <td>...</td>\n      <td>...</td>\n      <td>...</td>\n      <td>...</td>\n      <td>...</td>\n      <td>...</td>\n      <td>...</td>\n      <td>...</td>\n      <td>...</td>\n      <td>...</td>\n      <td>...</td>\n      <td>...</td>\n      <td>...</td>\n      <td>...</td>\n      <td>...</td>\n      <td>...</td>\n      <td>...</td>\n      <td>...</td>\n    </tr>\n    <tr>\n      <th>2022-02-24</th>\n      <td>34650.0</td>\n      <td>34900.0</td>\n      <td>33150.0</td>\n      <td>34000.0</td>\n      <td>12182800</td>\n      <td>VRE</td>\n      <td>-0.025788</td>\n      <td>34220.0</td>\n      <td>34620.000000</td>\n      <td>1.011689</td>\n      <td>...</td>\n      <td>13.815142</td>\n      <td>36.956522</td>\n      <td>31.325301</td>\n      <td>59.885884</td>\n      <td>52.557598</td>\n      <td>1.139433</td>\n      <td>43.861083</td>\n      <td>50.799622</td>\n      <td>0.863414</td>\n      <td>55.787953</td>\n    </tr>\n    <tr>\n      <th>2022-02-25</th>\n      <td>34400.0</td>\n      <td>34500.0</td>\n      <td>34000.0</td>\n      <td>34000.0</td>\n      <td>4080500</td>\n      <td>VRE</td>\n      <td>0.000000</td>\n      <td>34300.0</td>\n      <td>34556.666667</td>\n      <td>1.007483</td>\n      <td>...</td>\n      <td>13.815142</td>\n      <td>36.956522</td>\n      <td>31.325301</td>\n      <td>58.496701</td>\n      <td>49.535255</td>\n      <td>1.180910</td>\n      <td>43.861083</td>\n      <td>50.799622</td>\n      <td>0.863414</td>\n      <td>-14.422548</td>\n    </tr>\n    <tr>\n      <th>2022-02-28</th>\n      <td>34000.0</td>\n      <td>34200.0</td>\n      <td>33500.0</td>\n      <td>33500.0</td>\n      <td>5203100</td>\n      <td>VRE</td>\n      <td>-0.014706</td>\n      <td>34180.0</td>\n      <td>34423.333333</td>\n      <td>1.007119</td>\n      <td>...</td>\n      <td>13.815142</td>\n      <td>15.217391</td>\n      <td>20.000000</td>\n      <td>47.881643</td>\n      <td>45.421543</td>\n      <td>1.054162</td>\n      <td>35.174406</td>\n      <td>48.262017</td>\n      <td>0.728822</td>\n      <td>-158.944401</td>\n    </tr>\n    <tr>\n      <th>2022-03-01</th>\n      <td>33500.0</td>\n      <td>33900.0</td>\n      <td>33300.0</td>\n      <td>33500.0</td>\n      <td>4021300</td>\n      <td>VRE</td>\n      <td>0.000000</td>\n      <td>33980.0</td>\n      <td>34290.000000</td>\n      <td>1.009123</td>\n      <td>...</td>\n      <td>13.815142</td>\n      <td>15.217391</td>\n      <td>20.000000</td>\n      <td>35.369565</td>\n      <td>42.201801</td>\n      <td>0.838106</td>\n      <td>35.174406</td>\n      <td>48.262017</td>\n      <td>0.728822</td>\n      <td>-236.626132</td>\n    </tr>\n    <tr>\n      <th>2022-03-02</th>\n      <td>33500.0</td>\n      <td>33500.0</td>\n      <td>32650.0</td>\n      <td>32800.0</td>\n      <td>6841300</td>\n      <td>VRE</td>\n      <td>-0.020896</td>\n      <td>33560.0</td>\n      <td>34083.333333</td>\n      <td>1.015594</td>\n      <td>...</td>\n      <td>13.815142</td>\n      <td>7.132018</td>\n      <td>10.000720</td>\n      <td>22.202899</td>\n      <td>37.928297</td>\n      <td>0.585391</td>\n      <td>24.541986</td>\n      <td>44.675389</td>\n      <td>0.613829</td>\n      <td>-417.914386</td>\n    </tr>\n  </tbody>\n</table>\n<p>55815 rows × 27 columns</p>\n</div>"
     },
     "execution_count": 30,
     "metadata": {},
     "output_type": "execute_result"
    }
   ],
   "source": [
    "all_data"
   ]
  },
  {
   "cell_type": "code",
   "execution_count": 31,
   "outputs": [
    {
     "data": {
      "text/plain": "          Open                                                              \\\n         count           mean           std       min        25%       50%   \nSymbol                                                                       \nACB     3773.0   17165.945455   6945.622823    7288.0   12298.00   14708.0   \nBID     1987.0   21889.614997   9903.471493    8006.4   12324.00   20932.1   \nBVH     3136.0   56726.555804  17351.298434   21146.0   42790.50   55500.0   \nCTG     3121.0   19749.646588   5693.295083   11330.0   16300.00   18043.0   \nFPT     2127.0   42592.712976  17567.875280   27686.0   32974.00   36295.0   \nGAS     2135.0   81052.501171  21858.882792   30100.0   64000.00   81000.0   \nGVR      948.0   18172.424051  10464.789037    7190.0   10243.00   12827.0   \nHDB     1004.0   21949.671614   9067.180294    8484.8   13957.55   19241.2   \nHPG     2131.0   24756.801830  10721.525091    9249.2   16501.25   20870.0   \nKDH     2143.0   20829.104060   8811.694008    8900.0   15082.00   19145.0   \nMBB     2120.0   17738.469340   6103.368978   11589.0   13238.00   15652.5   \nMSN     2115.0   74904.244444  27898.825520   39333.0   50333.00   77200.0   \nMWG     1877.0   54950.740011  31130.283354   13687.0   30510.00   54373.0   \nNVL     1260.0   41064.665079  18536.768207   25352.0   29767.25   33764.5   \nPDR     2056.0   25076.768482  23096.542840    7838.0   12899.00   16869.0   \nPLX     1185.0   58402.707173   9428.116984   35100.0   52800.00   57300.0   \nPNJ     3191.0   46473.787590  25810.027780   12500.0   23846.00   39000.0   \nPOW      960.0   12903.416667   2332.345348    7000.0   10937.50   12950.0   \nSAB     1276.0  212383.166144  42102.663708  112000.0  176975.00  213000.0   \nSSI     3746.0   11916.540897   8408.674834    2816.4    6727.90   10115.2   \nTCB      908.0   31022.797357  12055.751513   15000.0   22100.00   25800.0   \nTPB      937.0   17919.163394   8165.596167    9670.0   12762.00   13641.1   \nVCB     3133.0   31872.850942  23198.805386    7887.0   12370.00   23438.0   \nVHM      919.0   67647.150163   9922.167817   40482.0   60132.00   65745.0   \nVIC     2130.0   65477.052582  32675.040341   26424.0   34380.00   58925.5   \nVJC     1222.0  121678.079378  22813.654568   71048.0  111105.50  123350.0   \nVNM     2128.0  102591.997180  21397.070766   64236.0   88333.00   99167.0   \nVPB     1103.0   18240.922393   9328.847744    9416.8   11833.50   13500.1   \nVRE     1044.0   32074.853448   4634.176362   17700.0   28700.00   31900.0   \n\n                                High                 ...       Close  \\\n               75%       max   count           mean  ...         75%   \nSymbol                                               ...               \nACB      19842.000   43572.0  3773.0   17406.696422  ...   19764.000   \nBID      31130.100   49500.0  1987.0   22233.185858  ...   31103.200   \nBVH      65000.000  109400.0  3136.0   57631.184949  ...   65000.000   \nCTG      20800.000   42225.0  3121.0   20016.074335  ...   20800.000   \nFPT      42021.500  100100.0  2127.0   43044.002727  ...   42077.350   \nGAS      99000.000  136100.0  2135.0   82143.414988  ...   98900.000   \nGVR      28262.500   43300.0   948.0   18572.612869  ...   28300.000   \nHDB      28019.225   50067.0  1004.0   22252.369223  ...   28010.000   \nHPG      31014.000   58000.0  2131.0   25092.765462  ...   31252.000   \nKDH      22278.000   57000.0  2143.0   21091.813952  ...   22292.000   \nMBB      19731.000   43800.0  2120.0   17950.879953  ...   19765.000   \nMSN      88650.000  172000.0  2115.0   75939.170686  ...   88900.000   \nMWG      70860.000  144800.0  1877.0   55627.510922  ...   71056.000   \nNVL      38941.000   93969.0  1260.0   41551.504762  ...   38941.000   \nPDR      21540.500   99000.0  2056.0   25425.355885  ...   21561.075   \nPLX      62700.000   94200.0  1185.0   59170.312236  ...   62600.000   \nPNJ      70133.000  111000.0  3191.0   47079.344437  ...   70133.000   \nPOW      14400.000   20500.0   960.0   13112.302083  ...   14400.000   \nSAB     245000.000  341800.0  1276.0  214827.724922  ...  245575.000   \nSSI      13144.900   56800.0  3746.0   12088.532061  ...   13134.300   \nTCB      40550.000   57800.0   908.0   31433.204846  ...   40462.500   \nTPB      21000.000   43300.0   937.0   18181.045037  ...   21000.000   \nVCB      49608.000   95800.0  3133.0   32270.721673  ...   49762.000   \nVHM      76094.000   92758.0   919.0   68464.931447  ...   76094.000   \nVIC      98600.000  128000.0  2130.0   66243.875117  ...   98650.250   \nVJC     133775.000  189072.0  1222.0  122801.798691  ...  133600.000   \nVNM     111031.000  175333.0  2128.0  103538.116071  ...  111031.000   \nVPB      21040.400   40278.2  1103.0   18515.354488  ...   21056.600   \nVRE      34562.500   49061.0  1044.0   32570.555556  ...   34600.000   \n\n                  Volume                                                    \\\n             max   count          mean           std       min         25%   \nSymbol                                                                       \nACB      42410.0  3773.0  2.717391e+06  3.883353e+06    5552.0   315190.00   \nBID      49000.0  1987.0  2.445357e+06  1.927703e+06   67713.0  1072479.00   \nBVH     107900.0  3136.0  4.000420e+05  4.304990e+05    1128.0   130430.00   \nCTG      42148.0  3121.0  3.569356e+06  5.228547e+06   28079.0   428209.00   \nFPT     100000.0  2127.0  1.564160e+06  1.179493e+06   63825.0   703788.00   \nGAS     136100.0  2135.0  6.130221e+05  4.652504e+05   30860.0   288185.00   \nGVR      42100.0   948.0  2.071661e+06  2.324544e+06     300.0   240332.50   \nHDB      49970.0  1004.0  3.588859e+06  2.529418e+06  299190.0  1936280.00   \nHPG      58000.0  2131.0  9.939702e+06  1.041454e+07   86890.0  2369710.00   \nKDH      56800.0  2143.0  6.548921e+05  1.190432e+06     134.0   109697.00   \nMBB      43450.0  2120.0  5.779602e+06  6.589239e+06   58716.0  1027559.50   \nMSN     172000.0  2115.0  8.308697e+05  9.651571e+05    2175.0   258780.00   \nMWG     145000.0  1877.0  9.828811e+05  7.597562e+05    4300.0   456640.00   \nNVL      92366.0  1260.0  2.649613e+06  2.170175e+06  202910.0   909536.00   \nPDR      99000.0  2056.0  1.496834e+06  1.373141e+06      12.0   560825.75   \nPLX      93100.0  1185.0  1.079243e+06  1.014649e+06   19860.0   417220.00   \nPNJ     110800.0  3191.0  3.232414e+05  3.753508e+05       0.0    28213.50   \nPOW      20150.0   960.0  7.036469e+06  8.392740e+06  230770.0  1474942.25   \nSAB     339000.0  1276.0  8.703061e+04  8.674700e+04    1140.0    28652.50   \nSSI      55900.0  3746.0  6.035696e+06  5.858850e+06   10505.0  2124192.75   \nTCB      58000.0   908.0  7.417043e+06  8.410830e+06  419130.0  1590910.00   \nTPB      43000.0   937.0  2.784281e+06  3.633696e+06   21195.0   337226.00   \nVCB      95800.0  3133.0  1.423619e+06  1.124450e+06   50985.0   656064.00   \nVHM      91312.0   919.0  3.122231e+06  3.743927e+06   86044.0   758974.00   \nVIC     128000.0  2130.0  1.400503e+06  1.388668e+06   83170.0   513692.50   \nVJC     189072.0  1222.0  6.792553e+05  3.528932e+05  131550.0   451140.00   \nVNM     175578.0  2128.0  1.222897e+06  1.167151e+06   39773.0   421106.50   \nVPB      40389.3  1103.0  1.095923e+07  1.319421e+07  678570.0  4309423.50   \nVRE      49796.0  1044.0  3.757370e+06  2.946146e+06  356780.0  1623655.00   \n\n                                             \n              50%          75%          max  \nSymbol                                       \nACB     1026927.0   3590988.00   38980248.0  \nBID     2011490.0   3233344.00   19747202.0  \nBVH      255235.0    514795.00    4575300.0  \nCTG     1265670.0   4491490.00   43909500.0  \nFPT     1264330.0   2115275.50    8399400.0  \nGAS      499120.0    798315.00    4515800.0  \nGVR     1128940.0   3383050.00   15851200.0  \nHDB     2804895.0   4498247.50   21743000.0  \nHPG     6587800.0  13485035.00   75500000.0  \nKDH      223399.0    577425.00   14906700.0  \nMBB     3631278.0   7784675.00   50936100.0  \nMSN      525860.0   1027935.00    9870200.0  \nMWG      831885.0   1304999.00    8728181.0  \nNVL     2165408.5   3723677.00   18989364.0  \nPDR     1033466.5   2005675.00    8276900.0  \nPLX      773290.0   1359900.00    7387900.0  \nPNJ      198245.0    487856.00    2820800.0  \nPOW     3299103.5   9918300.00   68470096.0  \nSAB       58215.0    118600.00     950000.0  \nSSI     3963556.0   7755648.75   46709628.0  \nTCB     2968435.0  12156352.50   58235500.0  \nTPB      925034.0   4281524.00   24261516.0  \nVCB     1139517.0   1853862.00   11345819.0  \nVHM     1927054.0   4153950.00   30571310.0  \nVIC      950583.5   1809860.00   15130200.0  \nVJC      594485.0    809287.50    3731860.0  \nVNM      865300.0   1627392.25   11124540.0  \nVPB     7447905.0  12058861.00  137848624.0  \nVRE     2918720.0   5117120.00   24897800.0  \n\n[29 rows x 40 columns]",
      "text/html": "<div>\n<style scoped>\n    .dataframe tbody tr th:only-of-type {\n        vertical-align: middle;\n    }\n\n    .dataframe tbody tr th {\n        vertical-align: top;\n    }\n\n    .dataframe thead tr th {\n        text-align: left;\n    }\n\n    .dataframe thead tr:last-of-type th {\n        text-align: right;\n    }\n</style>\n<table border=\"1\" class=\"dataframe\">\n  <thead>\n    <tr>\n      <th></th>\n      <th colspan=\"8\" halign=\"left\">Open</th>\n      <th colspan=\"2\" halign=\"left\">High</th>\n      <th>...</th>\n      <th colspan=\"2\" halign=\"left\">Close</th>\n      <th colspan=\"8\" halign=\"left\">Volume</th>\n    </tr>\n    <tr>\n      <th></th>\n      <th>count</th>\n      <th>mean</th>\n      <th>std</th>\n      <th>min</th>\n      <th>25%</th>\n      <th>50%</th>\n      <th>75%</th>\n      <th>max</th>\n      <th>count</th>\n      <th>mean</th>\n      <th>...</th>\n      <th>75%</th>\n      <th>max</th>\n      <th>count</th>\n      <th>mean</th>\n      <th>std</th>\n      <th>min</th>\n      <th>25%</th>\n      <th>50%</th>\n      <th>75%</th>\n      <th>max</th>\n    </tr>\n    <tr>\n      <th>Symbol</th>\n      <th></th>\n      <th></th>\n      <th></th>\n      <th></th>\n      <th></th>\n      <th></th>\n      <th></th>\n      <th></th>\n      <th></th>\n      <th></th>\n      <th></th>\n      <th></th>\n      <th></th>\n      <th></th>\n      <th></th>\n      <th></th>\n      <th></th>\n      <th></th>\n      <th></th>\n      <th></th>\n      <th></th>\n    </tr>\n  </thead>\n  <tbody>\n    <tr>\n      <th>ACB</th>\n      <td>3773.0</td>\n      <td>17165.945455</td>\n      <td>6945.622823</td>\n      <td>7288.0</td>\n      <td>12298.00</td>\n      <td>14708.0</td>\n      <td>19842.000</td>\n      <td>43572.0</td>\n      <td>3773.0</td>\n      <td>17406.696422</td>\n      <td>...</td>\n      <td>19764.000</td>\n      <td>42410.0</td>\n      <td>3773.0</td>\n      <td>2.717391e+06</td>\n      <td>3.883353e+06</td>\n      <td>5552.0</td>\n      <td>315190.00</td>\n      <td>1026927.0</td>\n      <td>3590988.00</td>\n      <td>38980248.0</td>\n    </tr>\n    <tr>\n      <th>BID</th>\n      <td>1987.0</td>\n      <td>21889.614997</td>\n      <td>9903.471493</td>\n      <td>8006.4</td>\n      <td>12324.00</td>\n      <td>20932.1</td>\n      <td>31130.100</td>\n      <td>49500.0</td>\n      <td>1987.0</td>\n      <td>22233.185858</td>\n      <td>...</td>\n      <td>31103.200</td>\n      <td>49000.0</td>\n      <td>1987.0</td>\n      <td>2.445357e+06</td>\n      <td>1.927703e+06</td>\n      <td>67713.0</td>\n      <td>1072479.00</td>\n      <td>2011490.0</td>\n      <td>3233344.00</td>\n      <td>19747202.0</td>\n    </tr>\n    <tr>\n      <th>BVH</th>\n      <td>3136.0</td>\n      <td>56726.555804</td>\n      <td>17351.298434</td>\n      <td>21146.0</td>\n      <td>42790.50</td>\n      <td>55500.0</td>\n      <td>65000.000</td>\n      <td>109400.0</td>\n      <td>3136.0</td>\n      <td>57631.184949</td>\n      <td>...</td>\n      <td>65000.000</td>\n      <td>107900.0</td>\n      <td>3136.0</td>\n      <td>4.000420e+05</td>\n      <td>4.304990e+05</td>\n      <td>1128.0</td>\n      <td>130430.00</td>\n      <td>255235.0</td>\n      <td>514795.00</td>\n      <td>4575300.0</td>\n    </tr>\n    <tr>\n      <th>CTG</th>\n      <td>3121.0</td>\n      <td>19749.646588</td>\n      <td>5693.295083</td>\n      <td>11330.0</td>\n      <td>16300.00</td>\n      <td>18043.0</td>\n      <td>20800.000</td>\n      <td>42225.0</td>\n      <td>3121.0</td>\n      <td>20016.074335</td>\n      <td>...</td>\n      <td>20800.000</td>\n      <td>42148.0</td>\n      <td>3121.0</td>\n      <td>3.569356e+06</td>\n      <td>5.228547e+06</td>\n      <td>28079.0</td>\n      <td>428209.00</td>\n      <td>1265670.0</td>\n      <td>4491490.00</td>\n      <td>43909500.0</td>\n    </tr>\n    <tr>\n      <th>FPT</th>\n      <td>2127.0</td>\n      <td>42592.712976</td>\n      <td>17567.875280</td>\n      <td>27686.0</td>\n      <td>32974.00</td>\n      <td>36295.0</td>\n      <td>42021.500</td>\n      <td>100100.0</td>\n      <td>2127.0</td>\n      <td>43044.002727</td>\n      <td>...</td>\n      <td>42077.350</td>\n      <td>100000.0</td>\n      <td>2127.0</td>\n      <td>1.564160e+06</td>\n      <td>1.179493e+06</td>\n      <td>63825.0</td>\n      <td>703788.00</td>\n      <td>1264330.0</td>\n      <td>2115275.50</td>\n      <td>8399400.0</td>\n    </tr>\n    <tr>\n      <th>GAS</th>\n      <td>2135.0</td>\n      <td>81052.501171</td>\n      <td>21858.882792</td>\n      <td>30100.0</td>\n      <td>64000.00</td>\n      <td>81000.0</td>\n      <td>99000.000</td>\n      <td>136100.0</td>\n      <td>2135.0</td>\n      <td>82143.414988</td>\n      <td>...</td>\n      <td>98900.000</td>\n      <td>136100.0</td>\n      <td>2135.0</td>\n      <td>6.130221e+05</td>\n      <td>4.652504e+05</td>\n      <td>30860.0</td>\n      <td>288185.00</td>\n      <td>499120.0</td>\n      <td>798315.00</td>\n      <td>4515800.0</td>\n    </tr>\n    <tr>\n      <th>GVR</th>\n      <td>948.0</td>\n      <td>18172.424051</td>\n      <td>10464.789037</td>\n      <td>7190.0</td>\n      <td>10243.00</td>\n      <td>12827.0</td>\n      <td>28262.500</td>\n      <td>43300.0</td>\n      <td>948.0</td>\n      <td>18572.612869</td>\n      <td>...</td>\n      <td>28300.000</td>\n      <td>42100.0</td>\n      <td>948.0</td>\n      <td>2.071661e+06</td>\n      <td>2.324544e+06</td>\n      <td>300.0</td>\n      <td>240332.50</td>\n      <td>1128940.0</td>\n      <td>3383050.00</td>\n      <td>15851200.0</td>\n    </tr>\n    <tr>\n      <th>HDB</th>\n      <td>1004.0</td>\n      <td>21949.671614</td>\n      <td>9067.180294</td>\n      <td>8484.8</td>\n      <td>13957.55</td>\n      <td>19241.2</td>\n      <td>28019.225</td>\n      <td>50067.0</td>\n      <td>1004.0</td>\n      <td>22252.369223</td>\n      <td>...</td>\n      <td>28010.000</td>\n      <td>49970.0</td>\n      <td>1004.0</td>\n      <td>3.588859e+06</td>\n      <td>2.529418e+06</td>\n      <td>299190.0</td>\n      <td>1936280.00</td>\n      <td>2804895.0</td>\n      <td>4498247.50</td>\n      <td>21743000.0</td>\n    </tr>\n    <tr>\n      <th>HPG</th>\n      <td>2131.0</td>\n      <td>24756.801830</td>\n      <td>10721.525091</td>\n      <td>9249.2</td>\n      <td>16501.25</td>\n      <td>20870.0</td>\n      <td>31014.000</td>\n      <td>58000.0</td>\n      <td>2131.0</td>\n      <td>25092.765462</td>\n      <td>...</td>\n      <td>31252.000</td>\n      <td>58000.0</td>\n      <td>2131.0</td>\n      <td>9.939702e+06</td>\n      <td>1.041454e+07</td>\n      <td>86890.0</td>\n      <td>2369710.00</td>\n      <td>6587800.0</td>\n      <td>13485035.00</td>\n      <td>75500000.0</td>\n    </tr>\n    <tr>\n      <th>KDH</th>\n      <td>2143.0</td>\n      <td>20829.104060</td>\n      <td>8811.694008</td>\n      <td>8900.0</td>\n      <td>15082.00</td>\n      <td>19145.0</td>\n      <td>22278.000</td>\n      <td>57000.0</td>\n      <td>2143.0</td>\n      <td>21091.813952</td>\n      <td>...</td>\n      <td>22292.000</td>\n      <td>56800.0</td>\n      <td>2143.0</td>\n      <td>6.548921e+05</td>\n      <td>1.190432e+06</td>\n      <td>134.0</td>\n      <td>109697.00</td>\n      <td>223399.0</td>\n      <td>577425.00</td>\n      <td>14906700.0</td>\n    </tr>\n    <tr>\n      <th>MBB</th>\n      <td>2120.0</td>\n      <td>17738.469340</td>\n      <td>6103.368978</td>\n      <td>11589.0</td>\n      <td>13238.00</td>\n      <td>15652.5</td>\n      <td>19731.000</td>\n      <td>43800.0</td>\n      <td>2120.0</td>\n      <td>17950.879953</td>\n      <td>...</td>\n      <td>19765.000</td>\n      <td>43450.0</td>\n      <td>2120.0</td>\n      <td>5.779602e+06</td>\n      <td>6.589239e+06</td>\n      <td>58716.0</td>\n      <td>1027559.50</td>\n      <td>3631278.0</td>\n      <td>7784675.00</td>\n      <td>50936100.0</td>\n    </tr>\n    <tr>\n      <th>MSN</th>\n      <td>2115.0</td>\n      <td>74904.244444</td>\n      <td>27898.825520</td>\n      <td>39333.0</td>\n      <td>50333.00</td>\n      <td>77200.0</td>\n      <td>88650.000</td>\n      <td>172000.0</td>\n      <td>2115.0</td>\n      <td>75939.170686</td>\n      <td>...</td>\n      <td>88900.000</td>\n      <td>172000.0</td>\n      <td>2115.0</td>\n      <td>8.308697e+05</td>\n      <td>9.651571e+05</td>\n      <td>2175.0</td>\n      <td>258780.00</td>\n      <td>525860.0</td>\n      <td>1027935.00</td>\n      <td>9870200.0</td>\n    </tr>\n    <tr>\n      <th>MWG</th>\n      <td>1877.0</td>\n      <td>54950.740011</td>\n      <td>31130.283354</td>\n      <td>13687.0</td>\n      <td>30510.00</td>\n      <td>54373.0</td>\n      <td>70860.000</td>\n      <td>144800.0</td>\n      <td>1877.0</td>\n      <td>55627.510922</td>\n      <td>...</td>\n      <td>71056.000</td>\n      <td>145000.0</td>\n      <td>1877.0</td>\n      <td>9.828811e+05</td>\n      <td>7.597562e+05</td>\n      <td>4300.0</td>\n      <td>456640.00</td>\n      <td>831885.0</td>\n      <td>1304999.00</td>\n      <td>8728181.0</td>\n    </tr>\n    <tr>\n      <th>NVL</th>\n      <td>1260.0</td>\n      <td>41064.665079</td>\n      <td>18536.768207</td>\n      <td>25352.0</td>\n      <td>29767.25</td>\n      <td>33764.5</td>\n      <td>38941.000</td>\n      <td>93969.0</td>\n      <td>1260.0</td>\n      <td>41551.504762</td>\n      <td>...</td>\n      <td>38941.000</td>\n      <td>92366.0</td>\n      <td>1260.0</td>\n      <td>2.649613e+06</td>\n      <td>2.170175e+06</td>\n      <td>202910.0</td>\n      <td>909536.00</td>\n      <td>2165408.5</td>\n      <td>3723677.00</td>\n      <td>18989364.0</td>\n    </tr>\n    <tr>\n      <th>PDR</th>\n      <td>2056.0</td>\n      <td>25076.768482</td>\n      <td>23096.542840</td>\n      <td>7838.0</td>\n      <td>12899.00</td>\n      <td>16869.0</td>\n      <td>21540.500</td>\n      <td>99000.0</td>\n      <td>2056.0</td>\n      <td>25425.355885</td>\n      <td>...</td>\n      <td>21561.075</td>\n      <td>99000.0</td>\n      <td>2056.0</td>\n      <td>1.496834e+06</td>\n      <td>1.373141e+06</td>\n      <td>12.0</td>\n      <td>560825.75</td>\n      <td>1033466.5</td>\n      <td>2005675.00</td>\n      <td>8276900.0</td>\n    </tr>\n    <tr>\n      <th>PLX</th>\n      <td>1185.0</td>\n      <td>58402.707173</td>\n      <td>9428.116984</td>\n      <td>35100.0</td>\n      <td>52800.00</td>\n      <td>57300.0</td>\n      <td>62700.000</td>\n      <td>94200.0</td>\n      <td>1185.0</td>\n      <td>59170.312236</td>\n      <td>...</td>\n      <td>62600.000</td>\n      <td>93100.0</td>\n      <td>1185.0</td>\n      <td>1.079243e+06</td>\n      <td>1.014649e+06</td>\n      <td>19860.0</td>\n      <td>417220.00</td>\n      <td>773290.0</td>\n      <td>1359900.00</td>\n      <td>7387900.0</td>\n    </tr>\n    <tr>\n      <th>PNJ</th>\n      <td>3191.0</td>\n      <td>46473.787590</td>\n      <td>25810.027780</td>\n      <td>12500.0</td>\n      <td>23846.00</td>\n      <td>39000.0</td>\n      <td>70133.000</td>\n      <td>111000.0</td>\n      <td>3191.0</td>\n      <td>47079.344437</td>\n      <td>...</td>\n      <td>70133.000</td>\n      <td>110800.0</td>\n      <td>3191.0</td>\n      <td>3.232414e+05</td>\n      <td>3.753508e+05</td>\n      <td>0.0</td>\n      <td>28213.50</td>\n      <td>198245.0</td>\n      <td>487856.00</td>\n      <td>2820800.0</td>\n    </tr>\n    <tr>\n      <th>POW</th>\n      <td>960.0</td>\n      <td>12903.416667</td>\n      <td>2332.345348</td>\n      <td>7000.0</td>\n      <td>10937.50</td>\n      <td>12950.0</td>\n      <td>14400.000</td>\n      <td>20500.0</td>\n      <td>960.0</td>\n      <td>13112.302083</td>\n      <td>...</td>\n      <td>14400.000</td>\n      <td>20150.0</td>\n      <td>960.0</td>\n      <td>7.036469e+06</td>\n      <td>8.392740e+06</td>\n      <td>230770.0</td>\n      <td>1474942.25</td>\n      <td>3299103.5</td>\n      <td>9918300.00</td>\n      <td>68470096.0</td>\n    </tr>\n    <tr>\n      <th>SAB</th>\n      <td>1276.0</td>\n      <td>212383.166144</td>\n      <td>42102.663708</td>\n      <td>112000.0</td>\n      <td>176975.00</td>\n      <td>213000.0</td>\n      <td>245000.000</td>\n      <td>341800.0</td>\n      <td>1276.0</td>\n      <td>214827.724922</td>\n      <td>...</td>\n      <td>245575.000</td>\n      <td>339000.0</td>\n      <td>1276.0</td>\n      <td>8.703061e+04</td>\n      <td>8.674700e+04</td>\n      <td>1140.0</td>\n      <td>28652.50</td>\n      <td>58215.0</td>\n      <td>118600.00</td>\n      <td>950000.0</td>\n    </tr>\n    <tr>\n      <th>SSI</th>\n      <td>3746.0</td>\n      <td>11916.540897</td>\n      <td>8408.674834</td>\n      <td>2816.4</td>\n      <td>6727.90</td>\n      <td>10115.2</td>\n      <td>13144.900</td>\n      <td>56800.0</td>\n      <td>3746.0</td>\n      <td>12088.532061</td>\n      <td>...</td>\n      <td>13134.300</td>\n      <td>55900.0</td>\n      <td>3746.0</td>\n      <td>6.035696e+06</td>\n      <td>5.858850e+06</td>\n      <td>10505.0</td>\n      <td>2124192.75</td>\n      <td>3963556.0</td>\n      <td>7755648.75</td>\n      <td>46709628.0</td>\n    </tr>\n    <tr>\n      <th>TCB</th>\n      <td>908.0</td>\n      <td>31022.797357</td>\n      <td>12055.751513</td>\n      <td>15000.0</td>\n      <td>22100.00</td>\n      <td>25800.0</td>\n      <td>40550.000</td>\n      <td>57800.0</td>\n      <td>908.0</td>\n      <td>31433.204846</td>\n      <td>...</td>\n      <td>40462.500</td>\n      <td>58000.0</td>\n      <td>908.0</td>\n      <td>7.417043e+06</td>\n      <td>8.410830e+06</td>\n      <td>419130.0</td>\n      <td>1590910.00</td>\n      <td>2968435.0</td>\n      <td>12156352.50</td>\n      <td>58235500.0</td>\n    </tr>\n    <tr>\n      <th>TPB</th>\n      <td>937.0</td>\n      <td>17919.163394</td>\n      <td>8165.596167</td>\n      <td>9670.0</td>\n      <td>12762.00</td>\n      <td>13641.1</td>\n      <td>21000.000</td>\n      <td>43300.0</td>\n      <td>937.0</td>\n      <td>18181.045037</td>\n      <td>...</td>\n      <td>21000.000</td>\n      <td>43000.0</td>\n      <td>937.0</td>\n      <td>2.784281e+06</td>\n      <td>3.633696e+06</td>\n      <td>21195.0</td>\n      <td>337226.00</td>\n      <td>925034.0</td>\n      <td>4281524.00</td>\n      <td>24261516.0</td>\n    </tr>\n    <tr>\n      <th>VCB</th>\n      <td>3133.0</td>\n      <td>31872.850942</td>\n      <td>23198.805386</td>\n      <td>7887.0</td>\n      <td>12370.00</td>\n      <td>23438.0</td>\n      <td>49608.000</td>\n      <td>95800.0</td>\n      <td>3133.0</td>\n      <td>32270.721673</td>\n      <td>...</td>\n      <td>49762.000</td>\n      <td>95800.0</td>\n      <td>3133.0</td>\n      <td>1.423619e+06</td>\n      <td>1.124450e+06</td>\n      <td>50985.0</td>\n      <td>656064.00</td>\n      <td>1139517.0</td>\n      <td>1853862.00</td>\n      <td>11345819.0</td>\n    </tr>\n    <tr>\n      <th>VHM</th>\n      <td>919.0</td>\n      <td>67647.150163</td>\n      <td>9922.167817</td>\n      <td>40482.0</td>\n      <td>60132.00</td>\n      <td>65745.0</td>\n      <td>76094.000</td>\n      <td>92758.0</td>\n      <td>919.0</td>\n      <td>68464.931447</td>\n      <td>...</td>\n      <td>76094.000</td>\n      <td>91312.0</td>\n      <td>919.0</td>\n      <td>3.122231e+06</td>\n      <td>3.743927e+06</td>\n      <td>86044.0</td>\n      <td>758974.00</td>\n      <td>1927054.0</td>\n      <td>4153950.00</td>\n      <td>30571310.0</td>\n    </tr>\n    <tr>\n      <th>VIC</th>\n      <td>2130.0</td>\n      <td>65477.052582</td>\n      <td>32675.040341</td>\n      <td>26424.0</td>\n      <td>34380.00</td>\n      <td>58925.5</td>\n      <td>98600.000</td>\n      <td>128000.0</td>\n      <td>2130.0</td>\n      <td>66243.875117</td>\n      <td>...</td>\n      <td>98650.250</td>\n      <td>128000.0</td>\n      <td>2130.0</td>\n      <td>1.400503e+06</td>\n      <td>1.388668e+06</td>\n      <td>83170.0</td>\n      <td>513692.50</td>\n      <td>950583.5</td>\n      <td>1809860.00</td>\n      <td>15130200.0</td>\n    </tr>\n    <tr>\n      <th>VJC</th>\n      <td>1222.0</td>\n      <td>121678.079378</td>\n      <td>22813.654568</td>\n      <td>71048.0</td>\n      <td>111105.50</td>\n      <td>123350.0</td>\n      <td>133775.000</td>\n      <td>189072.0</td>\n      <td>1222.0</td>\n      <td>122801.798691</td>\n      <td>...</td>\n      <td>133600.000</td>\n      <td>189072.0</td>\n      <td>1222.0</td>\n      <td>6.792553e+05</td>\n      <td>3.528932e+05</td>\n      <td>131550.0</td>\n      <td>451140.00</td>\n      <td>594485.0</td>\n      <td>809287.50</td>\n      <td>3731860.0</td>\n    </tr>\n    <tr>\n      <th>VNM</th>\n      <td>2128.0</td>\n      <td>102591.997180</td>\n      <td>21397.070766</td>\n      <td>64236.0</td>\n      <td>88333.00</td>\n      <td>99167.0</td>\n      <td>111031.000</td>\n      <td>175333.0</td>\n      <td>2128.0</td>\n      <td>103538.116071</td>\n      <td>...</td>\n      <td>111031.000</td>\n      <td>175578.0</td>\n      <td>2128.0</td>\n      <td>1.222897e+06</td>\n      <td>1.167151e+06</td>\n      <td>39773.0</td>\n      <td>421106.50</td>\n      <td>865300.0</td>\n      <td>1627392.25</td>\n      <td>11124540.0</td>\n    </tr>\n    <tr>\n      <th>VPB</th>\n      <td>1103.0</td>\n      <td>18240.922393</td>\n      <td>9328.847744</td>\n      <td>9416.8</td>\n      <td>11833.50</td>\n      <td>13500.1</td>\n      <td>21040.400</td>\n      <td>40278.2</td>\n      <td>1103.0</td>\n      <td>18515.354488</td>\n      <td>...</td>\n      <td>21056.600</td>\n      <td>40389.3</td>\n      <td>1103.0</td>\n      <td>1.095923e+07</td>\n      <td>1.319421e+07</td>\n      <td>678570.0</td>\n      <td>4309423.50</td>\n      <td>7447905.0</td>\n      <td>12058861.00</td>\n      <td>137848624.0</td>\n    </tr>\n    <tr>\n      <th>VRE</th>\n      <td>1044.0</td>\n      <td>32074.853448</td>\n      <td>4634.176362</td>\n      <td>17700.0</td>\n      <td>28700.00</td>\n      <td>31900.0</td>\n      <td>34562.500</td>\n      <td>49061.0</td>\n      <td>1044.0</td>\n      <td>32570.555556</td>\n      <td>...</td>\n      <td>34600.000</td>\n      <td>49796.0</td>\n      <td>1044.0</td>\n      <td>3.757370e+06</td>\n      <td>2.946146e+06</td>\n      <td>356780.0</td>\n      <td>1623655.00</td>\n      <td>2918720.0</td>\n      <td>5117120.00</td>\n      <td>24897800.0</td>\n    </tr>\n  </tbody>\n</table>\n<p>29 rows × 40 columns</p>\n</div>"
     },
     "execution_count": 31,
     "metadata": {},
     "output_type": "execute_result"
    }
   ],
   "source": [
    "all_data[['Open','High', 'Low', \"Close\", \"Volume\", \"Symbol\"]].groupby('Symbol').describe()"
   ],
   "metadata": {
    "collapsed": false,
    "pycharm": {
     "name": "#%%\n"
    }
   }
  },
  {
   "cell_type": "code",
   "execution_count": 32,
   "metadata": {
    "id": "hkHPjhJdQX6C",
    "outputId": "b44dc5da-f509-4f97-ae19-2c9a029a89c9",
    "pycharm": {
     "name": "#%%\n"
    }
   },
   "outputs": [
    {
     "data": {
      "text/plain": "29"
     },
     "execution_count": 32,
     "metadata": {},
     "output_type": "execute_result"
    }
   ],
   "source": [
    "len(set(all_data['Symbol']))"
   ]
  },
  {
   "cell_type": "markdown",
   "metadata": {
    "id": "mK2NyTkTQX6C"
   },
   "source": [
    "# Winsorizing the Indicators"
   ]
  },
  {
   "cell_type": "code",
   "execution_count": 33,
   "metadata": {
    "id": "krIhbMNAQX6C",
    "pycharm": {
     "name": "#%%\n"
    }
   },
   "outputs": [],
   "source": [
    "all_data['Close_Shifted'] = all_data.groupby('Symbol')['Close'].transform(lambda x: x.shift(-6))\n",
    "all_data['Target'] = ((all_data['Close_Shifted'] - all_data['Open'])/(all_data['Open']) * 100).shift(-1)\n",
    "all_data['Target_Direction'] = np.where(all_data['Target']>0,1,0)\n",
    "all_data = all_data.dropna().copy()"
   ]
  },
  {
   "cell_type": "code",
   "execution_count": 34,
   "metadata": {
    "id": "OJ-8Ba3xQX6D",
    "outputId": "b3162e76-ab06-40d0-8c7e-f409748bf2a5",
    "pycharm": {
     "name": "#%%\n"
    }
   },
   "outputs": [
    {
     "data": {
      "text/plain": "               Open     High      Low    Close   Volume Symbol    Return  \\\nDate                                                                       \n2007-01-03  21758.0  21903.0  21541.0  21686.0   183398    ACB  0.010155   \n2007-01-04  22338.0  22483.0  21758.0  22483.0   342745    ACB  0.036752   \n2007-01-05  22628.0  23209.0  22483.0  22846.0   346181    ACB  0.016146   \n2007-01-08  22773.0  23209.0  22048.0  22701.0   228067    ACB -0.006347   \n2007-01-09  22773.0  22919.0  22338.0  22628.0   210028    ACB -0.003216   \n...             ...      ...      ...      ...      ...    ...       ...   \n2022-02-15  33000.0  34000.0  32700.0  34000.0  8107200    VRE  0.030303   \n2022-02-16  34200.0  34450.0  33750.0  34300.0  4748300    VRE  0.008824   \n2022-02-17  34300.0  34750.0  34000.0  34450.0  3764700    VRE  0.004373   \n2022-02-18  34000.0  34350.0  33500.0  33600.0  6182000    VRE -0.024673   \n2022-02-21  33550.0  34200.0  33450.0  34100.0  5509700    VRE  0.014881   \n\n              SMA_5        SMA_15  SMA_ratio  ...  Stochastic_%D_5  \\\nDate                                          ...                    \n2007-01-03  21607.2  20971.000000   0.970556  ...        68.308864   \n2007-01-04  21830.6  21116.000000   0.967266  ...        69.677010   \n2007-01-05  22048.2  21284.266667   0.965352  ...        70.825870   \n2007-01-08  22236.8  21414.800000   0.963034  ...        70.437084   \n2007-01-09  22468.8  21530.800000   0.961256  ...        72.803990   \n...             ...           ...        ...  ...              ...   \n2022-02-15  34700.0  34110.000000   0.982997  ...        34.472028   \n2022-02-16  34380.0  34180.000000   0.994183  ...        28.318182   \n2022-02-17  34070.0  34236.666667   1.004892  ...        25.269231   \n2022-02-18  33870.0  34270.000000   1.011810  ...        34.049719   \n2022-02-21  34090.0  34476.666667   1.011343  ...        47.708255   \n\n            Stochastic_%D_15  Stochastic_Ratio      RSI_5     RSI_15  \\\nDate                                                                   \n2007-01-03         59.549210          1.147099  68.712603  62.903213   \n2007-01-04         63.185447          1.102738  79.824566  68.496611   \n2007-01-05         67.090601          1.055675  79.824566  68.496611   \n2007-01-08         69.642131          1.011415  77.862786  68.496611   \n2007-01-09         71.377526          1.019985  73.778245  67.720467   \n...                      ...               ...        ...        ...   \n2022-02-15         50.415762          0.683755  44.765089  51.806048   \n2022-02-16         50.626288          0.559357  48.965481  52.980621   \n2022-02-17         49.841032          0.506997  51.281031  53.586608   \n2022-02-18         49.434528          0.688784  38.808497  49.697813   \n2022-02-21         53.987373          0.883693  48.091664  51.897887   \n\n            RSI_ratio        MACD  Close_Shifted    Target  Target_Direction  \nDate                                                                          \n2007-01-03   1.092354  515.231459        23238.0  5.331722                 1  \n2007-01-04   1.192523  655.267330        23529.0  4.622591                 1  \n2007-01-05   1.204848  785.277116        23674.0  4.913714                 1  \n2007-01-08   1.131927  798.187944        23892.0  3.956440                 1  \n2007-01-09   1.089453  757.253097        23674.0  7.643731                 1  \n...               ...         ...            ...       ...               ...  \n2022-02-15   0.864090  101.808515        34900.0 -0.584795                 0  \n2022-02-16   0.924215   89.673589        34000.0 -0.874636                 0  \n2022-02-17   0.956975  110.108482        34000.0 -1.470588                 0  \n2022-02-18   0.780889  -59.642350        33500.0 -0.149031                 0  \n2022-02-21   0.926659  -52.011904        33500.0 -3.244838                 0  \n\n[55612 rows x 30 columns]",
      "text/html": "<div>\n<style scoped>\n    .dataframe tbody tr th:only-of-type {\n        vertical-align: middle;\n    }\n\n    .dataframe tbody tr th {\n        vertical-align: top;\n    }\n\n    .dataframe thead th {\n        text-align: right;\n    }\n</style>\n<table border=\"1\" class=\"dataframe\">\n  <thead>\n    <tr style=\"text-align: right;\">\n      <th></th>\n      <th>Open</th>\n      <th>High</th>\n      <th>Low</th>\n      <th>Close</th>\n      <th>Volume</th>\n      <th>Symbol</th>\n      <th>Return</th>\n      <th>SMA_5</th>\n      <th>SMA_15</th>\n      <th>SMA_ratio</th>\n      <th>...</th>\n      <th>Stochastic_%D_5</th>\n      <th>Stochastic_%D_15</th>\n      <th>Stochastic_Ratio</th>\n      <th>RSI_5</th>\n      <th>RSI_15</th>\n      <th>RSI_ratio</th>\n      <th>MACD</th>\n      <th>Close_Shifted</th>\n      <th>Target</th>\n      <th>Target_Direction</th>\n    </tr>\n    <tr>\n      <th>Date</th>\n      <th></th>\n      <th></th>\n      <th></th>\n      <th></th>\n      <th></th>\n      <th></th>\n      <th></th>\n      <th></th>\n      <th></th>\n      <th></th>\n      <th></th>\n      <th></th>\n      <th></th>\n      <th></th>\n      <th></th>\n      <th></th>\n      <th></th>\n      <th></th>\n      <th></th>\n      <th></th>\n      <th></th>\n    </tr>\n  </thead>\n  <tbody>\n    <tr>\n      <th>2007-01-03</th>\n      <td>21758.0</td>\n      <td>21903.0</td>\n      <td>21541.0</td>\n      <td>21686.0</td>\n      <td>183398</td>\n      <td>ACB</td>\n      <td>0.010155</td>\n      <td>21607.2</td>\n      <td>20971.000000</td>\n      <td>0.970556</td>\n      <td>...</td>\n      <td>68.308864</td>\n      <td>59.549210</td>\n      <td>1.147099</td>\n      <td>68.712603</td>\n      <td>62.903213</td>\n      <td>1.092354</td>\n      <td>515.231459</td>\n      <td>23238.0</td>\n      <td>5.331722</td>\n      <td>1</td>\n    </tr>\n    <tr>\n      <th>2007-01-04</th>\n      <td>22338.0</td>\n      <td>22483.0</td>\n      <td>21758.0</td>\n      <td>22483.0</td>\n      <td>342745</td>\n      <td>ACB</td>\n      <td>0.036752</td>\n      <td>21830.6</td>\n      <td>21116.000000</td>\n      <td>0.967266</td>\n      <td>...</td>\n      <td>69.677010</td>\n      <td>63.185447</td>\n      <td>1.102738</td>\n      <td>79.824566</td>\n      <td>68.496611</td>\n      <td>1.192523</td>\n      <td>655.267330</td>\n      <td>23529.0</td>\n      <td>4.622591</td>\n      <td>1</td>\n    </tr>\n    <tr>\n      <th>2007-01-05</th>\n      <td>22628.0</td>\n      <td>23209.0</td>\n      <td>22483.0</td>\n      <td>22846.0</td>\n      <td>346181</td>\n      <td>ACB</td>\n      <td>0.016146</td>\n      <td>22048.2</td>\n      <td>21284.266667</td>\n      <td>0.965352</td>\n      <td>...</td>\n      <td>70.825870</td>\n      <td>67.090601</td>\n      <td>1.055675</td>\n      <td>79.824566</td>\n      <td>68.496611</td>\n      <td>1.204848</td>\n      <td>785.277116</td>\n      <td>23674.0</td>\n      <td>4.913714</td>\n      <td>1</td>\n    </tr>\n    <tr>\n      <th>2007-01-08</th>\n      <td>22773.0</td>\n      <td>23209.0</td>\n      <td>22048.0</td>\n      <td>22701.0</td>\n      <td>228067</td>\n      <td>ACB</td>\n      <td>-0.006347</td>\n      <td>22236.8</td>\n      <td>21414.800000</td>\n      <td>0.963034</td>\n      <td>...</td>\n      <td>70.437084</td>\n      <td>69.642131</td>\n      <td>1.011415</td>\n      <td>77.862786</td>\n      <td>68.496611</td>\n      <td>1.131927</td>\n      <td>798.187944</td>\n      <td>23892.0</td>\n      <td>3.956440</td>\n      <td>1</td>\n    </tr>\n    <tr>\n      <th>2007-01-09</th>\n      <td>22773.0</td>\n      <td>22919.0</td>\n      <td>22338.0</td>\n      <td>22628.0</td>\n      <td>210028</td>\n      <td>ACB</td>\n      <td>-0.003216</td>\n      <td>22468.8</td>\n      <td>21530.800000</td>\n      <td>0.961256</td>\n      <td>...</td>\n      <td>72.803990</td>\n      <td>71.377526</td>\n      <td>1.019985</td>\n      <td>73.778245</td>\n      <td>67.720467</td>\n      <td>1.089453</td>\n      <td>757.253097</td>\n      <td>23674.0</td>\n      <td>7.643731</td>\n      <td>1</td>\n    </tr>\n    <tr>\n      <th>...</th>\n      <td>...</td>\n      <td>...</td>\n      <td>...</td>\n      <td>...</td>\n      <td>...</td>\n      <td>...</td>\n      <td>...</td>\n      <td>...</td>\n      <td>...</td>\n      <td>...</td>\n      <td>...</td>\n      <td>...</td>\n      <td>...</td>\n      <td>...</td>\n      <td>...</td>\n      <td>...</td>\n      <td>...</td>\n      <td>...</td>\n      <td>...</td>\n      <td>...</td>\n      <td>...</td>\n    </tr>\n    <tr>\n      <th>2022-02-15</th>\n      <td>33000.0</td>\n      <td>34000.0</td>\n      <td>32700.0</td>\n      <td>34000.0</td>\n      <td>8107200</td>\n      <td>VRE</td>\n      <td>0.030303</td>\n      <td>34700.0</td>\n      <td>34110.000000</td>\n      <td>0.982997</td>\n      <td>...</td>\n      <td>34.472028</td>\n      <td>50.415762</td>\n      <td>0.683755</td>\n      <td>44.765089</td>\n      <td>51.806048</td>\n      <td>0.864090</td>\n      <td>101.808515</td>\n      <td>34900.0</td>\n      <td>-0.584795</td>\n      <td>0</td>\n    </tr>\n    <tr>\n      <th>2022-02-16</th>\n      <td>34200.0</td>\n      <td>34450.0</td>\n      <td>33750.0</td>\n      <td>34300.0</td>\n      <td>4748300</td>\n      <td>VRE</td>\n      <td>0.008824</td>\n      <td>34380.0</td>\n      <td>34180.000000</td>\n      <td>0.994183</td>\n      <td>...</td>\n      <td>28.318182</td>\n      <td>50.626288</td>\n      <td>0.559357</td>\n      <td>48.965481</td>\n      <td>52.980621</td>\n      <td>0.924215</td>\n      <td>89.673589</td>\n      <td>34000.0</td>\n      <td>-0.874636</td>\n      <td>0</td>\n    </tr>\n    <tr>\n      <th>2022-02-17</th>\n      <td>34300.0</td>\n      <td>34750.0</td>\n      <td>34000.0</td>\n      <td>34450.0</td>\n      <td>3764700</td>\n      <td>VRE</td>\n      <td>0.004373</td>\n      <td>34070.0</td>\n      <td>34236.666667</td>\n      <td>1.004892</td>\n      <td>...</td>\n      <td>25.269231</td>\n      <td>49.841032</td>\n      <td>0.506997</td>\n      <td>51.281031</td>\n      <td>53.586608</td>\n      <td>0.956975</td>\n      <td>110.108482</td>\n      <td>34000.0</td>\n      <td>-1.470588</td>\n      <td>0</td>\n    </tr>\n    <tr>\n      <th>2022-02-18</th>\n      <td>34000.0</td>\n      <td>34350.0</td>\n      <td>33500.0</td>\n      <td>33600.0</td>\n      <td>6182000</td>\n      <td>VRE</td>\n      <td>-0.024673</td>\n      <td>33870.0</td>\n      <td>34270.000000</td>\n      <td>1.011810</td>\n      <td>...</td>\n      <td>34.049719</td>\n      <td>49.434528</td>\n      <td>0.688784</td>\n      <td>38.808497</td>\n      <td>49.697813</td>\n      <td>0.780889</td>\n      <td>-59.642350</td>\n      <td>33500.0</td>\n      <td>-0.149031</td>\n      <td>0</td>\n    </tr>\n    <tr>\n      <th>2022-02-21</th>\n      <td>33550.0</td>\n      <td>34200.0</td>\n      <td>33450.0</td>\n      <td>34100.0</td>\n      <td>5509700</td>\n      <td>VRE</td>\n      <td>0.014881</td>\n      <td>34090.0</td>\n      <td>34476.666667</td>\n      <td>1.011343</td>\n      <td>...</td>\n      <td>47.708255</td>\n      <td>53.987373</td>\n      <td>0.883693</td>\n      <td>48.091664</td>\n      <td>51.897887</td>\n      <td>0.926659</td>\n      <td>-52.011904</td>\n      <td>33500.0</td>\n      <td>-3.244838</td>\n      <td>0</td>\n    </tr>\n  </tbody>\n</table>\n<p>55612 rows × 30 columns</p>\n</div>"
     },
     "execution_count": 34,
     "metadata": {},
     "output_type": "execute_result"
    }
   ],
   "source": [
    "all_data"
   ]
  },
  {
   "cell_type": "code",
   "execution_count": 35,
   "metadata": {
    "id": "ER_iNJB4QX6D",
    "pycharm": {
     "name": "#%%\n"
    }
   },
   "outputs": [],
   "source": [
    "# all_data[Target_variables] = all_data.groupby('Symbol')[Target_variables].shift(1)\n",
    "# all_data.dropna(inplace=True)\n",
    "# all_data"
   ]
  },
  {
   "cell_type": "code",
   "execution_count": 36,
   "outputs": [
    {
     "data": {
      "text/plain": "               Open     High      Low    Close  Volume Symbol    Return  \\\nDate                                                                      \n2007-01-03  21758.0  21903.0  21541.0  21686.0  183398    ACB  0.010155   \n2007-01-04  22338.0  22483.0  21758.0  22483.0  342745    ACB  0.036752   \n2007-01-05  22628.0  23209.0  22483.0  22846.0  346181    ACB  0.016146   \n2007-01-08  22773.0  23209.0  22048.0  22701.0  228067    ACB -0.006347   \n2007-01-09  22773.0  22919.0  22338.0  22628.0  210028    ACB -0.003216   \n2007-01-10  22803.0  23238.0  22803.0  23093.0  290774    ACB  0.020550   \n2007-01-11  23238.0  23238.0  22657.0  23238.0  377105    ACB  0.006279   \n2007-01-12  23965.0  23965.0  22948.0  23529.0  280466    ACB  0.012523   \n2007-01-15  23238.0  23674.0  23238.0  23674.0  193706    ACB  0.006163   \n2007-01-16  23674.0  23965.0  23529.0  23892.0  432940    ACB  0.009208   \n\n              SMA_5        SMA_15  SMA_ratio  ...  Stochastic_%D_5  \\\nDate                                          ...                    \n2007-01-03  21607.2  20971.000000   0.970556  ...        68.308864   \n2007-01-04  21830.6  21116.000000   0.967266  ...        69.677010   \n2007-01-05  22048.2  21284.266667   0.965352  ...        70.825870   \n2007-01-08  22236.8  21414.800000   0.963034  ...        70.437084   \n2007-01-09  22468.8  21530.800000   0.961256  ...        72.803990   \n2007-01-10  22750.2  21680.733333   0.961256  ...        81.837634   \n2007-01-11  22901.2  21832.600000   0.961256  ...        81.837634   \n2007-01-12  23037.8  22008.666667   0.961256  ...        81.138277   \n2007-01-15  23232.4  22237.933333   0.961256  ...        82.948204   \n2007-01-16  23485.2  22476.866667   0.961256  ...        88.798423   \n\n            Stochastic_%D_15  Stochastic_Ratio      RSI_5     RSI_15  \\\nDate                                                                   \n2007-01-03         59.549210          1.147099  68.712603  62.903213   \n2007-01-04         63.185447          1.102738  79.824566  68.496611   \n2007-01-05         67.090601          1.055675  79.824566  68.496611   \n2007-01-08         69.642131          1.011415  77.862786  68.496611   \n2007-01-09         71.377526          1.019985  73.778245  67.720467   \n2007-01-10         72.258946          1.132561  79.824566  68.496611   \n2007-01-11         73.689392          1.110576  79.824566  68.496611   \n2007-01-12         74.595858          1.087705  79.824566  68.496611   \n2007-01-15         77.342493          1.072479  79.824566  68.496611   \n2007-01-16         80.301460          1.105813  79.824566  68.496611   \n\n            RSI_ratio        MACD  Close_Shifted     Target  Target_Direction  \nDate                                                                           \n2007-01-03   1.092354  515.231459        23238.0   5.331722                 1  \n2007-01-04   1.192523  655.267330        23529.0   4.622591                 1  \n2007-01-05   1.204848  785.277116        23674.0   4.913714                 1  \n2007-01-08   1.131927  798.187944        23892.0   3.956440                 1  \n2007-01-09   1.089453  757.253097        23674.0   7.643731                 1  \n2007-01-10   1.150999  798.697223        24546.0  10.938979                 1  \n2007-01-11   1.163044  819.802246        25780.0  11.512623                 1  \n2007-01-12   1.181432  858.580082        26724.0  21.253981                 1  \n2007-01-15   1.187937  875.634650        28177.0  23.924981                 1  \n2007-01-16   1.195165  894.515038        29338.0  16.169862                 1  \n\n[10 rows x 30 columns]",
      "text/html": "<div>\n<style scoped>\n    .dataframe tbody tr th:only-of-type {\n        vertical-align: middle;\n    }\n\n    .dataframe tbody tr th {\n        vertical-align: top;\n    }\n\n    .dataframe thead th {\n        text-align: right;\n    }\n</style>\n<table border=\"1\" class=\"dataframe\">\n  <thead>\n    <tr style=\"text-align: right;\">\n      <th></th>\n      <th>Open</th>\n      <th>High</th>\n      <th>Low</th>\n      <th>Close</th>\n      <th>Volume</th>\n      <th>Symbol</th>\n      <th>Return</th>\n      <th>SMA_5</th>\n      <th>SMA_15</th>\n      <th>SMA_ratio</th>\n      <th>...</th>\n      <th>Stochastic_%D_5</th>\n      <th>Stochastic_%D_15</th>\n      <th>Stochastic_Ratio</th>\n      <th>RSI_5</th>\n      <th>RSI_15</th>\n      <th>RSI_ratio</th>\n      <th>MACD</th>\n      <th>Close_Shifted</th>\n      <th>Target</th>\n      <th>Target_Direction</th>\n    </tr>\n    <tr>\n      <th>Date</th>\n      <th></th>\n      <th></th>\n      <th></th>\n      <th></th>\n      <th></th>\n      <th></th>\n      <th></th>\n      <th></th>\n      <th></th>\n      <th></th>\n      <th></th>\n      <th></th>\n      <th></th>\n      <th></th>\n      <th></th>\n      <th></th>\n      <th></th>\n      <th></th>\n      <th></th>\n      <th></th>\n      <th></th>\n    </tr>\n  </thead>\n  <tbody>\n    <tr>\n      <th>2007-01-03</th>\n      <td>21758.0</td>\n      <td>21903.0</td>\n      <td>21541.0</td>\n      <td>21686.0</td>\n      <td>183398</td>\n      <td>ACB</td>\n      <td>0.010155</td>\n      <td>21607.2</td>\n      <td>20971.000000</td>\n      <td>0.970556</td>\n      <td>...</td>\n      <td>68.308864</td>\n      <td>59.549210</td>\n      <td>1.147099</td>\n      <td>68.712603</td>\n      <td>62.903213</td>\n      <td>1.092354</td>\n      <td>515.231459</td>\n      <td>23238.0</td>\n      <td>5.331722</td>\n      <td>1</td>\n    </tr>\n    <tr>\n      <th>2007-01-04</th>\n      <td>22338.0</td>\n      <td>22483.0</td>\n      <td>21758.0</td>\n      <td>22483.0</td>\n      <td>342745</td>\n      <td>ACB</td>\n      <td>0.036752</td>\n      <td>21830.6</td>\n      <td>21116.000000</td>\n      <td>0.967266</td>\n      <td>...</td>\n      <td>69.677010</td>\n      <td>63.185447</td>\n      <td>1.102738</td>\n      <td>79.824566</td>\n      <td>68.496611</td>\n      <td>1.192523</td>\n      <td>655.267330</td>\n      <td>23529.0</td>\n      <td>4.622591</td>\n      <td>1</td>\n    </tr>\n    <tr>\n      <th>2007-01-05</th>\n      <td>22628.0</td>\n      <td>23209.0</td>\n      <td>22483.0</td>\n      <td>22846.0</td>\n      <td>346181</td>\n      <td>ACB</td>\n      <td>0.016146</td>\n      <td>22048.2</td>\n      <td>21284.266667</td>\n      <td>0.965352</td>\n      <td>...</td>\n      <td>70.825870</td>\n      <td>67.090601</td>\n      <td>1.055675</td>\n      <td>79.824566</td>\n      <td>68.496611</td>\n      <td>1.204848</td>\n      <td>785.277116</td>\n      <td>23674.0</td>\n      <td>4.913714</td>\n      <td>1</td>\n    </tr>\n    <tr>\n      <th>2007-01-08</th>\n      <td>22773.0</td>\n      <td>23209.0</td>\n      <td>22048.0</td>\n      <td>22701.0</td>\n      <td>228067</td>\n      <td>ACB</td>\n      <td>-0.006347</td>\n      <td>22236.8</td>\n      <td>21414.800000</td>\n      <td>0.963034</td>\n      <td>...</td>\n      <td>70.437084</td>\n      <td>69.642131</td>\n      <td>1.011415</td>\n      <td>77.862786</td>\n      <td>68.496611</td>\n      <td>1.131927</td>\n      <td>798.187944</td>\n      <td>23892.0</td>\n      <td>3.956440</td>\n      <td>1</td>\n    </tr>\n    <tr>\n      <th>2007-01-09</th>\n      <td>22773.0</td>\n      <td>22919.0</td>\n      <td>22338.0</td>\n      <td>22628.0</td>\n      <td>210028</td>\n      <td>ACB</td>\n      <td>-0.003216</td>\n      <td>22468.8</td>\n      <td>21530.800000</td>\n      <td>0.961256</td>\n      <td>...</td>\n      <td>72.803990</td>\n      <td>71.377526</td>\n      <td>1.019985</td>\n      <td>73.778245</td>\n      <td>67.720467</td>\n      <td>1.089453</td>\n      <td>757.253097</td>\n      <td>23674.0</td>\n      <td>7.643731</td>\n      <td>1</td>\n    </tr>\n    <tr>\n      <th>2007-01-10</th>\n      <td>22803.0</td>\n      <td>23238.0</td>\n      <td>22803.0</td>\n      <td>23093.0</td>\n      <td>290774</td>\n      <td>ACB</td>\n      <td>0.020550</td>\n      <td>22750.2</td>\n      <td>21680.733333</td>\n      <td>0.961256</td>\n      <td>...</td>\n      <td>81.837634</td>\n      <td>72.258946</td>\n      <td>1.132561</td>\n      <td>79.824566</td>\n      <td>68.496611</td>\n      <td>1.150999</td>\n      <td>798.697223</td>\n      <td>24546.0</td>\n      <td>10.938979</td>\n      <td>1</td>\n    </tr>\n    <tr>\n      <th>2007-01-11</th>\n      <td>23238.0</td>\n      <td>23238.0</td>\n      <td>22657.0</td>\n      <td>23238.0</td>\n      <td>377105</td>\n      <td>ACB</td>\n      <td>0.006279</td>\n      <td>22901.2</td>\n      <td>21832.600000</td>\n      <td>0.961256</td>\n      <td>...</td>\n      <td>81.837634</td>\n      <td>73.689392</td>\n      <td>1.110576</td>\n      <td>79.824566</td>\n      <td>68.496611</td>\n      <td>1.163044</td>\n      <td>819.802246</td>\n      <td>25780.0</td>\n      <td>11.512623</td>\n      <td>1</td>\n    </tr>\n    <tr>\n      <th>2007-01-12</th>\n      <td>23965.0</td>\n      <td>23965.0</td>\n      <td>22948.0</td>\n      <td>23529.0</td>\n      <td>280466</td>\n      <td>ACB</td>\n      <td>0.012523</td>\n      <td>23037.8</td>\n      <td>22008.666667</td>\n      <td>0.961256</td>\n      <td>...</td>\n      <td>81.138277</td>\n      <td>74.595858</td>\n      <td>1.087705</td>\n      <td>79.824566</td>\n      <td>68.496611</td>\n      <td>1.181432</td>\n      <td>858.580082</td>\n      <td>26724.0</td>\n      <td>21.253981</td>\n      <td>1</td>\n    </tr>\n    <tr>\n      <th>2007-01-15</th>\n      <td>23238.0</td>\n      <td>23674.0</td>\n      <td>23238.0</td>\n      <td>23674.0</td>\n      <td>193706</td>\n      <td>ACB</td>\n      <td>0.006163</td>\n      <td>23232.4</td>\n      <td>22237.933333</td>\n      <td>0.961256</td>\n      <td>...</td>\n      <td>82.948204</td>\n      <td>77.342493</td>\n      <td>1.072479</td>\n      <td>79.824566</td>\n      <td>68.496611</td>\n      <td>1.187937</td>\n      <td>875.634650</td>\n      <td>28177.0</td>\n      <td>23.924981</td>\n      <td>1</td>\n    </tr>\n    <tr>\n      <th>2007-01-16</th>\n      <td>23674.0</td>\n      <td>23965.0</td>\n      <td>23529.0</td>\n      <td>23892.0</td>\n      <td>432940</td>\n      <td>ACB</td>\n      <td>0.009208</td>\n      <td>23485.2</td>\n      <td>22476.866667</td>\n      <td>0.961256</td>\n      <td>...</td>\n      <td>88.798423</td>\n      <td>80.301460</td>\n      <td>1.105813</td>\n      <td>79.824566</td>\n      <td>68.496611</td>\n      <td>1.195165</td>\n      <td>894.515038</td>\n      <td>29338.0</td>\n      <td>16.169862</td>\n      <td>1</td>\n    </tr>\n  </tbody>\n</table>\n<p>10 rows × 30 columns</p>\n</div>"
     },
     "execution_count": 36,
     "metadata": {},
     "output_type": "execute_result"
    }
   ],
   "source": [
    "all_data.head(10)"
   ],
   "metadata": {
    "collapsed": false,
    "pycharm": {
     "name": "#%%\n"
    }
   }
  },
  {
   "cell_type": "code",
   "execution_count": 37,
   "metadata": {
    "id": "myI4BTgtQX6D",
    "outputId": "55401a07-1759-4d4a-e0dc-67969ee9daee",
    "pycharm": {
     "name": "#%%\n"
    }
   },
   "outputs": [
    {
     "data": {
      "text/plain": "29"
     },
     "execution_count": 37,
     "metadata": {},
     "output_type": "execute_result"
    }
   ],
   "source": [
    "len(set(all_data['Symbol']))"
   ]
  },
  {
   "cell_type": "markdown",
   "metadata": {
    "id": "tTI6vx9MQX6D"
   },
   "source": [
    "# Clustering companies"
   ]
  },
  {
   "cell_type": "markdown",
   "metadata": {
    "id": "wL3AY8abQX6E"
   },
   "source": [
    "This is where things start to get interesting. A simple way of predicting would be to assume that all the companies would follow the same ML model and create this one global model to predict returns for all companies. However, it is possible that different companies/industries react differently to a set of Technical Indicator. One way to solve this problem is to create different ML model for each cluster of companies that are expected to behave similarly perhaps belonging to the same industry, where the “behavior” is captured in their returns.\n",
    "Thus, to make our model even more sophisticated, we will create different ML models for each cluster."
   ]
  },
  {
   "cell_type": "markdown",
   "metadata": {
    "id": "uft236c0QX6E"
   },
   "source": [
    "# Identify number of clusters"
   ]
  },
  {
   "cell_type": "markdown",
   "metadata": {
    "id": "_kzT-qBrQX6E"
   },
   "source": [
    "The idea is to use returns of these companies and create an elbow curve to determine the number of clusters that would create a balance between low sum of squares within a cluster vs the total number of clusters. For 30 companies, if we create 30 clusters, we would get 0 sum of squares within the cluster however this clustering would not make sense, i.e. would not be parsimonious. On the other hand, having 1 cluster would be parsimonious however will lead to very high sum of squares within cluster. An elbow curve helps to determine the approximate point at which the marginal decrease in sum of squares is small.\n",
    "We use K-means clustering to create an elbow curve. K-means aims at minimizing the inertia or the within cluster sum of squares while clustering. By providing a range of clusters from 1 to 20, we create the required elbow curve."
   ]
  },
  {
   "cell_type": "code",
   "execution_count": 38,
   "metadata": {
    "id": "0IbQZVSAQX6E",
    "outputId": "6d424c32-cf88-4c1e-9cfe-458f192e4524",
    "pycharm": {
     "name": "#%%\n"
    }
   },
   "outputs": [
    {
     "data": {
      "text/plain": "Index(['Open', 'High', 'Low', 'Close', 'Volume', 'Symbol', 'Return', 'SMA_5',\n       'SMA_15', 'SMA_ratio', 'SMA5_Volume', 'SMA15_Volume',\n       'SMA_Volume_Ratio', 'ATR_5', 'ATR_15', 'ATR_Ratio', 'ADX_5', 'ADX_15',\n       'Stochastic_5', 'Stochastic_15', 'Stochastic_%D_5', 'Stochastic_%D_15',\n       'Stochastic_Ratio', 'RSI_5', 'RSI_15', 'RSI_ratio', 'MACD',\n       'Close_Shifted', 'Target', 'Target_Direction'],\n      dtype='object')"
     },
     "execution_count": 38,
     "metadata": {},
     "output_type": "execute_result"
    }
   ],
   "source": [
    "all_data.columns"
   ]
  },
  {
   "cell_type": "code",
   "execution_count": 38,
   "metadata": {
    "id": "XmnpLMdRQX6F",
    "pycharm": {
     "name": "#%%\n"
    }
   },
   "outputs": [],
   "source": []
  },
  {
   "cell_type": "code",
   "execution_count": 38,
   "metadata": {
    "id": "q6j3q779QX6F",
    "pycharm": {
     "name": "#%%\n"
    }
   },
   "outputs": [],
   "source": []
  },
  {
   "cell_type": "code",
   "execution_count": 39,
   "metadata": {
    "id": "JhZe9ZNWQX6F",
    "outputId": "096489bc-6134-4017-af9e-93be4734e403",
    "pycharm": {
     "name": "#%%\n"
    }
   },
   "outputs": [
    {
     "name": "stdout",
     "output_type": "stream",
     "text": [
      "<class 'pandas.core.frame.DataFrame'>\n",
      "Index: 29 entries, ACB to VRE\n",
      "Columns: 878 entries, 2018-07-16 to 2022-02-17\n",
      "dtypes: float64(878)\n",
      "memory usage: 200.4+ KB\n",
      "None\n"
     ]
    },
    {
     "data": {
      "text/plain": "    Difference in SS\n1                NaN\n2          -0.670378\n3          -0.615464\n4          -0.322919\n5          -0.324652\n6          -0.230967\n7          -0.349718\n8          -0.299537\n9          -0.301850\n10         -0.243576\n11         -0.277113\n12         -0.270309\n13         -0.229284\n14         -0.248843\n15         -0.221958\n16         -0.201459\n17         -0.209770\n18         -0.226246\n19         -0.204696\n20         -0.194531",
      "text/html": "<div>\n<style scoped>\n    .dataframe tbody tr th:only-of-type {\n        vertical-align: middle;\n    }\n\n    .dataframe tbody tr th {\n        vertical-align: top;\n    }\n\n    .dataframe thead th {\n        text-align: right;\n    }\n</style>\n<table border=\"1\" class=\"dataframe\">\n  <thead>\n    <tr style=\"text-align: right;\">\n      <th></th>\n      <th>Difference in SS</th>\n    </tr>\n  </thead>\n  <tbody>\n    <tr>\n      <th>1</th>\n      <td>NaN</td>\n    </tr>\n    <tr>\n      <th>2</th>\n      <td>-0.670378</td>\n    </tr>\n    <tr>\n      <th>3</th>\n      <td>-0.615464</td>\n    </tr>\n    <tr>\n      <th>4</th>\n      <td>-0.322919</td>\n    </tr>\n    <tr>\n      <th>5</th>\n      <td>-0.324652</td>\n    </tr>\n    <tr>\n      <th>6</th>\n      <td>-0.230967</td>\n    </tr>\n    <tr>\n      <th>7</th>\n      <td>-0.349718</td>\n    </tr>\n    <tr>\n      <th>8</th>\n      <td>-0.299537</td>\n    </tr>\n    <tr>\n      <th>9</th>\n      <td>-0.301850</td>\n    </tr>\n    <tr>\n      <th>10</th>\n      <td>-0.243576</td>\n    </tr>\n    <tr>\n      <th>11</th>\n      <td>-0.277113</td>\n    </tr>\n    <tr>\n      <th>12</th>\n      <td>-0.270309</td>\n    </tr>\n    <tr>\n      <th>13</th>\n      <td>-0.229284</td>\n    </tr>\n    <tr>\n      <th>14</th>\n      <td>-0.248843</td>\n    </tr>\n    <tr>\n      <th>15</th>\n      <td>-0.221958</td>\n    </tr>\n    <tr>\n      <th>16</th>\n      <td>-0.201459</td>\n    </tr>\n    <tr>\n      <th>17</th>\n      <td>-0.209770</td>\n    </tr>\n    <tr>\n      <th>18</th>\n      <td>-0.226246</td>\n    </tr>\n    <tr>\n      <th>19</th>\n      <td>-0.204696</td>\n    </tr>\n    <tr>\n      <th>20</th>\n      <td>-0.194531</td>\n    </tr>\n  </tbody>\n</table>\n</div>"
     },
     "execution_count": 39,
     "metadata": {},
     "output_type": "execute_result"
    },
    {
     "data": {
      "text/plain": "<Figure size 432x288 with 1 Axes>",
      "image/png": "[encoded data removed]"
     },
     "metadata": {},
     "output_type": "display_data"
    }
   ],
   "source": [
    "#Extract the returns\n",
    "returns = all_data[['Symbol','Return']].copy()\n",
    "returns['Date'] = returns.index.copy()\n",
    "\n",
    "#Pivot the returns to create series of returns for each stock\n",
    "transposed = returns.pivot(index = 'Date', columns = 'Symbol', values = 'Return')\n",
    "\n",
    "#Transpose the data to get companies on the index level and dates on the column level since clusters takes place on index level\n",
    "X = transposed.dropna().transpose()\n",
    "print(X.info())\n",
    "#Extract sum of squares for K-means clusters from 1 to 50 clusters\n",
    "n = 20\n",
    "sum_of_sq = np.zeros([n, 1])\n",
    "\n",
    "for k in range(1, n+1):\n",
    "    sum_of_sq[k-1] = KMeans(n_clusters=k).fit(X).inertia_\n",
    "\n",
    "plt.plot(range(1, n), sum_of_sq[1:n])\n",
    "plt.title(\"Elbow Method\")\n",
    "plt.xlabel(\"Number of Cluster\")\n",
    "plt.ylabel(\"Within-cluster Sum of Squares\")\n",
    "\n",
    "pd.DataFrame(sum_of_sq, columns = ['Difference in SS'], index = range(1,n+1)).diff()"
   ]
  },
  {
   "cell_type": "markdown",
   "metadata": {
    "id": "HRm-NAc6QX6G"
   },
   "source": [
    "Thus, we can see from the above curves and the table that 10 clusters best serve our purpose. The decrease in sum of squares after 10 is not large enough. Hence, for our analysis, we select 10 clusters."
   ]
  },
  {
   "cell_type": "markdown",
   "metadata": {
    "id": "SdiwrCslQX6G"
   },
   "source": [
    "# Creating clusters"
   ]
  },
  {
   "cell_type": "markdown",
   "metadata": {
    "id": "FLckmlVnQX6G"
   },
   "source": [
    "We now use the Guassian Mixture clustering algorithm to assign the companies to 10 clusters based on their returns. Gaussian Mixture is an uses a probabilistic method of determining the appropriate cluster for a series of observation, assuming the universe is formed out of different Gaussian distributions.\n",
    "The code below provides us a dataframe with different clusters and the companies that fall in each cluster."
   ]
  },
  {
   "cell_type": "code",
   "execution_count": 40,
   "metadata": {
    "id": "DdtEzvBCQX6G",
    "pycharm": {
     "name": "#%%\n"
    }
   },
   "outputs": [],
   "source": [
    "#Get 10 clusters\n",
    "gmm = GaussianMixture(n_components = 10)\n",
    "gmm.fit(transposed.dropna().transpose())\n",
    "\n",
    "#Predict for each company\n",
    "clusters = gmm.predict(transposed.dropna().transpose())\n",
    "clusters_df = pd.DataFrame({'Cluster':clusters,\n",
    "                           'Companies':transposed.columns})\n",
    "\n",
    "#Sort by Clusters\n",
    "clusters_df = clusters_df.sort_values(['Cluster']).reset_index(drop = True)\n",
    "\n",
    "#Save as csv\n",
    "clusters_df.to_csv(\"clusters.csv\")\n",
    "clusters_df = pd.read_csv(\"clusters.csv\", index_col = 0)"
   ]
  },
  {
   "cell_type": "markdown",
   "metadata": {
    "id": "KjWM3dFhQX6G"
   },
   "source": [
    "The clustering resulted in, to a large extent, an industry wide classification of stocks which is in line with our initial thought."
   ]
  },
  {
   "cell_type": "markdown",
   "metadata": {
    "id": "2kMQoMC8QX6H"
   },
   "source": [
    "# Random Forest model"
   ]
  },
  {
   "cell_type": "markdown",
   "metadata": {
    "id": "K7BJsM1lQX6H"
   },
   "source": [
    "Random Forest is a commonly used Machine Learning model for Regression and Classification problems. However, given the complexity of the model, it is important to carefully understand the parameters that go into the model to prevent in-sample overfitting or underfitting, a standard bias-variance tradeoff.\n",
    "There are quite a few things to consider while forming a Machine Learning model."
   ]
  },
  {
   "cell_type": "markdown",
   "metadata": {
    "id": "Hs_QrSYzQX6H"
   },
   "source": [
    "# Training period"
   ]
  },
  {
   "cell_type": "markdown",
   "metadata": {
    "id": "d1WpivNHQX6H"
   },
   "source": [
    "We will first separate our data into a train and a test sample. While scipy offers a TrainTestSplit function, we will not use that here since our data is a time series data and we want to split the Train-Test as a timeline rather than randomly selecting observations as train or test. We first convert our index into a date time index and split the data to before and after 31st December 2020.\n",
    "Train period: to 31st December 2020\n",
    "Test period: 1st January 2021 — now"
   ]
  },
  {
   "cell_type": "code",
   "execution_count": 41,
   "metadata": {
    "id": "7XKlELkeQX6H",
    "pycharm": {
     "name": "#%%\n"
    }
   },
   "outputs": [],
   "source": [
    "all_data.index = pd.to_datetime(all_data.index)\n",
    "\n",
    "train_data = all_data.loc[:'2020-12-31',]\n",
    "test_data = all_data.loc['2021-01-01':]"
   ]
  },
  {
   "cell_type": "code",
   "execution_count": 42,
   "metadata": {
    "id": "Xa-3dHgwQX6H",
    "outputId": "25b23b12-7964-44dd-9032-cc0fab5baeed",
    "pycharm": {
     "name": "#%%\n"
    }
   },
   "outputs": [
    {
     "data": {
      "text/plain": "               Open     High      Low    Close    Volume Symbol    Return  \\\nDate                                                                        \n2007-01-03  21758.0  21903.0  21541.0  21686.0    183398    ACB  0.010155   \n2007-01-04  22338.0  22483.0  21758.0  22483.0    342745    ACB  0.036752   \n2007-01-05  22628.0  23209.0  22483.0  22846.0    346181    ACB  0.016146   \n2007-01-08  22773.0  23209.0  22048.0  22701.0    228067    ACB -0.006347   \n2007-01-09  22773.0  22919.0  22338.0  22628.0    210028    ACB -0.003216   \n...             ...      ...      ...      ...       ...    ...       ...   \n2020-12-25  29900.0  30600.0  29550.0  30450.0   5682560    VRE  0.016694   \n2020-12-28  30700.0  30850.0  30050.0  30450.0   8216210    VRE  0.000000   \n2020-12-29  30450.0  31800.0  30250.0  31650.0  11628180    VRE  0.039409   \n2020-12-30  31700.0  32050.0  31100.0  31350.0   5264090    VRE -0.009479   \n2020-12-31  31500.0  31500.0  31200.0  31400.0   4650930    VRE  0.001595   \n\n              SMA_5        SMA_15  SMA_ratio  ...  Stochastic_%D_5  \\\nDate                                          ...                    \n2007-01-03  21607.2  20971.000000   0.970556  ...        68.308864   \n2007-01-04  21830.6  21116.000000   0.967266  ...        69.677010   \n2007-01-05  22048.2  21284.266667   0.965352  ...        70.825870   \n2007-01-08  22236.8  21414.800000   0.963034  ...        70.437084   \n2007-01-09  22468.8  21530.800000   0.961256  ...        72.803990   \n...             ...           ...        ...  ...              ...   \n2020-12-25  30340.0  29593.333333   0.975390  ...        64.964017   \n2020-12-28  30350.0  29736.666667   0.979791  ...        64.225014   \n2020-12-29  30620.0  29966.666667   0.978663  ...        68.472700   \n2020-12-30  30770.0  30163.333333   0.980284  ...        71.731802   \n2020-12-31  31060.0  30376.666667   0.978000  ...        76.713620   \n\n            Stochastic_%D_15  Stochastic_Ratio      RSI_5     RSI_15  \\\nDate                                                                   \n2007-01-03         59.549210          1.147099  68.712603  62.903213   \n2007-01-04         63.185447          1.102738  79.824566  68.496611   \n2007-01-05         67.090601          1.055675  79.824566  68.496611   \n2007-01-08         69.642131          1.011415  77.862786  68.496611   \n2007-01-09         71.377526          1.019985  73.778245  67.720467   \n...                      ...               ...        ...        ...   \n2020-12-25         65.760457          0.987889  61.573846  63.885559   \n2020-12-28         66.002881          0.973064  61.573846  63.885559   \n2020-12-29         69.611950          0.983634  79.610938  68.496611   \n2020-12-30         70.612234          1.015855  69.426953  67.467885   \n2020-12-31         73.212234          1.047825  70.220587  67.758615   \n\n            RSI_ratio        MACD  Close_Shifted     Target  Target_Direction  \nDate                                                                           \n2007-01-03   1.092354  515.231459        23238.0   5.331722                 1  \n2007-01-04   1.192523  655.267330        23529.0   4.622591                 1  \n2007-01-05   1.204848  785.277116        23674.0   4.913714                 1  \n2007-01-08   1.131927  798.187944        23892.0   3.956440                 1  \n2007-01-09   1.089453  757.253097        23674.0   7.643731                 1  \n...               ...         ...            ...        ...               ...  \n2020-12-25   0.963815  579.883213        33300.0   8.143322                 1  \n2020-12-28   0.963815  545.783868        33200.0  11.330049                 1  \n2020-12-29   1.120397  753.151589        33900.0  11.987382                 1  \n2020-12-30   1.029037  780.234777        35500.0  17.936508                 1  \n2020-12-31   1.036334  773.940187        37150.0  16.507937                 1  \n\n[47494 rows x 30 columns]",
      "text/html": "<div>\n<style scoped>\n    .dataframe tbody tr th:only-of-type {\n        vertical-align: middle;\n    }\n\n    .dataframe tbody tr th {\n        vertical-align: top;\n    }\n\n    .dataframe thead th {\n        text-align: right;\n    }\n</style>\n<table border=\"1\" class=\"dataframe\">\n  <thead>\n    <tr style=\"text-align: right;\">\n      <th></th>\n      <th>Open</th>\n      <th>High</th>\n      <th>Low</th>\n      <th>Close</th>\n      <th>Volume</th>\n      <th>Symbol</th>\n      <th>Return</th>\n      <th>SMA_5</th>\n      <th>SMA_15</th>\n      <th>SMA_ratio</th>\n      <th>...</th>\n      <th>Stochastic_%D_5</th>\n      <th>Stochastic_%D_15</th>\n      <th>Stochastic_Ratio</th>\n      <th>RSI_5</th>\n      <th>RSI_15</th>\n      <th>RSI_ratio</th>\n      <th>MACD</th>\n      <th>Close_Shifted</th>\n      <th>Target</th>\n      <th>Target_Direction</th>\n    </tr>\n    <tr>\n      <th>Date</th>\n      <th></th>\n      <th></th>\n      <th></th>\n      <th></th>\n      <th></th>\n      <th></th>\n      <th></th>\n      <th></th>\n      <th></th>\n      <th></th>\n      <th></th>\n      <th></th>\n      <th></th>\n      <th></th>\n      <th></th>\n      <th></th>\n      <th></th>\n      <th></th>\n      <th></th>\n      <th></th>\n      <th></th>\n    </tr>\n  </thead>\n  <tbody>\n    <tr>\n      <th>2007-01-03</th>\n      <td>21758.0</td>\n      <td>21903.0</td>\n      <td>21541.0</td>\n      <td>21686.0</td>\n      <td>183398</td>\n      <td>ACB</td>\n      <td>0.010155</td>\n      <td>21607.2</td>\n      <td>20971.000000</td>\n      <td>0.970556</td>\n      <td>...</td>\n      <td>68.308864</td>\n      <td>59.549210</td>\n      <td>1.147099</td>\n      <td>68.712603</td>\n      <td>62.903213</td>\n      <td>1.092354</td>\n      <td>515.231459</td>\n      <td>23238.0</td>\n      <td>5.331722</td>\n      <td>1</td>\n    </tr>\n    <tr>\n      <th>2007-01-04</th>\n      <td>22338.0</td>\n      <td>22483.0</td>\n      <td>21758.0</td>\n      <td>22483.0</td>\n      <td>342745</td>\n      <td>ACB</td>\n      <td>0.036752</td>\n      <td>21830.6</td>\n      <td>21116.000000</td>\n      <td>0.967266</td>\n      <td>...</td>\n      <td>69.677010</td>\n      <td>63.185447</td>\n      <td>1.102738</td>\n      <td>79.824566</td>\n      <td>68.496611</td>\n      <td>1.192523</td>\n      <td>655.267330</td>\n      <td>23529.0</td>\n      <td>4.622591</td>\n      <td>1</td>\n    </tr>\n    <tr>\n      <th>2007-01-05</th>\n      <td>22628.0</td>\n      <td>23209.0</td>\n      <td>22483.0</td>\n      <td>22846.0</td>\n      <td>346181</td>\n      <td>ACB</td>\n      <td>0.016146</td>\n      <td>22048.2</td>\n      <td>21284.266667</td>\n      <td>0.965352</td>\n      <td>...</td>\n      <td>70.825870</td>\n      <td>67.090601</td>\n      <td>1.055675</td>\n      <td>79.824566</td>\n      <td>68.496611</td>\n      <td>1.204848</td>\n      <td>785.277116</td>\n      <td>23674.0</td>\n      <td>4.913714</td>\n      <td>1</td>\n    </tr>\n    <tr>\n      <th>2007-01-08</th>\n      <td>22773.0</td>\n      <td>23209.0</td>\n      <td>22048.0</td>\n      <td>22701.0</td>\n      <td>228067</td>\n      <td>ACB</td>\n      <td>-0.006347</td>\n      <td>22236.8</td>\n      <td>21414.800000</td>\n      <td>0.963034</td>\n      <td>...</td>\n      <td>70.437084</td>\n      <td>69.642131</td>\n      <td>1.011415</td>\n      <td>77.862786</td>\n      <td>68.496611</td>\n      <td>1.131927</td>\n      <td>798.187944</td>\n      <td>23892.0</td>\n      <td>3.956440</td>\n      <td>1</td>\n    </tr>\n    <tr>\n      <th>2007-01-09</th>\n      <td>22773.0</td>\n      <td>22919.0</td>\n      <td>22338.0</td>\n      <td>22628.0</td>\n      <td>210028</td>\n      <td>ACB</td>\n      <td>-0.003216</td>\n      <td>22468.8</td>\n      <td>21530.800000</td>\n      <td>0.961256</td>\n      <td>...</td>\n      <td>72.803990</td>\n      <td>71.377526</td>\n      <td>1.019985</td>\n      <td>73.778245</td>\n      <td>67.720467</td>\n      <td>1.089453</td>\n      <td>757.253097</td>\n      <td>23674.0</td>\n      <td>7.643731</td>\n      <td>1</td>\n    </tr>\n    <tr>\n      <th>...</th>\n      <td>...</td>\n      <td>...</td>\n      <td>...</td>\n      <td>...</td>\n      <td>...</td>\n      <td>...</td>\n      <td>...</td>\n      <td>...</td>\n      <td>...</td>\n      <td>...</td>\n      <td>...</td>\n      <td>...</td>\n      <td>...</td>\n      <td>...</td>\n      <td>...</td>\n      <td>...</td>\n      <td>...</td>\n      <td>...</td>\n      <td>...</td>\n      <td>...</td>\n      <td>...</td>\n    </tr>\n    <tr>\n      <th>2020-12-25</th>\n      <td>29900.0</td>\n      <td>30600.0</td>\n      <td>29550.0</td>\n      <td>30450.0</td>\n      <td>5682560</td>\n      <td>VRE</td>\n      <td>0.016694</td>\n      <td>30340.0</td>\n      <td>29593.333333</td>\n      <td>0.975390</td>\n      <td>...</td>\n      <td>64.964017</td>\n      <td>65.760457</td>\n      <td>0.987889</td>\n      <td>61.573846</td>\n      <td>63.885559</td>\n      <td>0.963815</td>\n      <td>579.883213</td>\n      <td>33300.0</td>\n      <td>8.143322</td>\n      <td>1</td>\n    </tr>\n    <tr>\n      <th>2020-12-28</th>\n      <td>30700.0</td>\n      <td>30850.0</td>\n      <td>30050.0</td>\n      <td>30450.0</td>\n      <td>8216210</td>\n      <td>VRE</td>\n      <td>0.000000</td>\n      <td>30350.0</td>\n      <td>29736.666667</td>\n      <td>0.979791</td>\n      <td>...</td>\n      <td>64.225014</td>\n      <td>66.002881</td>\n      <td>0.973064</td>\n      <td>61.573846</td>\n      <td>63.885559</td>\n      <td>0.963815</td>\n      <td>545.783868</td>\n      <td>33200.0</td>\n      <td>11.330049</td>\n      <td>1</td>\n    </tr>\n    <tr>\n      <th>2020-12-29</th>\n      <td>30450.0</td>\n      <td>31800.0</td>\n      <td>30250.0</td>\n      <td>31650.0</td>\n      <td>11628180</td>\n      <td>VRE</td>\n      <td>0.039409</td>\n      <td>30620.0</td>\n      <td>29966.666667</td>\n      <td>0.978663</td>\n      <td>...</td>\n      <td>68.472700</td>\n      <td>69.611950</td>\n      <td>0.983634</td>\n      <td>79.610938</td>\n      <td>68.496611</td>\n      <td>1.120397</td>\n      <td>753.151589</td>\n      <td>33900.0</td>\n      <td>11.987382</td>\n      <td>1</td>\n    </tr>\n    <tr>\n      <th>2020-12-30</th>\n      <td>31700.0</td>\n      <td>32050.0</td>\n      <td>31100.0</td>\n      <td>31350.0</td>\n      <td>5264090</td>\n      <td>VRE</td>\n      <td>-0.009479</td>\n      <td>30770.0</td>\n      <td>30163.333333</td>\n      <td>0.980284</td>\n      <td>...</td>\n      <td>71.731802</td>\n      <td>70.612234</td>\n      <td>1.015855</td>\n      <td>69.426953</td>\n      <td>67.467885</td>\n      <td>1.029037</td>\n      <td>780.234777</td>\n      <td>35500.0</td>\n      <td>17.936508</td>\n      <td>1</td>\n    </tr>\n    <tr>\n      <th>2020-12-31</th>\n      <td>31500.0</td>\n      <td>31500.0</td>\n      <td>31200.0</td>\n      <td>31400.0</td>\n      <td>4650930</td>\n      <td>VRE</td>\n      <td>0.001595</td>\n      <td>31060.0</td>\n      <td>30376.666667</td>\n      <td>0.978000</td>\n      <td>...</td>\n      <td>76.713620</td>\n      <td>73.212234</td>\n      <td>1.047825</td>\n      <td>70.220587</td>\n      <td>67.758615</td>\n      <td>1.036334</td>\n      <td>773.940187</td>\n      <td>37150.0</td>\n      <td>16.507937</td>\n      <td>1</td>\n    </tr>\n  </tbody>\n</table>\n<p>47494 rows × 30 columns</p>\n</div>"
     },
     "execution_count": 42,
     "metadata": {},
     "output_type": "execute_result"
    }
   ],
   "source": [
    "train_data"
   ]
  },
  {
   "cell_type": "code",
   "execution_count": 43,
   "outputs": [
    {
     "data": {
      "text/plain": "               Open     High      Low    Close    Volume Symbol    Return  \\\nDate                                                                        \n2021-01-04  22840.0  23080.0  22800.0  22920.0  13470380    ACB  0.019573   \n2021-01-05  22880.0  23680.0  22640.0  23480.0  23367380    ACB  0.024433   \n2021-01-06  23760.0  24480.0  23440.0  23920.0  19854880    ACB  0.018739   \n2021-01-07  23920.0  24000.0  23680.0  23920.0  14545130    ACB  0.000000   \n2021-01-08  23960.0  24320.0  23840.0  24160.0  19399130    ACB  0.010033   \n...             ...      ...      ...      ...       ...    ...       ...   \n2022-02-15  33000.0  34000.0  32700.0  34000.0   8107200    VRE  0.030303   \n2022-02-16  34200.0  34450.0  33750.0  34300.0   4748300    VRE  0.008824   \n2022-02-17  34300.0  34750.0  34000.0  34450.0   3764700    VRE  0.004373   \n2022-02-18  34000.0  34350.0  33500.0  33600.0   6182000    VRE -0.024673   \n2022-02-21  33550.0  34200.0  33450.0  34100.0   5509700    VRE  0.014881   \n\n              SMA_5        SMA_15  SMA_ratio  ...  Stochastic_%D_5  \\\nDate                                          ...                    \n2021-01-04  22408.0  22520.000000   1.004998  ...        68.220847   \n2021-01-05  22656.0  22581.333333   0.996704  ...        75.320847   \n2021-01-06  23008.0  22682.666667   0.985860  ...        80.195800   \n2021-01-07  23344.0  22770.666667   0.975440  ...        80.660447   \n2021-01-08  23680.0  22872.000000   0.965878  ...        80.818549   \n...             ...           ...        ...  ...              ...   \n2022-02-15  34700.0  34110.000000   0.982997  ...        34.472028   \n2022-02-16  34380.0  34180.000000   0.994183  ...        28.318182   \n2022-02-17  34070.0  34236.666667   1.004892  ...        25.269231   \n2022-02-18  33870.0  34270.000000   1.011810  ...        34.049719   \n2022-02-21  34090.0  34476.666667   1.011343  ...        47.708255   \n\n            Stochastic_%D_15  Stochastic_Ratio      RSI_5     RSI_15  \\\nDate                                                                   \n2021-01-04         52.640280          1.295982  69.928629  62.438312   \n2021-01-05         54.132528          1.391416  79.824566  67.514230   \n2021-01-06         58.002348          1.382630  79.824566  68.496611   \n2021-01-07         59.972045          1.344967  79.824566  68.496611   \n2021-01-08         62.304688          1.297150  79.824566  68.496611   \n...                      ...               ...        ...        ...   \n2022-02-15         50.415762          0.683755  44.765089  51.806048   \n2022-02-16         50.626288          0.559357  48.965481  52.980621   \n2022-02-17         49.841032          0.506997  51.281031  53.586608   \n2022-02-18         49.434528          0.688784  38.808497  49.697813   \n2022-02-21         53.987373          0.883693  48.091664  51.897887   \n\n            RSI_ratio        MACD  Close_Shifted    Target  Target_Direction  \nDate                                                                          \n2021-01-04   1.119963  134.526350        24080.0  4.370629                 1  \n2021-01-05   1.184794  314.731866        23880.0  0.505051                 1  \n2021-01-06   1.199164  498.404589        23880.0  1.170569                 1  \n2021-01-07   1.199164  584.780153        24200.0  0.000000                 0  \n2021-01-08   1.206321  660.800059        23960.0 -8.524590                 0  \n...               ...         ...            ...       ...               ...  \n2022-02-15   0.864090  101.808515        34900.0 -0.584795                 0  \n2022-02-16   0.924215   89.673589        34000.0 -0.874636                 0  \n2022-02-17   0.956975  110.108482        34000.0 -1.470588                 0  \n2022-02-18   0.780889  -59.642350        33500.0 -0.149031                 0  \n2022-02-21   0.926659  -52.011904        33500.0 -3.244838                 0  \n\n[8118 rows x 30 columns]",
      "text/html": "<div>\n<style scoped>\n    .dataframe tbody tr th:only-of-type {\n        vertical-align: middle;\n    }\n\n    .dataframe tbody tr th {\n        vertical-align: top;\n    }\n\n    .dataframe thead th {\n        text-align: right;\n    }\n</style>\n<table border=\"1\" class=\"dataframe\">\n  <thead>\n    <tr style=\"text-align: right;\">\n      <th></th>\n      <th>Open</th>\n      <th>High</th>\n      <th>Low</th>\n      <th>Close</th>\n      <th>Volume</th>\n      <th>Symbol</th>\n      <th>Return</th>\n      <th>SMA_5</th>\n      <th>SMA_15</th>\n      <th>SMA_ratio</th>\n      <th>...</th>\n      <th>Stochastic_%D_5</th>\n      <th>Stochastic_%D_15</th>\n      <th>Stochastic_Ratio</th>\n      <th>RSI_5</th>\n      <th>RSI_15</th>\n      <th>RSI_ratio</th>\n      <th>MACD</th>\n      <th>Close_Shifted</th>\n      <th>Target</th>\n      <th>Target_Direction</th>\n    </tr>\n    <tr>\n      <th>Date</th>\n      <th></th>\n      <th></th>\n      <th></th>\n      <th></th>\n      <th></th>\n      <th></th>\n      <th></th>\n      <th></th>\n      <th></th>\n      <th></th>\n      <th></th>\n      <th></th>\n      <th></th>\n      <th></th>\n      <th></th>\n      <th></th>\n      <th></th>\n      <th></th>\n      <th></th>\n      <th></th>\n      <th></th>\n    </tr>\n  </thead>\n  <tbody>\n    <tr>\n      <th>2021-01-04</th>\n      <td>22840.0</td>\n      <td>23080.0</td>\n      <td>22800.0</td>\n      <td>22920.0</td>\n      <td>13470380</td>\n      <td>ACB</td>\n      <td>0.019573</td>\n      <td>22408.0</td>\n      <td>22520.000000</td>\n      <td>1.004998</td>\n      <td>...</td>\n      <td>68.220847</td>\n      <td>52.640280</td>\n      <td>1.295982</td>\n      <td>69.928629</td>\n      <td>62.438312</td>\n      <td>1.119963</td>\n      <td>134.526350</td>\n      <td>24080.0</td>\n      <td>4.370629</td>\n      <td>1</td>\n    </tr>\n    <tr>\n      <th>2021-01-05</th>\n      <td>22880.0</td>\n      <td>23680.0</td>\n      <td>22640.0</td>\n      <td>23480.0</td>\n      <td>23367380</td>\n      <td>ACB</td>\n      <td>0.024433</td>\n      <td>22656.0</td>\n      <td>22581.333333</td>\n      <td>0.996704</td>\n      <td>...</td>\n      <td>75.320847</td>\n      <td>54.132528</td>\n      <td>1.391416</td>\n      <td>79.824566</td>\n      <td>67.514230</td>\n      <td>1.184794</td>\n      <td>314.731866</td>\n      <td>23880.0</td>\n      <td>0.505051</td>\n      <td>1</td>\n    </tr>\n    <tr>\n      <th>2021-01-06</th>\n      <td>23760.0</td>\n      <td>24480.0</td>\n      <td>23440.0</td>\n      <td>23920.0</td>\n      <td>19854880</td>\n      <td>ACB</td>\n      <td>0.018739</td>\n      <td>23008.0</td>\n      <td>22682.666667</td>\n      <td>0.985860</td>\n      <td>...</td>\n      <td>80.195800</td>\n      <td>58.002348</td>\n      <td>1.382630</td>\n      <td>79.824566</td>\n      <td>68.496611</td>\n      <td>1.199164</td>\n      <td>498.404589</td>\n      <td>23880.0</td>\n      <td>1.170569</td>\n      <td>1</td>\n    </tr>\n    <tr>\n      <th>2021-01-07</th>\n      <td>23920.0</td>\n      <td>24000.0</td>\n      <td>23680.0</td>\n      <td>23920.0</td>\n      <td>14545130</td>\n      <td>ACB</td>\n      <td>0.000000</td>\n      <td>23344.0</td>\n      <td>22770.666667</td>\n      <td>0.975440</td>\n      <td>...</td>\n      <td>80.660447</td>\n      <td>59.972045</td>\n      <td>1.344967</td>\n      <td>79.824566</td>\n      <td>68.496611</td>\n      <td>1.199164</td>\n      <td>584.780153</td>\n      <td>24200.0</td>\n      <td>0.000000</td>\n      <td>0</td>\n    </tr>\n    <tr>\n      <th>2021-01-08</th>\n      <td>23960.0</td>\n      <td>24320.0</td>\n      <td>23840.0</td>\n      <td>24160.0</td>\n      <td>19399130</td>\n      <td>ACB</td>\n      <td>0.010033</td>\n      <td>23680.0</td>\n      <td>22872.000000</td>\n      <td>0.965878</td>\n      <td>...</td>\n      <td>80.818549</td>\n      <td>62.304688</td>\n      <td>1.297150</td>\n      <td>79.824566</td>\n      <td>68.496611</td>\n      <td>1.206321</td>\n      <td>660.800059</td>\n      <td>23960.0</td>\n      <td>-8.524590</td>\n      <td>0</td>\n    </tr>\n    <tr>\n      <th>...</th>\n      <td>...</td>\n      <td>...</td>\n      <td>...</td>\n      <td>...</td>\n      <td>...</td>\n      <td>...</td>\n      <td>...</td>\n      <td>...</td>\n      <td>...</td>\n      <td>...</td>\n      <td>...</td>\n      <td>...</td>\n      <td>...</td>\n      <td>...</td>\n      <td>...</td>\n      <td>...</td>\n      <td>...</td>\n      <td>...</td>\n      <td>...</td>\n      <td>...</td>\n      <td>...</td>\n    </tr>\n    <tr>\n      <th>2022-02-15</th>\n      <td>33000.0</td>\n      <td>34000.0</td>\n      <td>32700.0</td>\n      <td>34000.0</td>\n      <td>8107200</td>\n      <td>VRE</td>\n      <td>0.030303</td>\n      <td>34700.0</td>\n      <td>34110.000000</td>\n      <td>0.982997</td>\n      <td>...</td>\n      <td>34.472028</td>\n      <td>50.415762</td>\n      <td>0.683755</td>\n      <td>44.765089</td>\n      <td>51.806048</td>\n      <td>0.864090</td>\n      <td>101.808515</td>\n      <td>34900.0</td>\n      <td>-0.584795</td>\n      <td>0</td>\n    </tr>\n    <tr>\n      <th>2022-02-16</th>\n      <td>34200.0</td>\n      <td>34450.0</td>\n      <td>33750.0</td>\n      <td>34300.0</td>\n      <td>4748300</td>\n      <td>VRE</td>\n      <td>0.008824</td>\n      <td>34380.0</td>\n      <td>34180.000000</td>\n      <td>0.994183</td>\n      <td>...</td>\n      <td>28.318182</td>\n      <td>50.626288</td>\n      <td>0.559357</td>\n      <td>48.965481</td>\n      <td>52.980621</td>\n      <td>0.924215</td>\n      <td>89.673589</td>\n      <td>34000.0</td>\n      <td>-0.874636</td>\n      <td>0</td>\n    </tr>\n    <tr>\n      <th>2022-02-17</th>\n      <td>34300.0</td>\n      <td>34750.0</td>\n      <td>34000.0</td>\n      <td>34450.0</td>\n      <td>3764700</td>\n      <td>VRE</td>\n      <td>0.004373</td>\n      <td>34070.0</td>\n      <td>34236.666667</td>\n      <td>1.004892</td>\n      <td>...</td>\n      <td>25.269231</td>\n      <td>49.841032</td>\n      <td>0.506997</td>\n      <td>51.281031</td>\n      <td>53.586608</td>\n      <td>0.956975</td>\n      <td>110.108482</td>\n      <td>34000.0</td>\n      <td>-1.470588</td>\n      <td>0</td>\n    </tr>\n    <tr>\n      <th>2022-02-18</th>\n      <td>34000.0</td>\n      <td>34350.0</td>\n      <td>33500.0</td>\n      <td>33600.0</td>\n      <td>6182000</td>\n      <td>VRE</td>\n      <td>-0.024673</td>\n      <td>33870.0</td>\n      <td>34270.000000</td>\n      <td>1.011810</td>\n      <td>...</td>\n      <td>34.049719</td>\n      <td>49.434528</td>\n      <td>0.688784</td>\n      <td>38.808497</td>\n      <td>49.697813</td>\n      <td>0.780889</td>\n      <td>-59.642350</td>\n      <td>33500.0</td>\n      <td>-0.149031</td>\n      <td>0</td>\n    </tr>\n    <tr>\n      <th>2022-02-21</th>\n      <td>33550.0</td>\n      <td>34200.0</td>\n      <td>33450.0</td>\n      <td>34100.0</td>\n      <td>5509700</td>\n      <td>VRE</td>\n      <td>0.014881</td>\n      <td>34090.0</td>\n      <td>34476.666667</td>\n      <td>1.011343</td>\n      <td>...</td>\n      <td>47.708255</td>\n      <td>53.987373</td>\n      <td>0.883693</td>\n      <td>48.091664</td>\n      <td>51.897887</td>\n      <td>0.926659</td>\n      <td>-52.011904</td>\n      <td>33500.0</td>\n      <td>-3.244838</td>\n      <td>0</td>\n    </tr>\n  </tbody>\n</table>\n<p>8118 rows × 30 columns</p>\n</div>"
     },
     "execution_count": 43,
     "metadata": {},
     "output_type": "execute_result"
    }
   ],
   "source": [
    "test_data"
   ],
   "metadata": {
    "collapsed": false,
    "pycharm": {
     "name": "#%%\n"
    }
   }
  },
  {
   "cell_type": "markdown",
   "metadata": {
    "id": "IVX6-JtaQX6I"
   },
   "source": [
    "# Validation Curves"
   ]
  },
  {
   "cell_type": "markdown",
   "metadata": {
    "id": "vowo7OGlQX6I"
   },
   "source": [
    "To determine the initial values that will be given to GridSearchCV, upon which it will work to find the best combination, we can use Validation Curves for each of the parameters. Validation curves also look at cross validation and provides a score of prediction for in sample and out of sample. This provides us a good idea of the initial value around which we can provide a range to the GridSearchCV.\n",
    "Below is an example of validation curve score for n_estimators. At the lowest n_estimators, we see underfitting while at higher n_estimators we see over-fitting. Underfitting leads to high bias-low variance where overfitting leads to low bias-high variance. We can see that at n=7, we obtain a good tradeoff between bias and variance. Hence in our GridSearchCV, we use n_estimators to be around 7."
   ]
  },
  {
   "cell_type": "code",
   "execution_count": 44,
   "metadata": {
    "id": "9DP3Rfp9QX6I",
    "outputId": "5bb90e6e-67ef-4d2f-f663-5809f35a44a5",
    "pycharm": {
     "name": "#%%\n"
    }
   },
   "outputs": [],
   "source": [
    "# #Separate between X and Y\n",
    "# X_train = train_data.loc[:,Target_variables]\n",
    "#\n",
    "# Y_train = train_data.loc[:,['Target_Direction']]\n",
    "#\n",
    "# #Create validation curve for the Random Forest Classifier\n",
    "# rf = RandomForestClassifier()\n",
    "# train_scoreNum, test_scoreNum = validation_curve(rf,\n",
    "#                                 X = X_train.loc['2010-01-01':], y = Y_train.loc['2010-01-01':,'Target_Direction'],\n",
    "#                                 param_name = 'n_estimators',\n",
    "#                                 param_range = [5,10,15,20,25,30,100], cv = TimeSeriesSplit(n_splits = 3))\n",
    "#\n",
    "# train_scores_mean = np.mean(train_scoreNum, axis=1)\n",
    "# train_scores_std = np.std(train_scoreNum, axis=1)\n",
    "# test_scores_mean = np.mean(test_scoreNum, axis=1)\n",
    "# test_scores_std = np.std(test_scoreNum, axis=1)\n",
    "#\n",
    "# plt.figure(figsize = (20,10))\n",
    "# plt.plot([5,10,15,20,25,30,100],train_scores_mean)\n",
    "# plt.plot([5,10,15,20,25,30,100],test_scores_mean)\n",
    "# plt.legend(['Train Score','Test Score'], fontsize = 'large')\n",
    "# plt.title('Validation Curve Score for n_estimators', fontsize = 'large')\n",
    "#\n"
   ]
  },
  {
   "cell_type": "code",
   "execution_count": 45,
   "metadata": {},
   "outputs": [],
   "source": [
    "# #Separate between X and Y\n",
    "# X_train = train_data.loc[:,Target_variables]\n",
    "#\n",
    "# Y_train = train_data.loc[:,['Target_Direction']]\n",
    "#\n",
    "# #Create validation curve for the Random Forest Classifier\n",
    "# rf = RandomForestClassifier()\n",
    "# train_scoreNum, test_scoreNum = validation_curve(rf,\n",
    "#                                 X = X_train.loc['2010-01-01':], y = Y_train.loc['2010-01-01':,'Target_Direction'],\n",
    "#                                 param_name = 'max_depth',\n",
    "#                                 param_range = [5,10,15,20,25,30,100], cv = TimeSeriesSplit(n_splits = 3))\n",
    "#\n",
    "# train_scores_mean = np.mean(train_scoreNum, axis=1)\n",
    "# train_scores_std = np.std(train_scoreNum, axis=1)\n",
    "# test_scores_mean = np.mean(test_scoreNum, axis=1)\n",
    "# test_scores_std = np.std(test_scoreNum, axis=1)\n",
    "#\n",
    "# plt.figure(figsize = (20,10))\n",
    "# plt.plot([5,10,15,20,25,30,100],train_scores_mean)\n",
    "# plt.plot([5,10,15,20,25,30,100],test_scores_mean)\n",
    "# plt.legend(['Train Score','Test Score'], fontsize = 'large')\n",
    "# plt.title('Validation Curve Score for max_depth', fontsize = 'large')\n",
    "#\n"
   ]
  },
  {
   "cell_type": "code",
   "execution_count": 46,
   "metadata": {},
   "outputs": [],
   "source": [
    "# #Separate between X and Y\n",
    "# X_train = train_data.loc[:,Target_variables]\n",
    "#\n",
    "# Y_train = train_data.loc[:,['Target_Direction']]\n",
    "#\n",
    "# #Create validation curve for the Random Forest Classifier\n",
    "# rf = RandomForestClassifier()\n",
    "# train_scoreNum, test_scoreNum = validation_curve(rf,\n",
    "#                                 X = X_train.loc['2010-01-01':], y = Y_train.loc['2010-01-01':,'Target_Direction'],\n",
    "#                                 param_name = 'min_samples_leaf',\n",
    "#                                 param_range = [5,10,15,20,25,30,100], cv = TimeSeriesSplit(n_splits = 3))\n",
    "#\n",
    "# train_scores_mean = np.mean(train_scoreNum, axis=1)\n",
    "# train_scores_std = np.std(train_scoreNum, axis=1)\n",
    "# test_scores_mean = np.mean(test_scoreNum, axis=1)\n",
    "# test_scores_std = np.std(test_scoreNum, axis=1)\n",
    "#\n",
    "# plt.figure(figsize = (20,10))\n",
    "# plt.plot([5,10,15,20,25,30,100],train_scores_mean)\n",
    "# plt.plot([5,10,15,20,25,30,100],test_scores_mean)\n",
    "# plt.legend(['Train Score','Test Score'], fontsize = 'large')\n",
    "# plt.title('Validation Curve Score for min_samples_leaf', fontsize = 'large')\n",
    "#\n"
   ]
  },
  {
   "cell_type": "code",
   "execution_count": 47,
   "metadata": {},
   "outputs": [],
   "source": [
    "# #Separate between X and Y\n",
    "# X_train = train_data.loc[:,Target_variables]\n",
    "#\n",
    "# Y_train = train_data.loc[:,['Target_Direction']]\n",
    "#\n",
    "# #Create validation curve for the Random Forest Classifier\n",
    "# rf = RandomForestClassifier()\n",
    "# train_scoreNum, test_scoreNum = validation_curve(rf,\n",
    "#                                 X = X_train.loc['2010-01-01':], y = Y_train.loc['2010-01-01':,'Target_Direction'],\n",
    "#                                 param_name = 'min_samples_split',\n",
    "#                                 param_range = [5,10,15,20,25,30,100], cv = TimeSeriesSplit(n_splits = 3))\n",
    "#\n",
    "# train_scores_mean = np.mean(train_scoreNum, axis=1)\n",
    "# train_scores_std = np.std(train_scoreNum, axis=1)\n",
    "# test_scores_mean = np.mean(test_scoreNum, axis=1)\n",
    "# test_scores_std = np.std(test_scoreNum, axis=1)\n",
    "#\n",
    "# plt.figure(figsize = (20,10))\n",
    "# plt.plot([5,10,15,20,25,30,100],train_scores_mean)\n",
    "# plt.plot([5,10,15,20,25,30,100],test_scores_mean)\n",
    "# plt.legend(['Train Score','Test Score'], fontsize = 'large')\n",
    "# plt.title('Validation Curve Score for min_samples_split', fontsize = 'large')\n",
    "#\n"
   ]
  },
  {
   "cell_type": "markdown",
   "metadata": {
    "id": "4J-_cN9JQX6I"
   },
   "source": [
    "# Pickle files"
   ]
  },
  {
   "cell_type": "markdown",
   "metadata": {
    "id": "VaDnO8aXQX6J"
   },
   "source": [
    "Python offers a very convenient way of saving function files using the pickle package. The idea would be to fit the model on the data and save this fitted model into pickle files for each cluster. This way we would have a different model saved for each cluster. Hence, when predicting for a particular company, we will use the model in the corresponding cluster’s pickle file and make our prediction."
   ]
  },
  {
   "cell_type": "markdown",
   "metadata": {
    "id": "W4Z2TwT6QX6J"
   },
   "source": [
    "# Building Random Forest Model"
   ]
  },
  {
   "cell_type": "code",
   "execution_count": 48,
   "metadata": {
    "id": "MLh4a3K9QX6J",
    "outputId": "6c671a2b-48cd-41c0-ee60-63463610a166",
    "pycharm": {
     "name": "#%%\n"
    }
   },
   "outputs": [
    {
     "name": "stdout",
     "output_type": "stream",
     "text": [
      "[0 1 2 3 4 5 6 7 8 9]\n",
      "The current cluster running is : 0\n",
      "Fitting 3 folds for each of 150 candidates, totalling 450 fits\n"
     ]
    },
    {
     "name": "stderr",
     "output_type": "stream",
     "text": [
      "[Parallel(n_jobs=1)]: Using backend SequentialBackend with 1 concurrent workers.\n",
      "[Parallel(n_jobs=1)]: Done 450 out of 450 | elapsed:   13.9s finished\n",
      "[Parallel(n_jobs=1)]: Using backend SequentialBackend with 1 concurrent workers.\n"
     ]
    },
    {
     "name": "stdout",
     "output_type": "stream",
     "text": [
      "The current cluster running is : 1\n",
      "Fitting 3 folds for each of 150 candidates, totalling 450 fits\n"
     ]
    },
    {
     "name": "stderr",
     "output_type": "stream",
     "text": [
      "[Parallel(n_jobs=1)]: Done 450 out of 450 | elapsed:   19.0s finished\n",
      "[Parallel(n_jobs=1)]: Using backend SequentialBackend with 1 concurrent workers.\n"
     ]
    },
    {
     "name": "stdout",
     "output_type": "stream",
     "text": [
      "The current cluster running is : 2\n",
      "Fitting 3 folds for each of 150 candidates, totalling 450 fits\n"
     ]
    },
    {
     "name": "stderr",
     "output_type": "stream",
     "text": [
      "[Parallel(n_jobs=1)]: Done 450 out of 450 | elapsed:   11.3s finished\n",
      "[Parallel(n_jobs=1)]: Using backend SequentialBackend with 1 concurrent workers.\n"
     ]
    },
    {
     "name": "stdout",
     "output_type": "stream",
     "text": [
      "The current cluster running is : 3\n",
      "Fitting 3 folds for each of 150 candidates, totalling 450 fits\n"
     ]
    },
    {
     "name": "stderr",
     "output_type": "stream",
     "text": [
      "[Parallel(n_jobs=1)]: Done 450 out of 450 | elapsed:   41.3s finished\n",
      "[Parallel(n_jobs=1)]: Using backend SequentialBackend with 1 concurrent workers.\n"
     ]
    },
    {
     "name": "stdout",
     "output_type": "stream",
     "text": [
      "The current cluster running is : 4\n",
      "Fitting 3 folds for each of 150 candidates, totalling 450 fits\n"
     ]
    },
    {
     "name": "stderr",
     "output_type": "stream",
     "text": [
      "[Parallel(n_jobs=1)]: Done 450 out of 450 | elapsed:   15.2s finished\n",
      "[Parallel(n_jobs=1)]: Using backend SequentialBackend with 1 concurrent workers.\n"
     ]
    },
    {
     "name": "stdout",
     "output_type": "stream",
     "text": [
      "The current cluster running is : 5\n",
      "Fitting 3 folds for each of 150 candidates, totalling 450 fits\n"
     ]
    },
    {
     "name": "stderr",
     "output_type": "stream",
     "text": [
      "[Parallel(n_jobs=1)]: Done 450 out of 450 | elapsed:   15.1s finished\n",
      "[Parallel(n_jobs=1)]: Using backend SequentialBackend with 1 concurrent workers.\n"
     ]
    },
    {
     "name": "stdout",
     "output_type": "stream",
     "text": [
      "The current cluster running is : 6\n",
      "Fitting 3 folds for each of 150 candidates, totalling 450 fits\n"
     ]
    },
    {
     "name": "stderr",
     "output_type": "stream",
     "text": [
      "[Parallel(n_jobs=1)]: Done 450 out of 450 | elapsed:    9.0s finished\n",
      "[Parallel(n_jobs=1)]: Using backend SequentialBackend with 1 concurrent workers.\n"
     ]
    },
    {
     "name": "stdout",
     "output_type": "stream",
     "text": [
      "The current cluster running is : 7\n",
      "Fitting 3 folds for each of 150 candidates, totalling 450 fits\n"
     ]
    },
    {
     "name": "stderr",
     "output_type": "stream",
     "text": [
      "[Parallel(n_jobs=1)]: Done 450 out of 450 | elapsed:   32.4s finished\n",
      "[Parallel(n_jobs=1)]: Using backend SequentialBackend with 1 concurrent workers.\n"
     ]
    },
    {
     "name": "stdout",
     "output_type": "stream",
     "text": [
      "The current cluster running is : 8\n",
      "Fitting 3 folds for each of 150 candidates, totalling 450 fits\n"
     ]
    },
    {
     "name": "stderr",
     "output_type": "stream",
     "text": [
      "[Parallel(n_jobs=1)]: Done 450 out of 450 | elapsed:    9.1s finished\n",
      "[Parallel(n_jobs=1)]: Using backend SequentialBackend with 1 concurrent workers.\n"
     ]
    },
    {
     "name": "stdout",
     "output_type": "stream",
     "text": [
      "The current cluster running is : 9\n",
      "Fitting 3 folds for each of 150 candidates, totalling 450 fits\n"
     ]
    },
    {
     "name": "stderr",
     "output_type": "stream",
     "text": [
      "[Parallel(n_jobs=1)]: Done 450 out of 450 | elapsed:   19.3s finished\n"
     ]
    }
   ],
   "source": [
    "#Run the loop for every unique cluster - 17 loops\n",
    "print(clusters_df.Cluster.unique())\n",
    "lst_params = {}\n",
    "for cluster_selected in clusters_df.Cluster.unique():\n",
    "\n",
    "    print(f'The current cluster running is : {cluster_selected}')\n",
    "\n",
    "    #Get data for that cluster\n",
    "    co_data = all_data[all_data.Symbol.isin(clusters_df.loc[clusters_df.Cluster==cluster_selected,'Companies'].tolist())].copy()\n",
    "    co_train = co_data.loc[:'2020-12-31']\n",
    "    co_train = co_train.dropna().copy()\n",
    "\n",
    "    X_train = co_train.loc[:,Target_variables]\n",
    "\n",
    "    Y_train = co_train.loc[:,'Target_Direction']\n",
    "\n",
    "    #Define paramters from Validation Curve\n",
    "    params = {'max_depth': [5, 7],\n",
    "          'max_features': ['sqrt'],\n",
    "          'min_samples_leaf': [10, 12, 15, 17, 20],\n",
    "          'n_estimators': [5, 6, 7, 8, 9],\n",
    "         'min_samples_split':[20, 25, 30]} #Using Validation Curves\n",
    "\n",
    "    rf = RandomForestClassifier()\n",
    "\n",
    "    #Perform a TimeSeriesSplit on the dataset\n",
    "    time_series_split = TimeSeriesSplit(n_splits = 3)\n",
    "\n",
    "\n",
    "    rf_cv = GridSearchCV(rf, params, cv = time_series_split, n_jobs = 1, verbose = 1)\n",
    "\n",
    "    #Fit the random forest with our X_train and Y_train\n",
    "    rf_cv.fit(X_train, Y_train)\n",
    "    lst_params[cluster_selected] = rf_cv.best_params_\n",
    "\n",
    "\n",
    "    #Save the fited variable into a Pickle file\n",
    "    file_loc = f'{os.getcwd()}Cluster_{cluster_selected}'\n",
    "    pickle.dump(rf_cv, open(file_loc,'wb'))\n",
    "\n",
    "    #\\\\Pickle_Files\\\\"
   ]
  },
  {
   "cell_type": "code",
   "execution_count": 49,
   "outputs": [
    {
     "data": {
      "text/plain": "{0: {'max_depth': 7,\n  'max_features': 'sqrt',\n  'min_samples_leaf': 10,\n  'min_samples_split': 30,\n  'n_estimators': 6},\n 1: {'max_depth': 5,\n  'max_features': 'sqrt',\n  'min_samples_leaf': 15,\n  'min_samples_split': 20,\n  'n_estimators': 7},\n 2: {'max_depth': 7,\n  'max_features': 'sqrt',\n  'min_samples_leaf': 12,\n  'min_samples_split': 25,\n  'n_estimators': 6},\n 3: {'max_depth': 7,\n  'max_features': 'sqrt',\n  'min_samples_leaf': 20,\n  'min_samples_split': 20,\n  'n_estimators': 8},\n 4: {'max_depth': 5,\n  'max_features': 'sqrt',\n  'min_samples_leaf': 12,\n  'min_samples_split': 25,\n  'n_estimators': 7},\n 5: {'max_depth': 5,\n  'max_features': 'sqrt',\n  'min_samples_leaf': 20,\n  'min_samples_split': 30,\n  'n_estimators': 8},\n 6: {'max_depth': 5,\n  'max_features': 'sqrt',\n  'min_samples_leaf': 15,\n  'min_samples_split': 30,\n  'n_estimators': 8},\n 7: {'max_depth': 5,\n  'max_features': 'sqrt',\n  'min_samples_leaf': 20,\n  'min_samples_split': 25,\n  'n_estimators': 5},\n 8: {'max_depth': 7,\n  'max_features': 'sqrt',\n  'min_samples_leaf': 17,\n  'min_samples_split': 30,\n  'n_estimators': 9},\n 9: {'max_depth': 5,\n  'max_features': 'sqrt',\n  'min_samples_leaf': 12,\n  'min_samples_split': 25,\n  'n_estimators': 8}}"
     },
     "execution_count": 49,
     "metadata": {},
     "output_type": "execute_result"
    }
   ],
   "source": [
    "lst_params"
   ],
   "metadata": {
    "collapsed": false,
    "pycharm": {
     "name": "#%%\n"
    }
   }
  },
  {
   "cell_type": "code",
   "execution_count": 73,
   "metadata": {
    "id": "OvH8U6H9QX6J",
    "pycharm": {
     "name": "#%%\n"
    }
   },
   "outputs": [
    {
     "data": {
      "text/plain": "  max_depth max_features min_samples_leaf min_samples_split n_estimators\n0         7         sqrt               10                30            6\n1         5         sqrt               15                20            7\n2         7         sqrt               12                25            6\n3         7         sqrt               20                20            8\n4         5         sqrt               12                25            7\n5         5         sqrt               20                30            8\n6         5         sqrt               15                30            8\n7         5         sqrt               20                25            5\n8         7         sqrt               17                30            9\n9         5         sqrt               12                25            8",
      "text/html": "<div>\n<style scoped>\n    .dataframe tbody tr th:only-of-type {\n        vertical-align: middle;\n    }\n\n    .dataframe tbody tr th {\n        vertical-align: top;\n    }\n\n    .dataframe thead th {\n        text-align: right;\n    }\n</style>\n<table border=\"1\" class=\"dataframe\">\n  <thead>\n    <tr style=\"text-align: right;\">\n      <th></th>\n      <th>max_depth</th>\n      <th>max_features</th>\n      <th>min_samples_leaf</th>\n      <th>min_samples_split</th>\n      <th>n_estimators</th>\n    </tr>\n  </thead>\n  <tbody>\n    <tr>\n      <th>0</th>\n      <td>7</td>\n      <td>sqrt</td>\n      <td>10</td>\n      <td>30</td>\n      <td>6</td>\n    </tr>\n    <tr>\n      <th>1</th>\n      <td>5</td>\n      <td>sqrt</td>\n      <td>15</td>\n      <td>20</td>\n      <td>7</td>\n    </tr>\n    <tr>\n      <th>2</th>\n      <td>7</td>\n      <td>sqrt</td>\n      <td>12</td>\n      <td>25</td>\n      <td>6</td>\n    </tr>\n    <tr>\n      <th>3</th>\n      <td>7</td>\n      <td>sqrt</td>\n      <td>20</td>\n      <td>20</td>\n      <td>8</td>\n    </tr>\n    <tr>\n      <th>4</th>\n      <td>5</td>\n      <td>sqrt</td>\n      <td>12</td>\n      <td>25</td>\n      <td>7</td>\n    </tr>\n    <tr>\n      <th>5</th>\n      <td>5</td>\n      <td>sqrt</td>\n      <td>20</td>\n      <td>30</td>\n      <td>8</td>\n    </tr>\n    <tr>\n      <th>6</th>\n      <td>5</td>\n      <td>sqrt</td>\n      <td>15</td>\n      <td>30</td>\n      <td>8</td>\n    </tr>\n    <tr>\n      <th>7</th>\n      <td>5</td>\n      <td>sqrt</td>\n      <td>20</td>\n      <td>25</td>\n      <td>5</td>\n    </tr>\n    <tr>\n      <th>8</th>\n      <td>7</td>\n      <td>sqrt</td>\n      <td>17</td>\n      <td>30</td>\n      <td>9</td>\n    </tr>\n    <tr>\n      <th>9</th>\n      <td>5</td>\n      <td>sqrt</td>\n      <td>12</td>\n      <td>25</td>\n      <td>8</td>\n    </tr>\n  </tbody>\n</table>\n</div>"
     },
     "execution_count": 73,
     "metadata": {},
     "output_type": "execute_result"
    }
   ],
   "source": [
    "df_param = pd.DataFrame(lst_params).T\n",
    "df_param"
   ]
  },
  {
   "cell_type": "code",
   "execution_count": null,
   "outputs": [],
   "source": [],
   "metadata": {
    "collapsed": false,
    "pycharm": {
     "name": "#%%\n"
    }
   }
  },
  {
   "cell_type": "code",
   "execution_count": 74,
   "outputs": [],
   "source": [
    "df_param.to_csv(\"bestparam.csv\")"
   ],
   "metadata": {
    "collapsed": false,
    "pycharm": {
     "name": "#%%\n"
    }
   }
  },
  {
   "cell_type": "markdown",
   "metadata": {
    "id": "y2-PcVIjQX6J"
   },
   "source": [
    "# Final prediction"
   ]
  },
  {
   "cell_type": "markdown",
   "source": [
    "Now that we have a saved model for each of the clusters, we can use these models to get predictions for the stocks. The models saved contain daily data to 31st December 2020, which is a significant number of data points for a good model. One can create this model up to the most recent date as well. The reason I used 31st December 2020 is to back-test the model from 1st January 2021 to now."
   ],
   "metadata": {
    "collapsed": false
   }
  },
  {
   "cell_type": "markdown",
   "metadata": {
    "id": "9ucX48woQX6K"
   },
   "source": [
    "# Trading : Back-test"
   ]
  },
  {
   "cell_type": "markdown",
   "metadata": {
    "id": "WZcjDAlOQX6K"
   },
   "source": [
    "In order to trade using this model, we would obtain a probability of an upward movement for each stock. We aim to go long on those stocks which the highest probability of up move. Let us look at an example.\n",
    "Let us assume that we are currently on 31st December 2020 and have created the model files. The next trading day is 2nd January 2021. At the end of 2nd January, we now have values for all the indicators using which we can predict each stocks movement. Hence, we will put these values in our models and get the probability of 1 (up movement) in next 7 trading days for each stock .\n"
   ]
  },
  {
   "cell_type": "code",
   "execution_count": 50,
   "outputs": [
    {
     "name": "stdout",
     "output_type": "stream",
     "text": [
      "['2021-02-03', '2021-12-17', '2021-03-30', '2021-07-26', '2021-10-28', '2021-12-20', '2021-04-19', '2021-03-09', '2021-06-15', '2021-08-12', '2021-11-30', '2021-12-14', '2021-10-04', '2021-11-18', '2021-04-15', '2021-02-17', '2021-05-12', '2022-01-26', '2021-11-26', '2021-08-19', '2021-07-29', '2021-12-21', '2021-12-29', '2022-01-19', '2021-02-26', '2021-03-10', '2021-08-05', '2021-07-27', '2021-12-22', '2022-02-11', '2021-03-16', '2021-12-13', '2021-05-27', '2021-03-18', '2021-05-18', '2021-06-23', '2021-11-08', '2022-01-04', '2021-04-27', '2021-11-23', '2021-12-15', '2021-05-07', '2022-01-27', '2021-01-21', '2021-03-17', '2022-01-17', '2021-05-11', '2021-04-23', '2022-02-10', '2021-04-22', '2021-09-30', '2021-10-11', '2021-11-05', '2021-04-12', '2021-08-31', '2021-03-22', '2021-02-18', '2021-02-08', '2021-03-29', '2021-04-29', '2021-05-20', '2021-08-30', '2021-03-25', '2021-09-10', '2022-02-21', '2021-03-23', '2021-10-12', '2021-07-23', '2021-11-17', '2021-01-04', '2021-02-05', '2021-06-14', '2021-12-23', '2021-10-19', '2021-04-26', '2021-11-29', '2021-11-03', '2021-01-07', '2021-01-06', '2021-07-09', '2021-04-06', '2021-08-03', '2021-10-14', '2021-10-22', '2021-11-02', '2021-12-16', '2022-01-18', '2021-08-11', '2021-12-31', '2021-07-30', '2021-02-09', '2021-01-18', '2021-12-27', '2021-01-29', '2021-08-13', '2021-04-09', '2021-07-20', '2021-07-28', '2021-05-25', '2021-05-14', '2021-07-12', '2021-06-09', '2021-07-19', '2021-04-02', '2021-06-03', '2021-02-24', '2021-06-22', '2021-03-08', '2021-09-14', '2021-08-27', '2021-06-28', '2021-10-21', '2021-11-01', '2021-12-30', '2021-08-04', '2021-12-09', '2022-01-14', '2021-10-29', '2021-04-08', '2021-09-23', '2021-08-23', '2021-01-19', '2022-01-07', '2021-10-20', '2022-02-09', '2021-08-18', '2021-08-24', '2021-02-04', '2021-05-05', '2021-03-24', '2022-02-18', '2021-10-27', '2021-07-16', '2021-06-21', '2021-03-01', '2021-01-25', '2021-04-01', '2021-09-29', '2021-11-15', '2021-11-24', '2021-09-09', '2021-07-01', '2022-02-15', '2021-07-05', '2021-03-11', '2021-10-13', '2021-10-25', '2021-04-07', '2021-08-26', '2021-12-10', '2021-06-24', '2021-03-04', '2021-04-16', '2021-01-26', '2021-05-04', '2021-05-31', '2021-09-07', '2021-05-19', '2022-01-11', '2022-01-21', '2021-05-26', '2021-01-12', '2021-01-14', '2021-03-19', '2021-09-08', '2021-10-08', '2021-12-07', '2021-09-16', '2021-08-25', '2021-08-10', '2021-11-04', '2021-06-18', '2022-01-05', '2021-06-17', '2021-08-17', '2021-09-15', '2021-03-31', '2021-01-05', '2021-07-08', '2021-08-16', '2022-02-14', '2021-06-11', '2021-03-02', '2021-07-07', '2021-11-16', '2021-09-28', '2021-03-05', '2021-06-08', '2021-05-21', '2021-09-22', '2021-04-20', '2021-04-05', '2022-01-06', '2021-08-02', '2021-06-02', '2021-06-25', '2021-01-22', '2021-05-28', '2021-08-06', '2022-02-07', '2021-06-10', '2021-01-11', '2021-12-06', '2021-12-02', '2021-02-22', '2021-09-24', '2022-01-10', '2021-11-12', '2021-08-20', '2021-11-22', '2022-01-20', '2021-06-07', '2021-10-26', '2021-07-22', '2022-01-25', '2021-01-13', '2022-02-17', '2021-12-03', '2021-06-29', '2021-03-03', '2022-01-24', '2021-12-28', '2021-01-15', '2021-01-08', '2021-02-02', '2022-01-13', '2022-02-08', '2021-11-25', '2021-10-05', '2021-11-19', '2021-03-26', '2021-12-08', '2021-05-24', '2021-02-01', '2021-05-10', '2021-01-28', '2021-06-30', '2021-07-13', '2021-02-25', '2021-10-15', '2021-07-06', '2021-05-13', '2021-11-10', '2021-06-16', '2021-09-17', '2021-01-20', '2021-07-14', '2021-08-09', '2021-09-01', '2021-04-13', '2021-07-02', '2021-10-07', '2021-11-09', '2021-10-01', '2021-11-11', '2021-10-18', '2021-03-12', '2021-04-28', '2021-09-21', '2021-04-14', '2021-05-17', '2021-06-04', '2021-09-20', '2021-07-21', '2021-06-01', '2021-09-27', '2021-09-06', '2021-03-15', '2021-05-06', '2021-12-01', '2021-12-24', '2022-01-12', '2022-01-28', '2021-02-23', '2021-10-06', '2022-02-16', '2021-02-19', '2021-09-13', '2021-01-27', '2021-07-15']\n"
     ]
    }
   ],
   "source": [
    "lst_days = []\n",
    "for i in test_data.index:\n",
    "    lst_days.append(str(i)[:10])\n",
    "\n",
    "lst_days = list(set(lst_days))\n",
    "print(lst_days)"
   ],
   "metadata": {
    "collapsed": false,
    "pycharm": {
     "name": "#%%\n"
    }
   }
  },
  {
   "cell_type": "code",
   "execution_count": 51,
   "outputs": [
    {
     "data": {
      "text/plain": "280"
     },
     "execution_count": 51,
     "metadata": {},
     "output_type": "execute_result"
    }
   ],
   "source": [
    "import datetime\n",
    "lst_days = sorted(lst_days, key=lambda x: datetime.datetime.strptime(x, '%Y-%m-%d') , reverse=False)\n",
    "len(lst_days)"
   ],
   "metadata": {
    "collapsed": false,
    "pycharm": {
     "name": "#%%\n"
    }
   }
  },
  {
   "cell_type": "code",
   "execution_count": 52,
   "metadata": {
    "id": "Aw5imzTRQX6K",
    "pycharm": {
     "name": "#%%\n"
    }
   },
   "outputs": [],
   "source": [
    "#Use 2nd January Data\n",
    "# day = '2021-12-20'\n",
    "lst_pred_for_tomorrow = []\n",
    "for day in lst_days[:60]:\n",
    "    day_data = test_data.loc[day]\n",
    "\n",
    "    pred_for_tomorrow = pd.DataFrame({'Date':[],\n",
    "                                      'company':[],\n",
    "                                      'prediction':[]})\n",
    "\n",
    "    #Predict each stock using the 2nd January Data\n",
    "    for cluster_selected in clusters_df.Cluster.unique():\n",
    "        rf_cv =  pickle.load(open(os.getcwd() + f'Cluster_{cluster_selected}', 'rb'))\n",
    "        best_rf = rf_cv.best_estimator_\n",
    "        cluster_data = day_data.loc[day_data.Symbol.isin(clusters_df.loc[clusters_df.Cluster==cluster_selected,'Companies'].tolist())].copy()\n",
    "        cluster_data = cluster_data.dropna()\n",
    "        if (cluster_data.shape[0]>0):\n",
    "            X_test = cluster_data.loc[:,Target_variables]\n",
    "\n",
    "            pred_for_tomorrow = pred_for_tomorrow.append(pd.DataFrame({'Date':cluster_data.index,\n",
    "                                                           'company':cluster_data['Symbol'], 'prediction':best_rf.predict_proba(X_test)[:,1]}),ignore_index = True)\n",
    "    lst_pred_for_tomorrow.append(pred_for_tomorrow)"
   ]
  },
  {
   "cell_type": "code",
   "execution_count": 53,
   "metadata": {
    "id": "bYi9jwaGQX6K",
    "outputId": "3983fa45-f48f-4886-ea50-8f6a5cb7927f",
    "pycharm": {
     "name": "#%%\n"
    }
   },
   "outputs": [
    {
     "data": {
      "text/plain": "1740"
     },
     "execution_count": 53,
     "metadata": {},
     "output_type": "execute_result"
    }
   ],
   "source": [
    "data_result = pd.concat(lst_pred_for_tomorrow)\n",
    "len(data_result)"
   ]
  },
  {
   "cell_type": "code",
   "execution_count": 54,
   "metadata": {
    "id": "UyiCm6anQX6K",
    "outputId": "28bbf4d2-9423-4c2d-b50f-a89e63abdfb3",
    "pycharm": {
     "name": "#%%\n"
    }
   },
   "outputs": [
    {
     "data": {
      "text/plain": "         Date company  prediction\n0  2021-01-04     MSN    0.546689\n1  2021-01-04     ACB    0.545144\n2  2021-01-04     MBB    0.461252\n3  2021-01-04     HPG    0.683716\n4  2021-01-04     BVH    0.544948\n..        ...     ...         ...\n24 2021-04-02     POW    0.555554\n25 2021-04-02     NVL    0.461272\n26 2021-04-02     SAB    0.491175\n27 2021-04-02     VCB    0.478925\n28 2021-04-02     VJC    0.466749\n\n[1740 rows x 3 columns]",
      "text/html": "<div>\n<style scoped>\n    .dataframe tbody tr th:only-of-type {\n        vertical-align: middle;\n    }\n\n    .dataframe tbody tr th {\n        vertical-align: top;\n    }\n\n    .dataframe thead th {\n        text-align: right;\n    }\n</style>\n<table border=\"1\" class=\"dataframe\">\n  <thead>\n    <tr style=\"text-align: right;\">\n      <th></th>\n      <th>Date</th>\n      <th>company</th>\n      <th>prediction</th>\n    </tr>\n  </thead>\n  <tbody>\n    <tr>\n      <th>0</th>\n      <td>2021-01-04</td>\n      <td>MSN</td>\n      <td>0.546689</td>\n    </tr>\n    <tr>\n      <th>1</th>\n      <td>2021-01-04</td>\n      <td>ACB</td>\n      <td>0.545144</td>\n    </tr>\n    <tr>\n      <th>2</th>\n      <td>2021-01-04</td>\n      <td>MBB</td>\n      <td>0.461252</td>\n    </tr>\n    <tr>\n      <th>3</th>\n      <td>2021-01-04</td>\n      <td>HPG</td>\n      <td>0.683716</td>\n    </tr>\n    <tr>\n      <th>4</th>\n      <td>2021-01-04</td>\n      <td>BVH</td>\n      <td>0.544948</td>\n    </tr>\n    <tr>\n      <th>...</th>\n      <td>...</td>\n      <td>...</td>\n      <td>...</td>\n    </tr>\n    <tr>\n      <th>24</th>\n      <td>2021-04-02</td>\n      <td>POW</td>\n      <td>0.555554</td>\n    </tr>\n    <tr>\n      <th>25</th>\n      <td>2021-04-02</td>\n      <td>NVL</td>\n      <td>0.461272</td>\n    </tr>\n    <tr>\n      <th>26</th>\n      <td>2021-04-02</td>\n      <td>SAB</td>\n      <td>0.491175</td>\n    </tr>\n    <tr>\n      <th>27</th>\n      <td>2021-04-02</td>\n      <td>VCB</td>\n      <td>0.478925</td>\n    </tr>\n    <tr>\n      <th>28</th>\n      <td>2021-04-02</td>\n      <td>VJC</td>\n      <td>0.466749</td>\n    </tr>\n  </tbody>\n</table>\n<p>1740 rows × 3 columns</p>\n</div>"
     },
     "execution_count": 54,
     "metadata": {},
     "output_type": "execute_result"
    }
   ],
   "source": [
    "data_result"
   ]
  },
  {
   "cell_type": "markdown",
   "metadata": {
    "id": "bjsoJj2MQX6K"
   },
   "source": [
    "We now have a dataframe with the probability of up move for each stock. This can be used for trading on 3rd January.\n",
    "\n",
    "Probability of up move for each company — Image by author\n",
    "In order to find the stocks with highest probability of up move, we sort the prediction column in a descending order and pick and top 10 stocks.\n",
    "Hence, once we have the 10 stocks, we will wait for 3rd January 2021 and buy at the Open price, hold for 7 days, and sell on the 7th trading day end Closing price. The main assumption here is that we can trade at the Open price and sell at the Close price. This is not too unrealistic given we know the timings of the market and can code to execute 1 minute after Opening and 1 minute before Closing of the day."
   ]
  },
  {
   "cell_type": "code",
   "execution_count": 54,
   "outputs": [],
   "source": [],
   "metadata": {
    "collapsed": false,
    "pycharm": {
     "name": "#%%\n"
    }
   }
  },
  {
   "cell_type": "code",
   "execution_count": 55,
   "metadata": {
    "id": "VpBwZHB-QX6L",
    "pycharm": {
     "name": "#%%\n"
    }
   },
   "outputs": [],
   "source": [
    "final_result = []\n",
    "for data in lst_pred_for_tomorrow:\n",
    "    top_10_pred = data.sort_values(by = ['prediction'], ascending = False)\n",
    "    # print(top_10_pred['Date'])\n",
    "    day = str(list(top_10_pred['Date'])[0])\n",
    "    # print(day)\n",
    "\n",
    "    for selected_company in top_10_pred['company']:\n",
    "        actual = all_data[all_data.Symbol == selected_company].loc[day,'Target_Direction']\n",
    "        pct_change = all_data[all_data.Symbol == selected_company].loc[day,'Target']\n",
    "        top_10_pred.loc[top_10_pred.company == selected_company,'actual'] = actual\n",
    "        top_10_pred.loc[top_10_pred.company == selected_company,'pct_change'] = pct_change\n",
    "\n",
    "    final_result.append(top_10_pred)"
   ]
  },
  {
   "cell_type": "code",
   "execution_count": 56,
   "outputs": [
    {
     "data": {
      "text/plain": "         Date company  prediction  actual  pct_change\n24 2021-01-04     POW    0.780389     1.0    1.792115\n3  2021-01-04     HPG    0.683716     1.0    6.937494\n16 2021-01-04     GVR    0.649584     1.0    6.879195\n23 2021-01-04     VPB    0.641302     1.0    4.999709\n22 2021-01-04     TPB    0.623702     0.0   -1.075160\n..        ...     ...         ...     ...         ...\n25 2021-04-02     NVL    0.461272     1.0   11.290620\n13 2021-04-02     VRE    0.424017     0.0   -0.563380\n1  2021-04-02     ACB    0.381623     0.0   -1.983003\n2  2021-04-02     MBB    0.378086     1.0    2.809917\n3  2021-04-02     HPG    0.376451     1.0    1.212144\n\n[1740 rows x 5 columns]",
      "text/html": "<div>\n<style scoped>\n    .dataframe tbody tr th:only-of-type {\n        vertical-align: middle;\n    }\n\n    .dataframe tbody tr th {\n        vertical-align: top;\n    }\n\n    .dataframe thead th {\n        text-align: right;\n    }\n</style>\n<table border=\"1\" class=\"dataframe\">\n  <thead>\n    <tr style=\"text-align: right;\">\n      <th></th>\n      <th>Date</th>\n      <th>company</th>\n      <th>prediction</th>\n      <th>actual</th>\n      <th>pct_change</th>\n    </tr>\n  </thead>\n  <tbody>\n    <tr>\n      <th>24</th>\n      <td>2021-01-04</td>\n      <td>POW</td>\n      <td>0.780389</td>\n      <td>1.0</td>\n      <td>1.792115</td>\n    </tr>\n    <tr>\n      <th>3</th>\n      <td>2021-01-04</td>\n      <td>HPG</td>\n      <td>0.683716</td>\n      <td>1.0</td>\n      <td>6.937494</td>\n    </tr>\n    <tr>\n      <th>16</th>\n      <td>2021-01-04</td>\n      <td>GVR</td>\n      <td>0.649584</td>\n      <td>1.0</td>\n      <td>6.879195</td>\n    </tr>\n    <tr>\n      <th>23</th>\n      <td>2021-01-04</td>\n      <td>VPB</td>\n      <td>0.641302</td>\n      <td>1.0</td>\n      <td>4.999709</td>\n    </tr>\n    <tr>\n      <th>22</th>\n      <td>2021-01-04</td>\n      <td>TPB</td>\n      <td>0.623702</td>\n      <td>0.0</td>\n      <td>-1.075160</td>\n    </tr>\n    <tr>\n      <th>...</th>\n      <td>...</td>\n      <td>...</td>\n      <td>...</td>\n      <td>...</td>\n      <td>...</td>\n    </tr>\n    <tr>\n      <th>25</th>\n      <td>2021-04-02</td>\n      <td>NVL</td>\n      <td>0.461272</td>\n      <td>1.0</td>\n      <td>11.290620</td>\n    </tr>\n    <tr>\n      <th>13</th>\n      <td>2021-04-02</td>\n      <td>VRE</td>\n      <td>0.424017</td>\n      <td>0.0</td>\n      <td>-0.563380</td>\n    </tr>\n    <tr>\n      <th>1</th>\n      <td>2021-04-02</td>\n      <td>ACB</td>\n      <td>0.381623</td>\n      <td>0.0</td>\n      <td>-1.983003</td>\n    </tr>\n    <tr>\n      <th>2</th>\n      <td>2021-04-02</td>\n      <td>MBB</td>\n      <td>0.378086</td>\n      <td>1.0</td>\n      <td>2.809917</td>\n    </tr>\n    <tr>\n      <th>3</th>\n      <td>2021-04-02</td>\n      <td>HPG</td>\n      <td>0.376451</td>\n      <td>1.0</td>\n      <td>1.212144</td>\n    </tr>\n  </tbody>\n</table>\n<p>1740 rows × 5 columns</p>\n</div>"
     },
     "execution_count": 56,
     "metadata": {},
     "output_type": "execute_result"
    }
   ],
   "source": [
    "pred_result = pd.concat(final_result)\n",
    "pred_result"
   ],
   "metadata": {
    "collapsed": false,
    "pycharm": {
     "name": "#%%\n"
    }
   }
  },
  {
   "cell_type": "code",
   "execution_count": 57,
   "metadata": {
    "id": "I-GcXVVKQX6L",
    "pycharm": {
     "name": "#%%\n"
    }
   },
   "outputs": [],
   "source": [
    "# top_10_pred.to_excel(\"result.xlsx\")"
   ]
  },
  {
   "cell_type": "code",
   "execution_count": 58,
   "outputs": [],
   "source": [
    "ratio = 0.6"
   ],
   "metadata": {
    "collapsed": false,
    "pycharm": {
     "name": "#%%\n"
    }
   }
  },
  {
   "cell_type": "markdown",
   "metadata": {
    "id": "KzPUmEX2QX6L"
   },
   "source": [
    "Thus, below is the table with the probability of prediction, the actual movement after 7 days and the percentage change that took place in next 7 days.\n",
    "\n",
    "Top 10 companies in our prediction — Image by author\n",
    "We can see that for 9 out of top 10 firms, the prediction was actually an up move in the next 7 trading days thus one could potentially trade on the prediction information on beginning of 3rd January 2021 and if all 10 stocks were bought, there would be a profit realized on 9 of these stocks assuming a holding period of 7 days."
   ]
  },
  {
   "cell_type": "code",
   "execution_count": 59,
   "metadata": {
    "id": "nMjFJBbsQX6L",
    "outputId": "ff9d139c-d2ac-4192-cbed-2ec8790f8a55",
    "pycharm": {
     "name": "#%%\n"
    }
   },
   "outputs": [
    {
     "data": {
      "text/plain": "         Date company  prediction  actual  pct_change\n22 2021-01-04     TPB    0.623702     0.0   -1.075160\n24 2021-01-05     POW    0.727479     0.0   -1.045296\n22 2021-01-05     TPB    0.499517     0.0   -1.073238\n27 2021-01-06     VCB    0.599137     0.0   -0.770033\n17 2021-01-07     BID    0.623702     0.0   -1.318639\n..        ...     ...         ...     ...         ...\n27 2021-04-02     VCB    0.478925     0.0   -2.499386\n14 2021-04-02     GAS    0.471163     0.0   -4.972376\n28 2021-04-02     VJC    0.466749     0.0   -3.014706\n13 2021-04-02     VRE    0.424017     0.0   -0.563380\n1  2021-04-02     ACB    0.381623     0.0   -1.983003\n\n[783 rows x 5 columns]",
      "text/html": "<div>\n<style scoped>\n    .dataframe tbody tr th:only-of-type {\n        vertical-align: middle;\n    }\n\n    .dataframe tbody tr th {\n        vertical-align: top;\n    }\n\n    .dataframe thead th {\n        text-align: right;\n    }\n</style>\n<table border=\"1\" class=\"dataframe\">\n  <thead>\n    <tr style=\"text-align: right;\">\n      <th></th>\n      <th>Date</th>\n      <th>company</th>\n      <th>prediction</th>\n      <th>actual</th>\n      <th>pct_change</th>\n    </tr>\n  </thead>\n  <tbody>\n    <tr>\n      <th>22</th>\n      <td>2021-01-04</td>\n      <td>TPB</td>\n      <td>0.623702</td>\n      <td>0.0</td>\n      <td>-1.075160</td>\n    </tr>\n    <tr>\n      <th>24</th>\n      <td>2021-01-05</td>\n      <td>POW</td>\n      <td>0.727479</td>\n      <td>0.0</td>\n      <td>-1.045296</td>\n    </tr>\n    <tr>\n      <th>22</th>\n      <td>2021-01-05</td>\n      <td>TPB</td>\n      <td>0.499517</td>\n      <td>0.0</td>\n      <td>-1.073238</td>\n    </tr>\n    <tr>\n      <th>27</th>\n      <td>2021-01-06</td>\n      <td>VCB</td>\n      <td>0.599137</td>\n      <td>0.0</td>\n      <td>-0.770033</td>\n    </tr>\n    <tr>\n      <th>17</th>\n      <td>2021-01-07</td>\n      <td>BID</td>\n      <td>0.623702</td>\n      <td>0.0</td>\n      <td>-1.318639</td>\n    </tr>\n    <tr>\n      <th>...</th>\n      <td>...</td>\n      <td>...</td>\n      <td>...</td>\n      <td>...</td>\n      <td>...</td>\n    </tr>\n    <tr>\n      <th>27</th>\n      <td>2021-04-02</td>\n      <td>VCB</td>\n      <td>0.478925</td>\n      <td>0.0</td>\n      <td>-2.499386</td>\n    </tr>\n    <tr>\n      <th>14</th>\n      <td>2021-04-02</td>\n      <td>GAS</td>\n      <td>0.471163</td>\n      <td>0.0</td>\n      <td>-4.972376</td>\n    </tr>\n    <tr>\n      <th>28</th>\n      <td>2021-04-02</td>\n      <td>VJC</td>\n      <td>0.466749</td>\n      <td>0.0</td>\n      <td>-3.014706</td>\n    </tr>\n    <tr>\n      <th>13</th>\n      <td>2021-04-02</td>\n      <td>VRE</td>\n      <td>0.424017</td>\n      <td>0.0</td>\n      <td>-0.563380</td>\n    </tr>\n    <tr>\n      <th>1</th>\n      <td>2021-04-02</td>\n      <td>ACB</td>\n      <td>0.381623</td>\n      <td>0.0</td>\n      <td>-1.983003</td>\n    </tr>\n  </tbody>\n</table>\n<p>783 rows × 5 columns</p>\n</div>"
     },
     "execution_count": 59,
     "metadata": {},
     "output_type": "execute_result"
    }
   ],
   "source": [
    "pred_result[pred_result['actual'] == 0]"
   ]
  },
  {
   "cell_type": "code",
   "execution_count": 60,
   "metadata": {
    "id": "FPnv_wTpQX6L",
    "outputId": "b9f11e4e-2dc2-4d25-f0de-b36a7511635e",
    "pycharm": {
     "name": "#%%\n"
    }
   },
   "outputs": [
    {
     "data": {
      "text/plain": "         Date company  prediction  actual  pct_change\n24 2021-01-04     POW    0.780389     1.0    1.792115\n3  2021-01-04     HPG    0.683716     1.0    6.937494\n16 2021-01-04     GVR    0.649584     1.0    6.879195\n23 2021-01-04     VPB    0.641302     1.0    4.999709\n25 2021-01-04     NVL    0.598157     1.0   16.308075\n..        ...     ...         ...     ...         ...\n12 2021-04-02     VIC    0.485410     1.0   11.666964\n6  2021-04-02     KDH    0.484058     1.0    0.161149\n25 2021-04-02     NVL    0.461272     1.0   11.290620\n2  2021-04-02     MBB    0.378086     1.0    2.809917\n3  2021-04-02     HPG    0.376451     1.0    1.212144\n\n[957 rows x 5 columns]",
      "text/html": "<div>\n<style scoped>\n    .dataframe tbody tr th:only-of-type {\n        vertical-align: middle;\n    }\n\n    .dataframe tbody tr th {\n        vertical-align: top;\n    }\n\n    .dataframe thead th {\n        text-align: right;\n    }\n</style>\n<table border=\"1\" class=\"dataframe\">\n  <thead>\n    <tr style=\"text-align: right;\">\n      <th></th>\n      <th>Date</th>\n      <th>company</th>\n      <th>prediction</th>\n      <th>actual</th>\n      <th>pct_change</th>\n    </tr>\n  </thead>\n  <tbody>\n    <tr>\n      <th>24</th>\n      <td>2021-01-04</td>\n      <td>POW</td>\n      <td>0.780389</td>\n      <td>1.0</td>\n      <td>1.792115</td>\n    </tr>\n    <tr>\n      <th>3</th>\n      <td>2021-01-04</td>\n      <td>HPG</td>\n      <td>0.683716</td>\n      <td>1.0</td>\n      <td>6.937494</td>\n    </tr>\n    <tr>\n      <th>16</th>\n      <td>2021-01-04</td>\n      <td>GVR</td>\n      <td>0.649584</td>\n      <td>1.0</td>\n      <td>6.879195</td>\n    </tr>\n    <tr>\n      <th>23</th>\n      <td>2021-01-04</td>\n      <td>VPB</td>\n      <td>0.641302</td>\n      <td>1.0</td>\n      <td>4.999709</td>\n    </tr>\n    <tr>\n      <th>25</th>\n      <td>2021-01-04</td>\n      <td>NVL</td>\n      <td>0.598157</td>\n      <td>1.0</td>\n      <td>16.308075</td>\n    </tr>\n    <tr>\n      <th>...</th>\n      <td>...</td>\n      <td>...</td>\n      <td>...</td>\n      <td>...</td>\n      <td>...</td>\n    </tr>\n    <tr>\n      <th>12</th>\n      <td>2021-04-02</td>\n      <td>VIC</td>\n      <td>0.485410</td>\n      <td>1.0</td>\n      <td>11.666964</td>\n    </tr>\n    <tr>\n      <th>6</th>\n      <td>2021-04-02</td>\n      <td>KDH</td>\n      <td>0.484058</td>\n      <td>1.0</td>\n      <td>0.161149</td>\n    </tr>\n    <tr>\n      <th>25</th>\n      <td>2021-04-02</td>\n      <td>NVL</td>\n      <td>0.461272</td>\n      <td>1.0</td>\n      <td>11.290620</td>\n    </tr>\n    <tr>\n      <th>2</th>\n      <td>2021-04-02</td>\n      <td>MBB</td>\n      <td>0.378086</td>\n      <td>1.0</td>\n      <td>2.809917</td>\n    </tr>\n    <tr>\n      <th>3</th>\n      <td>2021-04-02</td>\n      <td>HPG</td>\n      <td>0.376451</td>\n      <td>1.0</td>\n      <td>1.212144</td>\n    </tr>\n  </tbody>\n</table>\n<p>957 rows × 5 columns</p>\n</div>"
     },
     "execution_count": 60,
     "metadata": {},
     "output_type": "execute_result"
    }
   ],
   "source": [
    "pred_result[pred_result['actual'] == 1]"
   ]
  },
  {
   "cell_type": "code",
   "execution_count": 61,
   "metadata": {
    "id": "JDdiNH1bQX6M",
    "outputId": "82d0f50d-9aba-4223-88cd-2f19d07b0651",
    "pycharm": {
     "name": "#%%\n"
    }
   },
   "outputs": [
    {
     "data": {
      "text/plain": "         Date company  prediction  actual  pct_change\n22 2021-01-04     TPB    0.623702     0.0   -1.075160\n24 2021-01-05     POW    0.727479     0.0   -1.045296\n17 2021-01-07     BID    0.623702     0.0   -1.318639\n25 2021-01-07     NVL    0.608333     0.0   -1.103342\n24 2021-01-08     POW    0.645383     0.0   -1.773050\n..        ...     ...         ...     ...         ...\n7  2021-03-17     MWG    0.612635     0.0   -2.622157\n3  2021-03-17     HPG    0.609052     0.0   -1.070877\n7  2021-03-18     MWG    0.602818     0.0   -2.179981\n0  2021-03-31     MSN    0.743557     0.0   -0.861141\n0  2021-04-01     MSN    0.727726     0.0   -1.182796\n\n[89 rows x 5 columns]",
      "text/html": "<div>\n<style scoped>\n    .dataframe tbody tr th:only-of-type {\n        vertical-align: middle;\n    }\n\n    .dataframe tbody tr th {\n        vertical-align: top;\n    }\n\n    .dataframe thead th {\n        text-align: right;\n    }\n</style>\n<table border=\"1\" class=\"dataframe\">\n  <thead>\n    <tr style=\"text-align: right;\">\n      <th></th>\n      <th>Date</th>\n      <th>company</th>\n      <th>prediction</th>\n      <th>actual</th>\n      <th>pct_change</th>\n    </tr>\n  </thead>\n  <tbody>\n    <tr>\n      <th>22</th>\n      <td>2021-01-04</td>\n      <td>TPB</td>\n      <td>0.623702</td>\n      <td>0.0</td>\n      <td>-1.075160</td>\n    </tr>\n    <tr>\n      <th>24</th>\n      <td>2021-01-05</td>\n      <td>POW</td>\n      <td>0.727479</td>\n      <td>0.0</td>\n      <td>-1.045296</td>\n    </tr>\n    <tr>\n      <th>17</th>\n      <td>2021-01-07</td>\n      <td>BID</td>\n      <td>0.623702</td>\n      <td>0.0</td>\n      <td>-1.318639</td>\n    </tr>\n    <tr>\n      <th>25</th>\n      <td>2021-01-07</td>\n      <td>NVL</td>\n      <td>0.608333</td>\n      <td>0.0</td>\n      <td>-1.103342</td>\n    </tr>\n    <tr>\n      <th>24</th>\n      <td>2021-01-08</td>\n      <td>POW</td>\n      <td>0.645383</td>\n      <td>0.0</td>\n      <td>-1.773050</td>\n    </tr>\n    <tr>\n      <th>...</th>\n      <td>...</td>\n      <td>...</td>\n      <td>...</td>\n      <td>...</td>\n      <td>...</td>\n    </tr>\n    <tr>\n      <th>7</th>\n      <td>2021-03-17</td>\n      <td>MWG</td>\n      <td>0.612635</td>\n      <td>0.0</td>\n      <td>-2.622157</td>\n    </tr>\n    <tr>\n      <th>3</th>\n      <td>2021-03-17</td>\n      <td>HPG</td>\n      <td>0.609052</td>\n      <td>0.0</td>\n      <td>-1.070877</td>\n    </tr>\n    <tr>\n      <th>7</th>\n      <td>2021-03-18</td>\n      <td>MWG</td>\n      <td>0.602818</td>\n      <td>0.0</td>\n      <td>-2.179981</td>\n    </tr>\n    <tr>\n      <th>0</th>\n      <td>2021-03-31</td>\n      <td>MSN</td>\n      <td>0.743557</td>\n      <td>0.0</td>\n      <td>-0.861141</td>\n    </tr>\n    <tr>\n      <th>0</th>\n      <td>2021-04-01</td>\n      <td>MSN</td>\n      <td>0.727726</td>\n      <td>0.0</td>\n      <td>-1.182796</td>\n    </tr>\n  </tbody>\n</table>\n<p>89 rows × 5 columns</p>\n</div>"
     },
     "execution_count": 61,
     "metadata": {},
     "output_type": "execute_result"
    }
   ],
   "source": [
    "d1 = pred_result[pred_result['prediction'] > ratio][pred_result[pred_result['prediction'] > ratio]['actual'] == 0]\n",
    "d1"
   ]
  },
  {
   "cell_type": "code",
   "execution_count": 62,
   "metadata": {
    "id": "sqx7ags8QX6M",
    "outputId": "7d1dcf9d-6b80-4209-bd6b-022ddc23edc6",
    "pycharm": {
     "name": "#%%\n"
    }
   },
   "outputs": [
    {
     "data": {
      "text/plain": "         Date company  prediction  actual  pct_change\n24 2021-01-04     POW    0.780389     1.0    1.792115\n3  2021-01-04     HPG    0.683716     1.0    6.937494\n16 2021-01-04     GVR    0.649584     1.0    6.879195\n23 2021-01-04     VPB    0.641302     1.0    4.999709\n16 2021-01-05     GVR    0.770451     1.0    9.932660\n..        ...     ...         ...     ...         ...\n7  2021-03-23     MWG    0.623004     1.0    3.705939\n5  2021-03-23     FPT    0.604341     1.0    2.310631\n0  2021-03-26     MSN    0.617468     1.0    7.485380\n12 2021-03-26     VIC    0.609950     1.0   12.889000\n0  2021-03-30     MSN    0.603187     1.0    5.084746\n\n[92 rows x 5 columns]",
      "text/html": "<div>\n<style scoped>\n    .dataframe tbody tr th:only-of-type {\n        vertical-align: middle;\n    }\n\n    .dataframe tbody tr th {\n        vertical-align: top;\n    }\n\n    .dataframe thead th {\n        text-align: right;\n    }\n</style>\n<table border=\"1\" class=\"dataframe\">\n  <thead>\n    <tr style=\"text-align: right;\">\n      <th></th>\n      <th>Date</th>\n      <th>company</th>\n      <th>prediction</th>\n      <th>actual</th>\n      <th>pct_change</th>\n    </tr>\n  </thead>\n  <tbody>\n    <tr>\n      <th>24</th>\n      <td>2021-01-04</td>\n      <td>POW</td>\n      <td>0.780389</td>\n      <td>1.0</td>\n      <td>1.792115</td>\n    </tr>\n    <tr>\n      <th>3</th>\n      <td>2021-01-04</td>\n      <td>HPG</td>\n      <td>0.683716</td>\n      <td>1.0</td>\n      <td>6.937494</td>\n    </tr>\n    <tr>\n      <th>16</th>\n      <td>2021-01-04</td>\n      <td>GVR</td>\n      <td>0.649584</td>\n      <td>1.0</td>\n      <td>6.879195</td>\n    </tr>\n    <tr>\n      <th>23</th>\n      <td>2021-01-04</td>\n      <td>VPB</td>\n      <td>0.641302</td>\n      <td>1.0</td>\n      <td>4.999709</td>\n    </tr>\n    <tr>\n      <th>16</th>\n      <td>2021-01-05</td>\n      <td>GVR</td>\n      <td>0.770451</td>\n      <td>1.0</td>\n      <td>9.932660</td>\n    </tr>\n    <tr>\n      <th>...</th>\n      <td>...</td>\n      <td>...</td>\n      <td>...</td>\n      <td>...</td>\n      <td>...</td>\n    </tr>\n    <tr>\n      <th>7</th>\n      <td>2021-03-23</td>\n      <td>MWG</td>\n      <td>0.623004</td>\n      <td>1.0</td>\n      <td>3.705939</td>\n    </tr>\n    <tr>\n      <th>5</th>\n      <td>2021-03-23</td>\n      <td>FPT</td>\n      <td>0.604341</td>\n      <td>1.0</td>\n      <td>2.310631</td>\n    </tr>\n    <tr>\n      <th>0</th>\n      <td>2021-03-26</td>\n      <td>MSN</td>\n      <td>0.617468</td>\n      <td>1.0</td>\n      <td>7.485380</td>\n    </tr>\n    <tr>\n      <th>12</th>\n      <td>2021-03-26</td>\n      <td>VIC</td>\n      <td>0.609950</td>\n      <td>1.0</td>\n      <td>12.889000</td>\n    </tr>\n    <tr>\n      <th>0</th>\n      <td>2021-03-30</td>\n      <td>MSN</td>\n      <td>0.603187</td>\n      <td>1.0</td>\n      <td>5.084746</td>\n    </tr>\n  </tbody>\n</table>\n<p>92 rows × 5 columns</p>\n</div>"
     },
     "execution_count": 62,
     "metadata": {},
     "output_type": "execute_result"
    }
   ],
   "source": [
    "d2 = pred_result[pred_result['prediction'] > ratio][pred_result[pred_result['prediction'] > ratio]['actual'] == 1]\n",
    "d2"
   ]
  },
  {
   "cell_type": "code",
   "execution_count": 63,
   "metadata": {
    "id": "bx3faTBrQX6M",
    "outputId": "23f51855-7816-4e65-a739-25f84c0dadb7",
    "pycharm": {
     "name": "#%%\n"
    }
   },
   "outputs": [
    {
     "data": {
      "text/plain": "         Date company  prediction  actual  pct_change\n25 2021-01-04     NVL    0.598157     1.0   16.308075\n7  2021-01-04     MWG    0.578006     1.0    5.166713\n21 2021-01-04     TCB    0.567482     1.0    7.328244\n20 2021-01-04     SSI    0.567482     1.0    0.751725\n19 2021-01-04     HDB    0.566647     1.0   11.410788\n..        ...     ...         ...     ...         ...\n12 2021-04-02     VIC    0.485410     1.0   11.666964\n6  2021-04-02     KDH    0.484058     1.0    0.161149\n25 2021-04-02     NVL    0.461272     1.0   11.290620\n2  2021-04-02     MBB    0.378086     1.0    2.809917\n3  2021-04-02     HPG    0.376451     1.0    1.212144\n\n[865 rows x 5 columns]",
      "text/html": "<div>\n<style scoped>\n    .dataframe tbody tr th:only-of-type {\n        vertical-align: middle;\n    }\n\n    .dataframe tbody tr th {\n        vertical-align: top;\n    }\n\n    .dataframe thead th {\n        text-align: right;\n    }\n</style>\n<table border=\"1\" class=\"dataframe\">\n  <thead>\n    <tr style=\"text-align: right;\">\n      <th></th>\n      <th>Date</th>\n      <th>company</th>\n      <th>prediction</th>\n      <th>actual</th>\n      <th>pct_change</th>\n    </tr>\n  </thead>\n  <tbody>\n    <tr>\n      <th>25</th>\n      <td>2021-01-04</td>\n      <td>NVL</td>\n      <td>0.598157</td>\n      <td>1.0</td>\n      <td>16.308075</td>\n    </tr>\n    <tr>\n      <th>7</th>\n      <td>2021-01-04</td>\n      <td>MWG</td>\n      <td>0.578006</td>\n      <td>1.0</td>\n      <td>5.166713</td>\n    </tr>\n    <tr>\n      <th>21</th>\n      <td>2021-01-04</td>\n      <td>TCB</td>\n      <td>0.567482</td>\n      <td>1.0</td>\n      <td>7.328244</td>\n    </tr>\n    <tr>\n      <th>20</th>\n      <td>2021-01-04</td>\n      <td>SSI</td>\n      <td>0.567482</td>\n      <td>1.0</td>\n      <td>0.751725</td>\n    </tr>\n    <tr>\n      <th>19</th>\n      <td>2021-01-04</td>\n      <td>HDB</td>\n      <td>0.566647</td>\n      <td>1.0</td>\n      <td>11.410788</td>\n    </tr>\n    <tr>\n      <th>...</th>\n      <td>...</td>\n      <td>...</td>\n      <td>...</td>\n      <td>...</td>\n      <td>...</td>\n    </tr>\n    <tr>\n      <th>12</th>\n      <td>2021-04-02</td>\n      <td>VIC</td>\n      <td>0.485410</td>\n      <td>1.0</td>\n      <td>11.666964</td>\n    </tr>\n    <tr>\n      <th>6</th>\n      <td>2021-04-02</td>\n      <td>KDH</td>\n      <td>0.484058</td>\n      <td>1.0</td>\n      <td>0.161149</td>\n    </tr>\n    <tr>\n      <th>25</th>\n      <td>2021-04-02</td>\n      <td>NVL</td>\n      <td>0.461272</td>\n      <td>1.0</td>\n      <td>11.290620</td>\n    </tr>\n    <tr>\n      <th>2</th>\n      <td>2021-04-02</td>\n      <td>MBB</td>\n      <td>0.378086</td>\n      <td>1.0</td>\n      <td>2.809917</td>\n    </tr>\n    <tr>\n      <th>3</th>\n      <td>2021-04-02</td>\n      <td>HPG</td>\n      <td>0.376451</td>\n      <td>1.0</td>\n      <td>1.212144</td>\n    </tr>\n  </tbody>\n</table>\n<p>865 rows × 5 columns</p>\n</div>"
     },
     "execution_count": 63,
     "metadata": {},
     "output_type": "execute_result"
    }
   ],
   "source": [
    "d3 = pred_result[pred_result['prediction'] < ratio][pred_result[pred_result['prediction'] < ratio]['actual'] == 1]\n",
    "d3"
   ]
  },
  {
   "cell_type": "code",
   "execution_count": 64,
   "metadata": {
    "id": "eLsTbBflQX6M",
    "outputId": "e911c20a-8fbe-4737-dafe-3b94f6e3cc55",
    "pycharm": {
     "name": "#%%\n"
    }
   },
   "outputs": [
    {
     "data": {
      "text/plain": "         Date company  prediction  actual  pct_change\n22 2021-01-05     TPB    0.499517     0.0   -1.073238\n27 2021-01-06     VCB    0.599137     0.0   -0.770033\n27 2021-01-07     VCB    0.591000     0.0   -4.352194\n14 2021-01-07     GAS    0.549649     0.0   -2.265372\n18 2021-01-07     CTG    0.505050     0.0   -2.280748\n..        ...     ...         ...     ...         ...\n27 2021-04-02     VCB    0.478925     0.0   -2.499386\n14 2021-04-02     GAS    0.471163     0.0   -4.972376\n28 2021-04-02     VJC    0.466749     0.0   -3.014706\n13 2021-04-02     VRE    0.424017     0.0   -0.563380\n1  2021-04-02     ACB    0.381623     0.0   -1.983003\n\n[694 rows x 5 columns]",
      "text/html": "<div>\n<style scoped>\n    .dataframe tbody tr th:only-of-type {\n        vertical-align: middle;\n    }\n\n    .dataframe tbody tr th {\n        vertical-align: top;\n    }\n\n    .dataframe thead th {\n        text-align: right;\n    }\n</style>\n<table border=\"1\" class=\"dataframe\">\n  <thead>\n    <tr style=\"text-align: right;\">\n      <th></th>\n      <th>Date</th>\n      <th>company</th>\n      <th>prediction</th>\n      <th>actual</th>\n      <th>pct_change</th>\n    </tr>\n  </thead>\n  <tbody>\n    <tr>\n      <th>22</th>\n      <td>2021-01-05</td>\n      <td>TPB</td>\n      <td>0.499517</td>\n      <td>0.0</td>\n      <td>-1.073238</td>\n    </tr>\n    <tr>\n      <th>27</th>\n      <td>2021-01-06</td>\n      <td>VCB</td>\n      <td>0.599137</td>\n      <td>0.0</td>\n      <td>-0.770033</td>\n    </tr>\n    <tr>\n      <th>27</th>\n      <td>2021-01-07</td>\n      <td>VCB</td>\n      <td>0.591000</td>\n      <td>0.0</td>\n      <td>-4.352194</td>\n    </tr>\n    <tr>\n      <th>14</th>\n      <td>2021-01-07</td>\n      <td>GAS</td>\n      <td>0.549649</td>\n      <td>0.0</td>\n      <td>-2.265372</td>\n    </tr>\n    <tr>\n      <th>18</th>\n      <td>2021-01-07</td>\n      <td>CTG</td>\n      <td>0.505050</td>\n      <td>0.0</td>\n      <td>-2.280748</td>\n    </tr>\n    <tr>\n      <th>...</th>\n      <td>...</td>\n      <td>...</td>\n      <td>...</td>\n      <td>...</td>\n      <td>...</td>\n    </tr>\n    <tr>\n      <th>27</th>\n      <td>2021-04-02</td>\n      <td>VCB</td>\n      <td>0.478925</td>\n      <td>0.0</td>\n      <td>-2.499386</td>\n    </tr>\n    <tr>\n      <th>14</th>\n      <td>2021-04-02</td>\n      <td>GAS</td>\n      <td>0.471163</td>\n      <td>0.0</td>\n      <td>-4.972376</td>\n    </tr>\n    <tr>\n      <th>28</th>\n      <td>2021-04-02</td>\n      <td>VJC</td>\n      <td>0.466749</td>\n      <td>0.0</td>\n      <td>-3.014706</td>\n    </tr>\n    <tr>\n      <th>13</th>\n      <td>2021-04-02</td>\n      <td>VRE</td>\n      <td>0.424017</td>\n      <td>0.0</td>\n      <td>-0.563380</td>\n    </tr>\n    <tr>\n      <th>1</th>\n      <td>2021-04-02</td>\n      <td>ACB</td>\n      <td>0.381623</td>\n      <td>0.0</td>\n      <td>-1.983003</td>\n    </tr>\n  </tbody>\n</table>\n<p>694 rows × 5 columns</p>\n</div>"
     },
     "execution_count": 64,
     "metadata": {},
     "output_type": "execute_result"
    }
   ],
   "source": [
    "d4 = pred_result[pred_result['prediction'] < ratio][pred_result[pred_result['prediction'] < ratio]['actual'] == 0]\n",
    "d4"
   ]
  },
  {
   "cell_type": "code",
   "execution_count": 65,
   "metadata": {
    "id": "0xklhMVyQX6M",
    "outputId": "78c0a798-cafc-4e1f-91b0-664c59b1a19e",
    "pycharm": {
     "name": "#%%\n"
    }
   },
   "outputs": [
    {
     "data": {
      "text/plain": "         Date company  prediction  actual  pct_change\n24 2021-01-04     POW    0.780389     1.0    1.792115\n3  2021-01-04     HPG    0.683716     1.0    6.937494\n16 2021-01-04     GVR    0.649584     1.0    6.879195\n23 2021-01-04     VPB    0.641302     1.0    4.999709\n22 2021-01-04     TPB    0.623702     0.0   -1.075160\n..        ...     ...         ...     ...         ...\n0  2021-03-26     MSN    0.617468     1.0    7.485380\n12 2021-03-26     VIC    0.609950     1.0   12.889000\n0  2021-03-30     MSN    0.603187     1.0    5.084746\n0  2021-03-31     MSN    0.743557     0.0   -0.861141\n0  2021-04-01     MSN    0.727726     0.0   -1.182796\n\n[181 rows x 5 columns]",
      "text/html": "<div>\n<style scoped>\n    .dataframe tbody tr th:only-of-type {\n        vertical-align: middle;\n    }\n\n    .dataframe tbody tr th {\n        vertical-align: top;\n    }\n\n    .dataframe thead th {\n        text-align: right;\n    }\n</style>\n<table border=\"1\" class=\"dataframe\">\n  <thead>\n    <tr style=\"text-align: right;\">\n      <th></th>\n      <th>Date</th>\n      <th>company</th>\n      <th>prediction</th>\n      <th>actual</th>\n      <th>pct_change</th>\n    </tr>\n  </thead>\n  <tbody>\n    <tr>\n      <th>24</th>\n      <td>2021-01-04</td>\n      <td>POW</td>\n      <td>0.780389</td>\n      <td>1.0</td>\n      <td>1.792115</td>\n    </tr>\n    <tr>\n      <th>3</th>\n      <td>2021-01-04</td>\n      <td>HPG</td>\n      <td>0.683716</td>\n      <td>1.0</td>\n      <td>6.937494</td>\n    </tr>\n    <tr>\n      <th>16</th>\n      <td>2021-01-04</td>\n      <td>GVR</td>\n      <td>0.649584</td>\n      <td>1.0</td>\n      <td>6.879195</td>\n    </tr>\n    <tr>\n      <th>23</th>\n      <td>2021-01-04</td>\n      <td>VPB</td>\n      <td>0.641302</td>\n      <td>1.0</td>\n      <td>4.999709</td>\n    </tr>\n    <tr>\n      <th>22</th>\n      <td>2021-01-04</td>\n      <td>TPB</td>\n      <td>0.623702</td>\n      <td>0.0</td>\n      <td>-1.075160</td>\n    </tr>\n    <tr>\n      <th>...</th>\n      <td>...</td>\n      <td>...</td>\n      <td>...</td>\n      <td>...</td>\n      <td>...</td>\n    </tr>\n    <tr>\n      <th>0</th>\n      <td>2021-03-26</td>\n      <td>MSN</td>\n      <td>0.617468</td>\n      <td>1.0</td>\n      <td>7.485380</td>\n    </tr>\n    <tr>\n      <th>12</th>\n      <td>2021-03-26</td>\n      <td>VIC</td>\n      <td>0.609950</td>\n      <td>1.0</td>\n      <td>12.889000</td>\n    </tr>\n    <tr>\n      <th>0</th>\n      <td>2021-03-30</td>\n      <td>MSN</td>\n      <td>0.603187</td>\n      <td>1.0</td>\n      <td>5.084746</td>\n    </tr>\n    <tr>\n      <th>0</th>\n      <td>2021-03-31</td>\n      <td>MSN</td>\n      <td>0.743557</td>\n      <td>0.0</td>\n      <td>-0.861141</td>\n    </tr>\n    <tr>\n      <th>0</th>\n      <td>2021-04-01</td>\n      <td>MSN</td>\n      <td>0.727726</td>\n      <td>0.0</td>\n      <td>-1.182796</td>\n    </tr>\n  </tbody>\n</table>\n<p>181 rows × 5 columns</p>\n</div>"
     },
     "execution_count": 65,
     "metadata": {},
     "output_type": "execute_result"
    }
   ],
   "source": [
    "h = pred_result[pred_result['prediction'] > ratio]\n",
    "h"
   ]
  },
  {
   "cell_type": "code",
   "execution_count": 66,
   "outputs": [
    {
     "data": {
      "text/plain": "24    1.792115\n3     6.937494\nName: pct_change, dtype: float64"
     },
     "execution_count": 66,
     "metadata": {},
     "output_type": "execute_result"
    }
   ],
   "source": [
    "h['pct_change'][:2]"
   ],
   "metadata": {
    "collapsed": false,
    "pycharm": {
     "name": "#%%\n"
    }
   }
  },
  {
   "cell_type": "code",
   "execution_count": 67,
   "outputs": [
    {
     "data": {
      "text/plain": "59.18549071597727"
     },
     "execution_count": 67,
     "metadata": {},
     "output_type": "execute_result"
    }
   ],
   "source": [
    "sum = h['pct_change'].sum()\n",
    "sum"
   ],
   "metadata": {
    "collapsed": false,
    "pycharm": {
     "name": "#%%\n"
    }
   }
  },
  {
   "cell_type": "code",
   "execution_count": 68,
   "metadata": {
    "id": "-gGd9ktlQX6M",
    "outputId": "14df5cbe-8d79-425a-86a1-e034caf847cf",
    "pycharm": {
     "name": "#%%\n"
    }
   },
   "outputs": [
    {
     "data": {
      "text/plain": "         Date company  prediction  actual  pct_change\n25 2021-01-04     NVL    0.598157     1.0   16.308075\n7  2021-01-04     MWG    0.578006     1.0    5.166713\n21 2021-01-04     TCB    0.567482     1.0    7.328244\n20 2021-01-04     SSI    0.567482     1.0    0.751725\n19 2021-01-04     HDB    0.566647     1.0   11.410788\n..        ...     ...         ...     ...         ...\n25 2021-04-02     NVL    0.461272     1.0   11.290620\n13 2021-04-02     VRE    0.424017     0.0   -0.563380\n1  2021-04-02     ACB    0.381623     0.0   -1.983003\n2  2021-04-02     MBB    0.378086     1.0    2.809917\n3  2021-04-02     HPG    0.376451     1.0    1.212144\n\n[1559 rows x 5 columns]",
      "text/html": "<div>\n<style scoped>\n    .dataframe tbody tr th:only-of-type {\n        vertical-align: middle;\n    }\n\n    .dataframe tbody tr th {\n        vertical-align: top;\n    }\n\n    .dataframe thead th {\n        text-align: right;\n    }\n</style>\n<table border=\"1\" class=\"dataframe\">\n  <thead>\n    <tr style=\"text-align: right;\">\n      <th></th>\n      <th>Date</th>\n      <th>company</th>\n      <th>prediction</th>\n      <th>actual</th>\n      <th>pct_change</th>\n    </tr>\n  </thead>\n  <tbody>\n    <tr>\n      <th>25</th>\n      <td>2021-01-04</td>\n      <td>NVL</td>\n      <td>0.598157</td>\n      <td>1.0</td>\n      <td>16.308075</td>\n    </tr>\n    <tr>\n      <th>7</th>\n      <td>2021-01-04</td>\n      <td>MWG</td>\n      <td>0.578006</td>\n      <td>1.0</td>\n      <td>5.166713</td>\n    </tr>\n    <tr>\n      <th>21</th>\n      <td>2021-01-04</td>\n      <td>TCB</td>\n      <td>0.567482</td>\n      <td>1.0</td>\n      <td>7.328244</td>\n    </tr>\n    <tr>\n      <th>20</th>\n      <td>2021-01-04</td>\n      <td>SSI</td>\n      <td>0.567482</td>\n      <td>1.0</td>\n      <td>0.751725</td>\n    </tr>\n    <tr>\n      <th>19</th>\n      <td>2021-01-04</td>\n      <td>HDB</td>\n      <td>0.566647</td>\n      <td>1.0</td>\n      <td>11.410788</td>\n    </tr>\n    <tr>\n      <th>...</th>\n      <td>...</td>\n      <td>...</td>\n      <td>...</td>\n      <td>...</td>\n      <td>...</td>\n    </tr>\n    <tr>\n      <th>25</th>\n      <td>2021-04-02</td>\n      <td>NVL</td>\n      <td>0.461272</td>\n      <td>1.0</td>\n      <td>11.290620</td>\n    </tr>\n    <tr>\n      <th>13</th>\n      <td>2021-04-02</td>\n      <td>VRE</td>\n      <td>0.424017</td>\n      <td>0.0</td>\n      <td>-0.563380</td>\n    </tr>\n    <tr>\n      <th>1</th>\n      <td>2021-04-02</td>\n      <td>ACB</td>\n      <td>0.381623</td>\n      <td>0.0</td>\n      <td>-1.983003</td>\n    </tr>\n    <tr>\n      <th>2</th>\n      <td>2021-04-02</td>\n      <td>MBB</td>\n      <td>0.378086</td>\n      <td>1.0</td>\n      <td>2.809917</td>\n    </tr>\n    <tr>\n      <th>3</th>\n      <td>2021-04-02</td>\n      <td>HPG</td>\n      <td>0.376451</td>\n      <td>1.0</td>\n      <td>1.212144</td>\n    </tr>\n  </tbody>\n</table>\n<p>1559 rows × 5 columns</p>\n</div>"
     },
     "execution_count": 68,
     "metadata": {},
     "output_type": "execute_result"
    }
   ],
   "source": [
    "pred_result[pred_result['prediction'] < ratio]"
   ]
  },
  {
   "cell_type": "code",
   "execution_count": 69,
   "metadata": {
    "id": "wQvja-PRQX6N",
    "outputId": "24129eca-c437-49dd-85bf-e9b1a20ac9b5",
    "pycharm": {
     "name": "#%%\n"
    }
   },
   "outputs": [
    {
     "data": {
      "text/plain": "         Date company  prediction  actual  pct_change  predict\n24 2021-01-04     POW    0.780389     1.0    1.792115        1\n3  2021-01-04     HPG    0.683716     1.0    6.937494        1\n16 2021-01-04     GVR    0.649584     1.0    6.879195        1\n23 2021-01-04     VPB    0.641302     1.0    4.999709        1\n22 2021-01-04     TPB    0.623702     0.0   -1.075160        1\n..        ...     ...         ...     ...         ...      ...\n25 2021-04-02     NVL    0.461272     1.0   11.290620        0\n13 2021-04-02     VRE    0.424017     0.0   -0.563380        0\n1  2021-04-02     ACB    0.381623     0.0   -1.983003        0\n2  2021-04-02     MBB    0.378086     1.0    2.809917        0\n3  2021-04-02     HPG    0.376451     1.0    1.212144        0\n\n[1740 rows x 6 columns]",
      "text/html": "<div>\n<style scoped>\n    .dataframe tbody tr th:only-of-type {\n        vertical-align: middle;\n    }\n\n    .dataframe tbody tr th {\n        vertical-align: top;\n    }\n\n    .dataframe thead th {\n        text-align: right;\n    }\n</style>\n<table border=\"1\" class=\"dataframe\">\n  <thead>\n    <tr style=\"text-align: right;\">\n      <th></th>\n      <th>Date</th>\n      <th>company</th>\n      <th>prediction</th>\n      <th>actual</th>\n      <th>pct_change</th>\n      <th>predict</th>\n    </tr>\n  </thead>\n  <tbody>\n    <tr>\n      <th>24</th>\n      <td>2021-01-04</td>\n      <td>POW</td>\n      <td>0.780389</td>\n      <td>1.0</td>\n      <td>1.792115</td>\n      <td>1</td>\n    </tr>\n    <tr>\n      <th>3</th>\n      <td>2021-01-04</td>\n      <td>HPG</td>\n      <td>0.683716</td>\n      <td>1.0</td>\n      <td>6.937494</td>\n      <td>1</td>\n    </tr>\n    <tr>\n      <th>16</th>\n      <td>2021-01-04</td>\n      <td>GVR</td>\n      <td>0.649584</td>\n      <td>1.0</td>\n      <td>6.879195</td>\n      <td>1</td>\n    </tr>\n    <tr>\n      <th>23</th>\n      <td>2021-01-04</td>\n      <td>VPB</td>\n      <td>0.641302</td>\n      <td>1.0</td>\n      <td>4.999709</td>\n      <td>1</td>\n    </tr>\n    <tr>\n      <th>22</th>\n      <td>2021-01-04</td>\n      <td>TPB</td>\n      <td>0.623702</td>\n      <td>0.0</td>\n      <td>-1.075160</td>\n      <td>1</td>\n    </tr>\n    <tr>\n      <th>...</th>\n      <td>...</td>\n      <td>...</td>\n      <td>...</td>\n      <td>...</td>\n      <td>...</td>\n      <td>...</td>\n    </tr>\n    <tr>\n      <th>25</th>\n      <td>2021-04-02</td>\n      <td>NVL</td>\n      <td>0.461272</td>\n      <td>1.0</td>\n      <td>11.290620</td>\n      <td>0</td>\n    </tr>\n    <tr>\n      <th>13</th>\n      <td>2021-04-02</td>\n      <td>VRE</td>\n      <td>0.424017</td>\n      <td>0.0</td>\n      <td>-0.563380</td>\n      <td>0</td>\n    </tr>\n    <tr>\n      <th>1</th>\n      <td>2021-04-02</td>\n      <td>ACB</td>\n      <td>0.381623</td>\n      <td>0.0</td>\n      <td>-1.983003</td>\n      <td>0</td>\n    </tr>\n    <tr>\n      <th>2</th>\n      <td>2021-04-02</td>\n      <td>MBB</td>\n      <td>0.378086</td>\n      <td>1.0</td>\n      <td>2.809917</td>\n      <td>0</td>\n    </tr>\n    <tr>\n      <th>3</th>\n      <td>2021-04-02</td>\n      <td>HPG</td>\n      <td>0.376451</td>\n      <td>1.0</td>\n      <td>1.212144</td>\n      <td>0</td>\n    </tr>\n  </tbody>\n</table>\n<p>1740 rows × 6 columns</p>\n</div>"
     },
     "execution_count": 69,
     "metadata": {},
     "output_type": "execute_result"
    }
   ],
   "source": [
    "x = pred_result.copy()\n",
    "x['predict'] = x['prediction'].apply(lambda x: 1 if x > ratio else 0 )\n",
    "x"
   ]
  },
  {
   "cell_type": "code",
   "execution_count": 70,
   "outputs": [
    {
     "name": "stdout",
     "output_type": "stream",
     "text": [
      "0.6\n"
     ]
    },
    {
     "data": {
      "text/plain": "                               Predict decrease /unchanged (0)  \\\nActual decrease/unchanged (0)                              694   \nActual increase (1)                                        865   \n\n                               Predict increase (1)  \nActual decrease/unchanged (0)                    89  \nActual increase (1)                              92  ",
      "text/html": "<div>\n<style scoped>\n    .dataframe tbody tr th:only-of-type {\n        vertical-align: middle;\n    }\n\n    .dataframe tbody tr th {\n        vertical-align: top;\n    }\n\n    .dataframe thead th {\n        text-align: right;\n    }\n</style>\n<table border=\"1\" class=\"dataframe\">\n  <thead>\n    <tr style=\"text-align: right;\">\n      <th></th>\n      <th>Predict decrease /unchanged (0)</th>\n      <th>Predict increase (1)</th>\n    </tr>\n  </thead>\n  <tbody>\n    <tr>\n      <th>Actual decrease/unchanged (0)</th>\n      <td>694</td>\n      <td>89</td>\n    </tr>\n    <tr>\n      <th>Actual increase (1)</th>\n      <td>865</td>\n      <td>92</td>\n    </tr>\n  </tbody>\n</table>\n</div>"
     },
     "execution_count": 70,
     "metadata": {},
     "output_type": "execute_result"
    }
   ],
   "source": [
    "print(ratio)\n",
    "cm = pd.DataFrame({\n",
    "    'Predict decrease /unchanged (0)': [len(d4), len(d3)],\n",
    "    'Predict increase (1)' :[len(d1), len(d2)]\n",
    "}, index=['Actual decrease/unchanged (0)','Actual increase (1)'])\n",
    "cm"
   ],
   "metadata": {
    "collapsed": false,
    "pycharm": {
     "name": "#%%\n"
    }
   }
  },
  {
   "cell_type": "code",
   "execution_count": 71,
   "metadata": {
    "id": "mcXNbplZQX6N",
    "outputId": "f0ec98bc-a74f-4ced-bc26-b9d33c8cd497",
    "pycharm": {
     "name": "#%%\n"
    }
   },
   "outputs": [
    {
     "name": "stdout",
     "output_type": "stream",
     "text": [
      "              precision    recall  f1-score   support\n",
      "\n",
      "         0.0       0.45      0.89      0.59       783\n",
      "         1.0       0.51      0.10      0.16       957\n",
      "\n",
      "    accuracy                           0.45      1740\n",
      "   macro avg       0.48      0.49      0.38      1740\n",
      "weighted avg       0.48      0.45      0.36      1740\n",
      "\n"
     ]
    }
   ],
   "source": [
    "from sklearn.metrics import classification_report\n",
    "print(classification_report(x['actual'], x['predict']))"
   ]
  },
  {
   "cell_type": "markdown",
   "source": [],
   "metadata": {
    "collapsed": false,
    "pycharm": {
     "name": "#%% md\n"
    }
   }
  },
  {
   "cell_type": "code",
   "execution_count": 71,
   "outputs": [],
   "source": [],
   "metadata": {
    "collapsed": false,
    "pycharm": {
     "name": "#%%\n"
    }
   }
  },
  {
   "cell_type": "code",
   "execution_count": 71,
   "outputs": [],
   "source": [],
   "metadata": {
    "collapsed": false,
    "pycharm": {
     "name": "#%%\n"
    }
   }
  }
 ],
 "metadata": {
  "colab": {
   "name": "RunModel.ipynb",
   "provenance": []
  },
  "kernelspec": {
   "display_name": "Python 3 (ipykernel)",
   "language": "python",
   "name": "python3"
  },
  "language_info": {
   "codemirror_mode": {
    "name": "ipython",
    "version": 3
   },
   "file_extension": ".py",
   "mimetype": "text/x-python",
   "name": "python",
   "nbconvert_exporter": "python",
   "pygments_lexer": "ipython3",
   "version": "3.9.6"
  }
 },
 "nbformat": 4,
 "nbformat_minor": 1
}